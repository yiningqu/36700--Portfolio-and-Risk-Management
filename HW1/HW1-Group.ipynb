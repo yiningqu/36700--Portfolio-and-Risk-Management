{
 "cells": [
  {
   "cell_type": "markdown",
   "id": "a97c4251",
   "metadata": {},
   "source": [
    "# Homework 1\n",
    "\n",
    "## FINM 36700 - 2023\n",
    "\n",
    "### UChicago Financial Mathematics\n",
    "\n",
    "* Mark Hendricks\n",
    "* hendricks@uchicago.edu\n",
    "\n",
    "## HBS Case\n",
    "\n",
    "### *The Harvard Management Company and Inflation-Indexed Bonds*"
   ]
  },
  {
   "cell_type": "markdown",
   "id": "cef92ba4",
   "metadata": {},
   "source": [
    "### Notation\n",
    "(Hidden LaTeX commands)\n",
    "\n",
    "$$\\newcommand{\\mux}{\\tilde{\\boldsymbol{\\mu}}}$$\n",
    "$$\\newcommand{\\wtan}{\\boldsymbol{\\text{w}}^{\\text{tan}}}$$\n",
    "$$\\newcommand{\\wtarg}{\\boldsymbol{\\text{w}}^{\\text{port}}}$$\n",
    "$$\\newcommand{\\mutarg}{\\tilde{\\boldsymbol{\\mu}}^{\\text{port}}}$$\n",
    "$$\\newcommand{\\wEW}{\\boldsymbol{\\text{w}}^{\\text{EW}}}$$\n",
    "$$\\newcommand{\\wRP}{\\boldsymbol{\\text{w}}^{\\text{RP}}}$$\n",
    "$$\\newcommand{\\wREG}{\\boldsymbol{\\text{w}}^{\\text{REG}}}$$"
   ]
  },
  {
   "cell_type": "markdown",
   "id": "cbb624b4",
   "metadata": {},
   "source": [
    "***"
   ]
  },
  {
   "cell_type": "markdown",
   "id": "31dfdadc",
   "metadata": {},
   "source": [
    "# 1. HMC's Approach\n",
    "\n",
    "**Section 1 is not graded**, and you do not need to submit your answers. But you are encouraged to think about them, and we will discuss them."
   ]
  },
  {
   "cell_type": "markdown",
   "id": "77eafffb",
   "metadata": {},
   "source": [
    "### 1. \n",
    "There are thousands of individual risky assets in which HMC can invest.  Explain why MV optimization across 1,000 securities is infeasible.\n",
    "\n"
   ]
  },
  {
   "cell_type": "markdown",
   "id": "ad67e11c",
   "metadata": {},
   "source": [
    "### 2.\n",
    "Rather than optimize across all securities directly, HMC runs a two-stage optimization.\n",
    "1. They build asset class portfolios with each one optimized over the securities of the specific asset class.  \n",
    "2. HMC combines the asset-class portfolios into one total optimized portfolio.\n",
    "\n",
    "In order for the two-stage optimization to be a good approximation of the full MV-optimization on all assets, what must be true of the partition of securities into asset classes?\n",
    "\n",
    "### 3.\n",
    "Should TIPS form a new asset class or be grouped into one of the other 11 classes?\n",
    "\n",
    "### 4. \n",
    "Why does HMC focus on real returns when analyzing its portfolio allocation? Is this just a matter of scaling, or does using real returns versus nominal returns potentially change the MV solution?\n",
    "\n",
    "### 5.\n",
    "The case discusses the fact that Harvard places bounds on the portfolio allocation rather than implementing whatever numbers come out of the MV optimization problem.\n",
    "\n",
    "How might we adjust the stated optimization problem in the lecture notes to reflect the extra constraints Harvard is using in their bounded solutions given in Exhibits 5 and 6. Just consider how we might rewrite the optimization; don’t try to solve this extra-constrained optimization.\n",
    "\n",
    "### 6. \n",
    "Exhibits 5 shows zero allocation to domestic equities and domestic bonds across the entire computed range of targeted returns, (5.75% to 7.25%). Conceptually, why is the constraint binding in all these cases? What would the unconstrained portfolio want to do with those allocations and why?\n",
    "\n",
    "### 7.\n",
    "Exhibit 6 changes the constraints, (tightening them in most cases.) How much deterioration do we see in the mean-variance tradeoff that Harvard achieved?"
   ]
  },
  {
   "cell_type": "markdown",
   "id": "f7d7adf1",
   "metadata": {},
   "source": [
    "***"
   ]
  },
  {
   "cell_type": "markdown",
   "id": "d1614003",
   "metadata": {},
   "source": [
    "# 2 Mean-Variance Optimization\n",
    "\n",
    "<i>This section is graded for a good-faith effort by your group. Submit your write-up- along with your supporting code. \n",
    "    \n",
    "    Don't just submit code or messy numbers; submit a coherent write-up based on your work.</i>\n",
    "\n",
    "### Data\n",
    "You will need the file in the github repo, `data/multi_asset_etf_data.xlsx`.\n",
    "- The time-series data gives monthly returns for the 11 asset classes and a short-term Treasury-bill fund return, (\"SHV\",) which we consider as the risk-free rate.\n",
    "- The data is provided in total returns, (in which case you should ignore the SHV column,) as well as excess returns, (where SHV has been subtracted from the other columns.)\n",
    "- These are nominal returns-they are not adjusted for inflation, and in our calculations we are not making any adjustment for inflation.\n",
    "- The exhibit data that comes via Harvard with the case is unnecessary for our analysis.\n",
    "\n",
    "### Model\n",
    "We are going to analyze the problem in terms of **excess** returns.\n",
    "- Thus, you will focus on the `Excess Returns` section of the lecture notes, especially the formulas on slide 50.\n",
    "- Be sure to use the`excess returns` tab of the data.\n",
    "\n",
    "### Format\n",
    "In the questions below, **annualize the statistics** you report.\n",
    "- Annualize the mean of monthly returns with a scaling of 12.\n",
    "- Annualize the volatility of monthly returns with a scaling of $\\sqrt{12}$\n",
    "- The Sharpe Ratio is the mean return divided by the volatility of returns. Accordingly, we can annualize the Sharpe Ratio with a scaling of $\\sqrt{12}$\n",
    "- Note that we are not scaling the raw timeseries data, just the statistics computed from it (mean, vol, Sharpe). "
   ]
  },
  {
   "cell_type": "markdown",
   "id": "afa47172",
   "metadata": {},
   "source": [
    "### Footnotes\n",
    "\n",
    "#### Data File\n",
    "* The case does not give time-series data, so this data has been compiled outside of the case, and it intends to represent the main asset classes under consideration via various ETFs. For details on the specific securities/indexes, check the “Info” tab of the data.\n",
    "\n",
    "#### Risk-free rate\n",
    "* In the lecture-note we considered a constant risk-free rate. It is okay that our risk-free rate changes over time, but the assumption is that investors know it’s value one-period ahead of time. Thus, at any given point in time, it is a risk-free rate for the next period. (This is often discussed as the \"bank account\" or \"money market account\" in other settings."
   ]
  },
  {
   "cell_type": "markdown",
   "id": "d3962427",
   "metadata": {},
   "source": [
    "## 1. Summary Statistics\n",
    "* Calculate and display the mean and volatility of each asset’s excess return. (Recall we use volatility to refer to standard deviation.)\n",
    "* Which assets have the best and worst Sharpe ratios? Recall that the Sharpe Ratio is simply the ratio of the mean-to-volatility of excess returns:\n",
    "$$\\text{sharpe ratio of investment }i = \\frac{\\mux_i}{\\sigma_i}$$\n",
    "\n"
   ]
  },
  {
   "cell_type": "code",
   "execution_count": 3,
   "id": "89950b9b",
   "metadata": {},
   "outputs": [
    {
     "name": "stdout",
     "output_type": "stream",
     "text": [
      "Mean\n",
      " BWX   -0.0018\n",
      "DBC    0.0254\n",
      "EEM    0.0649\n",
      "EFA    0.0816\n",
      "HYG    0.0642\n",
      "IEF    0.0143\n",
      "IYR    0.1295\n",
      "PSP    0.0799\n",
      "QAI    0.0190\n",
      "SPY    0.1437\n",
      "TIP    0.0223\n",
      "dtype: float64\n"
     ]
    }
   ],
   "source": [
    "import math\n",
    "import pandas as pd\n",
    "import numpy as np\n",
    "pd.options.display.float_format = \"{:,.4f}\".format\n",
    "\n",
    "import matplotlib.pyplot as plt\n",
    "import seaborn as sns\n",
    "\n",
    "import statsmodels.api as sm\n",
    "from sklearn.linear_model import LinearRegression\n",
    "\n",
    "import warnings\n",
    "warnings.filterwarnings(\"ignore\")\n",
    "\n",
    "df = pd.read_excel('/Users/yiningqu/Desktop/研究生/36700 - Portfolio and Risk Management/multi_asset_etf_data.xlsx', sheet_name='excess returns', index_col='Date')\n",
    "mean_returns = df.mean()\n",
    "annualized_mean = mean_returns * 12\n",
    "print('Mean\\n', annualized_mean)"
   ]
  },
  {
   "cell_type": "code",
   "execution_count": 4,
   "id": "e0644124",
   "metadata": {},
   "outputs": [
    {
     "name": "stdout",
     "output_type": "stream",
     "text": [
      "Volatility\n",
      " BWX   0.0834\n",
      "DBC   0.1790\n",
      "EEM   0.1965\n",
      "EFA   0.1660\n",
      "HYG   0.0892\n",
      "IEF   0.0624\n",
      "IYR   0.1871\n",
      "PSP   0.2274\n",
      "QAI   0.0508\n",
      "SPY   0.1477\n",
      "TIP   0.0515\n",
      "dtype: float64\n"
     ]
    }
   ],
   "source": [
    "vol_returns = df.std()\n",
    "annualized_vol = vol_returns * math.sqrt(12)\n",
    "print('Volatility\\n', annualized_vol)"
   ]
  },
  {
   "cell_type": "code",
   "execution_count": 5,
   "id": "ab115b3d",
   "metadata": {},
   "outputs": [
    {
     "name": "stdout",
     "output_type": "stream",
     "text": [
      "Sharpe Ratio\n",
      " BWX   -0.0221\n",
      "DBC    0.1422\n",
      "EEM    0.3302\n",
      "EFA    0.4916\n",
      "HYG    0.7197\n",
      "IEF    0.2287\n",
      "IYR    0.6920\n",
      "PSP    0.3516\n",
      "QAI    0.3734\n",
      "SPY    0.9732\n",
      "TIP    0.4332\n",
      "dtype: float64\n",
      "Asset class with highest sharpe ratio is  SPY\n",
      "Asset class with lowest sharpe ratio is  BWX\n"
     ]
    }
   ],
   "source": [
    "sharpe_ratio = annualized_mean/ annualized_vol\n",
    "sr_array = np.array(sharpe_ratio)\n",
    "print('Sharpe Ratio\\n', sharpe_ratio)\n",
    "sr_max = df.columns[np.argmax(sr_array)]\n",
    "sr_min = df.columns[np.argmin(sr_array)]\n",
    "print('Asset class with highest sharpe ratio is ', sr_max)\n",
    "print('Asset class with lowest sharpe ratio is ', sr_min)"
   ]
  },
  {
   "cell_type": "markdown",
   "id": "e81c5504",
   "metadata": {},
   "source": [
    "# 2. Descriptive Analysis\n",
    "* Calculate the correlation matrix of the returns. Which pair has the highest correlation? And the lowest?\n",
    "* How well have TIPS done in our sample? Have they outperformed domestic bonds? Foreign bonds?\n",
    "\n"
   ]
  },
  {
   "cell_type": "code",
   "execution_count": 6,
   "id": "2857a751",
   "metadata": {},
   "outputs": [
    {
     "data": {
      "text/plain": [
       "<Axes: >"
      ]
     },
     "execution_count": 6,
     "metadata": {},
     "output_type": "execute_result"
    },
    {
     "data": {
      "image/png": "[encoded data removed]",
      "text/plain": [
       "<Figure size 720x720 with 2 Axes>"
      ]
     },
     "metadata": {
      "needs_background": "light"
     },
     "output_type": "display_data"
    }
   ],
   "source": [
    "fig, ax = plt.subplots(figsize=(10,10))\n",
    "corr_matrix = df.corr()\n",
    "sns.heatmap(corr_matrix, \n",
    "        xticklabels=corr_matrix.columns,\n",
    "        yticklabels=corr_matrix.columns, annot=True)"
   ]
  },
  {
   "cell_type": "code",
   "execution_count": 7,
   "id": "4eec18d0",
   "metadata": {},
   "outputs": [
    {
     "name": "stdout",
     "output_type": "stream",
     "text": [
      "The highest correlation pair is  ('PSP', 'SPY')\n",
      "The highest correlation pair is  ('DBC', 'IEF')\n"
     ]
    }
   ],
   "source": [
    "stacked_corr = corr_matrix.stack()\n",
    "highest_pair = stacked_corr.nlargest(12)\n",
    "lowest_pair = stacked_corr.idxmin()\n",
    "print('The highest correlation pair is ', highest_pair.index[11])\n",
    "print('The highest correlation pair is ', lowest_pair)"
   ]
  },
  {
   "cell_type": "markdown",
   "id": "058e35fc",
   "metadata": {},
   "source": [
    "# 3. The MV frontier.\n",
    "* Compute and display the weights of the tangency portfolios: $\\wtan$.\n",
    "* Does the ranking of weights align with the ranking of Sharpe ratios?\n",
    "* Compute the mean, volatility, and Sharpe ratio for the tangency portfolio corresponding to\n",
    "$\\wtan$.\n",
    "\n"
   ]
  },
  {
   "cell_type": "code",
   "execution_count": 19,
   "id": "b8e942b1",
   "metadata": {},
   "outputs": [
    {
     "data": {
      "text/html": [
       "<div>\n",
       "<style scoped>\n",
       "    .dataframe tbody tr th:only-of-type {\n",
       "        vertical-align: middle;\n",
       "    }\n",
       "\n",
       "    .dataframe tbody tr th {\n",
       "        vertical-align: top;\n",
       "    }\n",
       "\n",
       "    .dataframe thead th {\n",
       "        text-align: right;\n",
       "    }\n",
       "</style>\n",
       "<table border=\"1\" class=\"dataframe\">\n",
       "  <thead>\n",
       "    <tr style=\"text-align: right;\">\n",
       "      <th></th>\n",
       "      <th>Tangent Weight</th>\n",
       "      <th>Sharpe Ratio</th>\n",
       "    </tr>\n",
       "  </thead>\n",
       "  <tbody>\n",
       "    <tr>\n",
       "      <th>BWX</th>\n",
       "      <td>-1.4650</td>\n",
       "      <td>-0.0221</td>\n",
       "    </tr>\n",
       "    <tr>\n",
       "      <th>DBC</th>\n",
       "      <td>0.0284</td>\n",
       "      <td>0.1422</td>\n",
       "    </tr>\n",
       "    <tr>\n",
       "      <th>EEM</th>\n",
       "      <td>0.2610</td>\n",
       "      <td>0.3302</td>\n",
       "    </tr>\n",
       "    <tr>\n",
       "      <th>EFA</th>\n",
       "      <td>0.4529</td>\n",
       "      <td>0.4916</td>\n",
       "    </tr>\n",
       "    <tr>\n",
       "      <th>HYG</th>\n",
       "      <td>1.5289</td>\n",
       "      <td>0.7197</td>\n",
       "    </tr>\n",
       "    <tr>\n",
       "      <th>IEF</th>\n",
       "      <td>1.8940</td>\n",
       "      <td>0.2287</td>\n",
       "    </tr>\n",
       "    <tr>\n",
       "      <th>IYR</th>\n",
       "      <td>-0.2428</td>\n",
       "      <td>0.6920</td>\n",
       "    </tr>\n",
       "    <tr>\n",
       "      <th>PSP</th>\n",
       "      <td>-1.2711</td>\n",
       "      <td>0.3516</td>\n",
       "    </tr>\n",
       "    <tr>\n",
       "      <th>QAI</th>\n",
       "      <td>-3.1334</td>\n",
       "      <td>0.3734</td>\n",
       "    </tr>\n",
       "    <tr>\n",
       "      <th>SPY</th>\n",
       "      <td>2.5900</td>\n",
       "      <td>0.9732</td>\n",
       "    </tr>\n",
       "    <tr>\n",
       "      <th>TIP</th>\n",
       "      <td>0.3569</td>\n",
       "      <td>0.4332</td>\n",
       "    </tr>\n",
       "  </tbody>\n",
       "</table>\n",
       "</div>"
      ],
      "text/plain": [
       "     Tangent Weight  Sharpe Ratio\n",
       "BWX         -1.4650       -0.0221\n",
       "DBC          0.0284        0.1422\n",
       "EEM          0.2610        0.3302\n",
       "EFA          0.4529        0.4916\n",
       "HYG          1.5289        0.7197\n",
       "IEF          1.8940        0.2287\n",
       "IYR         -0.2428        0.6920\n",
       "PSP         -1.2711        0.3516\n",
       "QAI         -3.1334        0.3734\n",
       "SPY          2.5900        0.9732\n",
       "TIP          0.3569        0.4332"
      ]
     },
     "execution_count": 19,
     "metadata": {},
     "output_type": "execute_result"
    }
   ],
   "source": [
    "cov_matrix = df.cov()\n",
    "inv_cov = np.linalg.inv(cov_matrix)\n",
    "mean = np.array(annualized_mean)\n",
    "n_1 = np.transpose(np.ones(11))\n",
    "w_tan = (1/(n_1@inv_cov@mean))*(inv_cov@mean)\n",
    "w_tan_summary = pd.DataFrame(np.array([w_tan,sr_array]).T, columns= [\"Tangent Weight\",\"Sharpe Ratio\"], index= df.columns)\n",
    "w_tan_summary"
   ]
  },
  {
   "cell_type": "code",
   "execution_count": 20,
   "id": "37322771",
   "metadata": {},
   "outputs": [
    {
     "name": "stdout",
     "output_type": "stream",
     "text": [
      "Mean of tangency portfolio : 0.3701800531275157\n",
      "Volatility of tangency portfolio : 0.19152287863757664\n",
      "Sharpe ratio of tangency portfolio : 1.9328241918711775\n"
     ]
    }
   ],
   "source": [
    "w_tan_mean = np.transpose(w_tan)@mean\n",
    "print('Mean of tangency portfolio :', w_tan_mean)\n",
    "\n",
    "w_tan_vol = math.sqrt(np.transpose(w_tan)@cov_matrix@w_tan) * math.sqrt(12)\n",
    "print('Volatility of tangency portfolio :', w_tan_vol)\n",
    "\n",
    "w_tan_sr = w_tan_mean/w_tan_vol\n",
    "print('Sharpe ratio of tangency portfolio :', w_tan_sr)"
   ]
  },
  {
   "cell_type": "markdown",
   "id": "dd4009ce",
   "metadata": {},
   "source": [
    "# 4. TIPS\n",
    "Assess how much the tangency portfolio (and performance) change if...\n",
    "* TIPS are dropped completely from the investment set.\n",
    "* The expected excess return to TIPS is adjusted to be 0.0012 higher than what the historic sample shows.\n",
    "\n",
    "Based on the analysis, do TIPS seem to expand the investment opportunity set, implying that Harvard should consider them as a separate asset?"
   ]
  },
  {
   "cell_type": "code",
   "execution_count": 28,
   "id": "8bbf9a98",
   "metadata": {},
   "outputs": [
    {
     "data": {
      "text/html": [
       "<div>\n",
       "<style scoped>\n",
       "    .dataframe tbody tr th:only-of-type {\n",
       "        vertical-align: middle;\n",
       "    }\n",
       "\n",
       "    .dataframe tbody tr th {\n",
       "        vertical-align: top;\n",
       "    }\n",
       "\n",
       "    .dataframe thead th {\n",
       "        text-align: right;\n",
       "    }\n",
       "</style>\n",
       "<table border=\"1\" class=\"dataframe\">\n",
       "  <thead>\n",
       "    <tr style=\"text-align: right;\">\n",
       "      <th></th>\n",
       "      <th>Tangent Weight without TIPS</th>\n",
       "      <th>Tangent Weight with TIPS</th>\n",
       "    </tr>\n",
       "  </thead>\n",
       "  <tbody>\n",
       "    <tr>\n",
       "      <th>BWX</th>\n",
       "      <td>-1.5127</td>\n",
       "      <td>-1.4650</td>\n",
       "    </tr>\n",
       "    <tr>\n",
       "      <th>DBC</th>\n",
       "      <td>0.0552</td>\n",
       "      <td>0.0284</td>\n",
       "    </tr>\n",
       "    <tr>\n",
       "      <th>EEM</th>\n",
       "      <td>0.2781</td>\n",
       "      <td>0.2610</td>\n",
       "    </tr>\n",
       "    <tr>\n",
       "      <th>EFA</th>\n",
       "      <td>0.4415</td>\n",
       "      <td>0.4529</td>\n",
       "    </tr>\n",
       "    <tr>\n",
       "      <th>HYG</th>\n",
       "      <td>1.5931</td>\n",
       "      <td>1.5289</td>\n",
       "    </tr>\n",
       "    <tr>\n",
       "      <th>IEF</th>\n",
       "      <td>2.2125</td>\n",
       "      <td>1.8940</td>\n",
       "    </tr>\n",
       "    <tr>\n",
       "      <th>IYR</th>\n",
       "      <td>-0.2459</td>\n",
       "      <td>-0.2428</td>\n",
       "    </tr>\n",
       "    <tr>\n",
       "      <th>PSP</th>\n",
       "      <td>-1.3141</td>\n",
       "      <td>-1.2711</td>\n",
       "    </tr>\n",
       "    <tr>\n",
       "      <th>QAI</th>\n",
       "      <td>-3.2390</td>\n",
       "      <td>-3.1334</td>\n",
       "    </tr>\n",
       "    <tr>\n",
       "      <th>SPY</th>\n",
       "      <td>2.7314</td>\n",
       "      <td>2.5900</td>\n",
       "    </tr>\n",
       "  </tbody>\n",
       "</table>\n",
       "</div>"
      ],
      "text/plain": [
       "     Tangent Weight without TIPS  Tangent Weight with TIPS\n",
       "BWX                      -1.5127                   -1.4650\n",
       "DBC                       0.0552                    0.0284\n",
       "EEM                       0.2781                    0.2610\n",
       "EFA                       0.4415                    0.4529\n",
       "HYG                       1.5931                    1.5289\n",
       "IEF                       2.2125                    1.8940\n",
       "IYR                      -0.2459                   -0.2428\n",
       "PSP                      -1.3141                   -1.2711\n",
       "QAI                      -3.2390                   -3.1334\n",
       "SPY                       2.7314                    2.5900"
      ]
     },
     "execution_count": 28,
     "metadata": {},
     "output_type": "execute_result"
    }
   ],
   "source": [
    "df_1 = df.drop('TIP', axis = 1)\n",
    "cov_matrix1 = df_1.cov()\n",
    "inv_cov1 = np.linalg.inv(cov_matrix1)\n",
    "mean_returns_1 = df_1.mean()\n",
    "annualized_mean1 = mean_returns_1 * 12\n",
    "mean_1 = np.array(annualized_mean1)\n",
    "n_2 = np.transpose(np.ones(10))\n",
    "w_tan1 = (1/((n_2@inv_cov1)@mean_1))*(inv_cov1@mean_1)\n",
    "\n",
    "w_tan_summary2 = pd.DataFrame(np.array([w_tan1,w_tan[:-1]]).T, columns= [\"Tangent Weight without TIPS\",\"Tangent Weight with TIPS\"], index= df_1.columns)\n",
    "w_tan_summary2"
   ]
  },
  {
   "cell_type": "code",
   "execution_count": 27,
   "id": "b21b940d",
   "metadata": {},
   "outputs": [
    {
     "name": "stdout",
     "output_type": "stream",
     "text": [
      "Mean of tangency portfolio : 0.38629081629010487\n",
      "Volatility of tangency portfolio : 0.20011098937644062\n",
      "Sharpe ratio of tangency portfolio : 1.930382821522262\n"
     ]
    }
   ],
   "source": [
    "\n",
    "w_tan1_mean = np.transpose(w_tan1)@mean_1\n",
    "print('Mean of tangency portfolio :', w_tan1_mean)\n",
    "\n",
    "w_tan1_vol = math.sqrt(np.transpose(w_tan1)@cov_matrix1@w_tan1) * math.sqrt(12)\n",
    "print('Volatility of tangency portfolio :', w_tan1_vol)\n",
    "\n",
    "w_tan1_sr = w_tan1_mean/w_tan1_vol\n",
    "print('Sharpe ratio of tangency portfolio :', w_tan1_sr)\n",
    "\n"
   ]
  },
  {
   "cell_type": "code",
   "execution_count": 30,
   "id": "f0c5022c",
   "metadata": {},
   "outputs": [
    {
     "data": {
      "text/html": [
       "<div>\n",
       "<style scoped>\n",
       "    .dataframe tbody tr th:only-of-type {\n",
       "        vertical-align: middle;\n",
       "    }\n",
       "\n",
       "    .dataframe tbody tr th {\n",
       "        vertical-align: top;\n",
       "    }\n",
       "\n",
       "    .dataframe thead th {\n",
       "        text-align: right;\n",
       "    }\n",
       "</style>\n",
       "<table border=\"1\" class=\"dataframe\">\n",
       "  <thead>\n",
       "    <tr style=\"text-align: right;\">\n",
       "      <th></th>\n",
       "      <th>Tangent Weight with TIPS</th>\n",
       "      <th>Tangent Weight without TIPS</th>\n",
       "      <th>Tangent Weight with Adjusted TIPS</th>\n",
       "    </tr>\n",
       "  </thead>\n",
       "  <tbody>\n",
       "    <tr>\n",
       "      <th>BWX</th>\n",
       "      <td>-1.4650</td>\n",
       "      <td>-1.5127</td>\n",
       "      <td>-1.2629</td>\n",
       "    </tr>\n",
       "    <tr>\n",
       "      <th>DBC</th>\n",
       "      <td>0.0284</td>\n",
       "      <td>0.0552</td>\n",
       "      <td>-0.0846</td>\n",
       "    </tr>\n",
       "    <tr>\n",
       "      <th>EEM</th>\n",
       "      <td>0.2610</td>\n",
       "      <td>0.2781</td>\n",
       "      <td>0.1889</td>\n",
       "    </tr>\n",
       "    <tr>\n",
       "      <th>EFA</th>\n",
       "      <td>0.4529</td>\n",
       "      <td>0.4415</td>\n",
       "      <td>0.5012</td>\n",
       "    </tr>\n",
       "    <tr>\n",
       "      <th>HYG</th>\n",
       "      <td>1.5289</td>\n",
       "      <td>1.5931</td>\n",
       "      <td>1.2574</td>\n",
       "    </tr>\n",
       "    <tr>\n",
       "      <th>IEF</th>\n",
       "      <td>1.8940</td>\n",
       "      <td>2.2125</td>\n",
       "      <td>0.5468</td>\n",
       "    </tr>\n",
       "    <tr>\n",
       "      <th>IYR</th>\n",
       "      <td>-0.2428</td>\n",
       "      <td>-0.2459</td>\n",
       "      <td>-0.2296</td>\n",
       "    </tr>\n",
       "    <tr>\n",
       "      <th>PSP</th>\n",
       "      <td>-1.2711</td>\n",
       "      <td>-1.3141</td>\n",
       "      <td>-1.0890</td>\n",
       "    </tr>\n",
       "    <tr>\n",
       "      <th>QAI</th>\n",
       "      <td>-3.1334</td>\n",
       "      <td>-3.2390</td>\n",
       "      <td>-2.6871</td>\n",
       "    </tr>\n",
       "    <tr>\n",
       "      <th>SPY</th>\n",
       "      <td>2.5900</td>\n",
       "      <td>2.7314</td>\n",
       "      <td>1.9920</td>\n",
       "    </tr>\n",
       "  </tbody>\n",
       "</table>\n",
       "</div>"
      ],
      "text/plain": [
       "     Tangent Weight with TIPS  Tangent Weight without TIPS  \\\n",
       "BWX                   -1.4650                      -1.5127   \n",
       "DBC                    0.0284                       0.0552   \n",
       "EEM                    0.2610                       0.2781   \n",
       "EFA                    0.4529                       0.4415   \n",
       "HYG                    1.5289                       1.5931   \n",
       "IEF                    1.8940                       2.2125   \n",
       "IYR                   -0.2428                      -0.2459   \n",
       "PSP                   -1.2711                      -1.3141   \n",
       "QAI                   -3.1334                      -3.2390   \n",
       "SPY                    2.5900                       2.7314   \n",
       "\n",
       "     Tangent Weight with Adjusted TIPS  \n",
       "BWX                            -1.2629  \n",
       "DBC                            -0.0846  \n",
       "EEM                             0.1889  \n",
       "EFA                             0.5012  \n",
       "HYG                             1.2574  \n",
       "IEF                             0.5468  \n",
       "IYR                            -0.2296  \n",
       "PSP                            -1.0890  \n",
       "QAI                            -2.6871  \n",
       "SPY                             1.9920  "
      ]
     },
     "execution_count": 30,
     "metadata": {},
     "output_type": "execute_result"
    }
   ],
   "source": [
    "df2 = df.copy()\n",
    "df2[\"TIP\"] = df2[\"TIP\"] + 0.0012\n",
    "cov_matrix = df2.cov()\n",
    "inv_cov = np.linalg.inv(cov_matrix)\n",
    "mean_returns = df2.mean()\n",
    "annualized_mean = mean_returns * 12\n",
    "mean = np.array(annualized_mean)\n",
    "n_1 = np.transpose(np.ones(11))\n",
    "w_tan2 = (1/(n_1@inv_cov@mean))*(inv_cov@mean)\n",
    "\n",
    "w_tan_summary3 = pd.DataFrame(np.array([w_tan[:-1],w_tan1,w_tan2[:-1]]).T, columns= [\"Tangent Weight with TIPS\",\"Tangent Weight without TIPS\",\"Tangent Weight with Adjusted TIPS\"], index= df_1.columns)\n",
    "w_tan_summary3"
   ]
  },
  {
   "cell_type": "code",
   "execution_count": 31,
   "id": "7088864f",
   "metadata": {},
   "outputs": [
    {
     "name": "stdout",
     "output_type": "stream",
     "text": [
      "Mean of tangency portfolio : 0.3289084045946136\n",
      "Volatility of tangency portfolio : 0.16194669293062094\n",
      "Sharpe ratio of tangency portfolio : 2.0309670956696855\n"
     ]
    }
   ],
   "source": [
    "w_tan2_mean = np.transpose(w_tan2)@mean\n",
    "print('Mean of tangency portfolio :', w_tan2_mean)\n",
    "\n",
    "w_tan2_vol = math.sqrt(np.transpose(w_tan2)@cov_matrix@w_tan2) * math.sqrt(12)\n",
    "print('Volatility of tangency portfolio :', w_tan2_vol)\n",
    "\n",
    "w_tan2_sr = w_tan2_mean/w_tan2_vol\n",
    "print('Sharpe ratio of tangency portfolio :', w_tan2_sr)"
   ]
  },
  {
   "cell_type": "markdown",
   "id": "8d9ca6be",
   "metadata": {},
   "source": [
    "# Conclusions on TIPS\n",
    "\n",
    "* Dropping TIPS from the investment set barely impacts the weights or the resulting performance.\n",
    "* Adjusting the mean of TIPS upward even just 1 standard error substantially impacts the allocations and moderately boosts the resulting performance.\n",
    "\n",
    "Based on just a mean-variance analysis, it seems one could reasonably go either way with TIPS as an alternate asset class. In the argument to keep it separate, there is more diversification between TIPS and bonds than between SPY and many other equity buckets Harvard has. On the other hand, TIPS mostly impact the allocation to domestic bonds and might be seen as another asset in that bucket."
   ]
  },
  {
   "cell_type": "code",
   "execution_count": null,
   "id": "1ca3a001",
   "metadata": {},
   "outputs": [],
   "source": []
  },
  {
   "cell_type": "code",
   "execution_count": null,
   "id": "4fcf9afe",
   "metadata": {},
   "outputs": [],
   "source": [
    "import pandas as pd\n",
    "import numpy as np"
   ]
  },
  {
   "cell_type": "code",
   "execution_count": null,
   "id": "46c50460",
   "metadata": {},
   "outputs": [],
   "source": [
    "df = pd.read_excel('/Users/yiningqu/Desktop/multi_asset_etf_data.xlsx')\n",
    "df"
   ]
  },
  {
   "cell_type": "markdown",
   "id": "a8609d16",
   "metadata": {},
   "source": [
    "***"
   ]
  },
  {
   "cell_type": "markdown",
   "id": "c59490d8",
   "metadata": {},
   "source": [
    "# 3. Allocations\n",
    "\n",
    "<i>This section is graded for a good-faith effort by your group. Submit your write-up- along with your supporting code."
   ]
  },
  {
   "cell_type": "markdown",
   "id": "8e5eb238",
   "metadata": {},
   "source": [
    "* Continue with the same data file as the previous section.\n",
    "\n",
    "* Suppose the investor has a targeted mean excess return (per month) of $\\mutarg$ = 0.01."
   ]
  },
  {
   "cell_type": "markdown",
   "id": "1d46b44c",
   "metadata": {},
   "source": [
    "Build the following portfolios:\n",
    "\n",
    "#### Equally-weighted (EW)\n",
    "Rescale the entire weighting vector to have target mean $\\mutarg$. Thus, the $i$ element of the weight vector is,\n",
    "$$\\wEW_i = \\frac{1}{n}$$\n",
    "\n",
    "#### “Risk-parity” (RP)\n",
    "Risk-parity is a term used in a variety of ways, but here we have in mind setting the weight of the portfolio to be proportional to the inverse of its full-sample variance estimate. Thus, the $i$ element of the weight vector is,\n",
    "$$\\wRP_i = \\frac{1}{\\sigma_i^2}$$\n",
    "\n",
    "#### Regularized (REG)\n",
    "Much like the Mean-Variance portfolio, set the weights proportional to \n",
    "$$\\wREG \\sim \\widehat{\\Sigma}^{-1}\\mux$$\n",
    "but this time, use a regularized covariance matrix,\n",
    "$$\\widehat{\\Sigma} = \\frac{\\Sigma + \\Sigma_D}{2}$$\n",
    "where $\\Sigma_D$ denotes a *diagonal* matrix of the security variances, with zeros in the off-diagonals.\n",
    "\n",
    "Thus, $\\widehat{\\Sigma}$ is obtained from the usual covariance matrix, $\\Sigma$, but shrinking all the covariances to half their estimated values. \n",
    "\n",
    "\n",
    "### Comparing\n",
    "\n",
    "In order to compare all these allocation methods, (those above, along with the tangency portfolio obtained in the previous section,) rescale each weight vector, such that it has targeted mean return of $\\mutarg$.\n",
    "\n",
    "* Calculate the performance of each of these portfolios over the sample.\n",
    "* Report their mean, volatility, and Sharpe ratio. \n",
    "* How do these compare across the four allocation methods?"
   ]
  },
  {
   "cell_type": "code",
   "execution_count": 32,
   "id": "87a7cbbb",
   "metadata": {},
   "outputs": [],
   "source": [
    "import math\n",
    "import pandas as pd\n",
    "import numpy as np\n",
    "df = pd.read_excel('/Users/yiningqu/Desktop/研究生/36700 - Portfolio and Risk Management/multi_asset_etf_data.xlsx')\n",
    "excess_ret = pd.read_excel('/Users/yiningqu/Desktop/研究生/36700 - Portfolio and Risk Management/multi_asset_etf_data.xlsx',sheet_name = 'excess returns', index_col = 'Date')\n",
    "ret = pd.read_excel('/Users/yiningqu/Desktop/研究生/36700 - Portfolio and Risk Management/multi_asset_etf_data.xlsx',sheet_name = 'total returns', index_col = 'Date')\n"
   ]
  },
  {
   "cell_type": "code",
   "execution_count": 33,
   "id": "5f8502b3",
   "metadata": {},
   "outputs": [],
   "source": [
    "target_mean = 0.01 * 12"
   ]
  },
  {
   "cell_type": "code",
   "execution_count": 63,
   "id": "3a83ed3e",
   "metadata": {},
   "outputs": [
    {
     "data": {
      "text/html": [
       "<div>\n",
       "<style scoped>\n",
       "    .dataframe tbody tr th:only-of-type {\n",
       "        vertical-align: middle;\n",
       "    }\n",
       "\n",
       "    .dataframe tbody tr th {\n",
       "        vertical-align: top;\n",
       "    }\n",
       "\n",
       "    .dataframe thead th {\n",
       "        text-align: right;\n",
       "    }\n",
       "</style>\n",
       "<table border=\"1\" class=\"dataframe\">\n",
       "  <thead>\n",
       "    <tr style=\"text-align: right;\">\n",
       "      <th></th>\n",
       "      <th>mean</th>\n",
       "      <th>volatility</th>\n",
       "      <th>sharpe ratio</th>\n",
       "    </tr>\n",
       "  </thead>\n",
       "  <tbody>\n",
       "    <tr>\n",
       "      <th>Equally weighted</th>\n",
       "      <td>0.1200</td>\n",
       "      <td>0.2133</td>\n",
       "      <td>0.5627</td>\n",
       "    </tr>\n",
       "  </tbody>\n",
       "</table>\n",
       "</div>"
      ],
      "text/plain": [
       "                   mean  volatility  sharpe ratio\n",
       "Equally weighted 0.1200      0.2133        0.5627"
      ]
     },
     "execution_count": 63,
     "metadata": {},
     "output_type": "execute_result"
    }
   ],
   "source": [
    "#Equally-weighted (EW)\n",
    "ew = pd.DataFrame()\n",
    "weight1 = np.full((excess_ret.shape[1],1), 1/excess_ret.shape[1])\n",
    "#np.full((number of rows, number of columns),each entry value)\n",
    "mean = weight1.T @ np.array(excess_ret.mean() * 12)\n",
    "\n",
    "variance = weight1.T @ excess_ret.cov() @ weight1\n",
    "\n",
    "vol = math.sqrt(variance.iloc[0, 0]) *math.sqrt(12)\n",
    "\n",
    "sharpe_ratio = mean / vol\n",
    "\n",
    "rescale1 = target_mean / mean\n",
    "\n",
    "ew['mean'] = mean * rescale1\n",
    "ew['volatility'] = vol * rescale1\n",
    "ew['sharpe ratio'] = sharpe_ratio\n",
    "ew.index = ['Equally weighted']\n",
    "ew"
   ]
  },
  {
   "cell_type": "code",
   "execution_count": 55,
   "id": "ac8c6085",
   "metadata": {},
   "outputs": [
    {
     "name": "stdout",
     "output_type": "stream",
     "text": [
      "0.030114762305211918\n",
      "0.000248697687040583\n"
     ]
    },
    {
     "data": {
      "text/html": [
       "<div>\n",
       "<style scoped>\n",
       "    .dataframe tbody tr th:only-of-type {\n",
       "        vertical-align: middle;\n",
       "    }\n",
       "\n",
       "    .dataframe tbody tr th {\n",
       "        vertical-align: top;\n",
       "    }\n",
       "\n",
       "    .dataframe thead th {\n",
       "        text-align: right;\n",
       "    }\n",
       "</style>\n",
       "<table border=\"1\" class=\"dataframe\">\n",
       "  <thead>\n",
       "    <tr style=\"text-align: right;\">\n",
       "      <th></th>\n",
       "      <th>mean</th>\n",
       "      <th>volatility</th>\n",
       "      <th>sharpe ratio</th>\n",
       "    </tr>\n",
       "  </thead>\n",
       "  <tbody>\n",
       "    <tr>\n",
       "      <th>Risk-parity</th>\n",
       "      <td>0.0301</td>\n",
       "      <td>0.0546</td>\n",
       "      <td>0.5513</td>\n",
       "    </tr>\n",
       "  </tbody>\n",
       "</table>\n",
       "</div>"
      ],
      "text/plain": [
       "              mean  volatility  sharpe ratio\n",
       "Risk-parity 0.0301      0.0546        0.5513"
      ]
     },
     "execution_count": 55,
     "metadata": {},
     "output_type": "execute_result"
    }
   ],
   "source": [
    "# “Risk-parity” (RP)\n",
    "rp = pd.DataFrame()\n",
    "weight_array = np.array(1/excess_ret.std()**2)\n",
    "scale = 1/weight_array.sum()\n",
    "weight2 = np.array(scale/excess_ret.std()**2)\n",
    "\n",
    "mean = weight2.T @ np.array(excess_ret.mean() * 12)\n",
    "\n",
    "variance = weight2.T @ excess_ret.cov() @ weight2\n",
    "\n",
    "vol = math.sqrt(variance) *math.sqrt(12)\n",
    "\n",
    "sharpe_ratio = mean / vol\n",
    "\n",
    "rescale1 = target_mean / mean\n",
    "\n",
    "rp['mean'] = [mean]\n",
    "rp['volatility'] = [vol] \n",
    "rp['sharpe ratio'] = [sharpe_ratio]\n",
    "rp.index = ['Risk-parity']\n",
    "rp"
   ]
  },
  {
   "cell_type": "code",
   "execution_count": 61,
   "id": "c2f02da4",
   "metadata": {},
   "outputs": [
    {
     "data": {
      "text/html": [
       "<div>\n",
       "<style scoped>\n",
       "    .dataframe tbody tr th:only-of-type {\n",
       "        vertical-align: middle;\n",
       "    }\n",
       "\n",
       "    .dataframe tbody tr th {\n",
       "        vertical-align: top;\n",
       "    }\n",
       "\n",
       "    .dataframe thead th {\n",
       "        text-align: right;\n",
       "    }\n",
       "</style>\n",
       "<table border=\"1\" class=\"dataframe\">\n",
       "  <thead>\n",
       "    <tr style=\"text-align: right;\">\n",
       "      <th></th>\n",
       "      <th>mean</th>\n",
       "      <th>volatility</th>\n",
       "      <th>sharpe ratio</th>\n",
       "    </tr>\n",
       "  </thead>\n",
       "  <tbody>\n",
       "    <tr>\n",
       "      <th>Regularized</th>\n",
       "      <td>0.1200</td>\n",
       "      <td>0.0941</td>\n",
       "      <td>1.2753</td>\n",
       "    </tr>\n",
       "  </tbody>\n",
       "</table>\n",
       "</div>"
      ],
      "text/plain": [
       "              mean  volatility  sharpe ratio\n",
       "Regularized 0.1200      0.0941        1.2753"
      ]
     },
     "execution_count": 61,
     "metadata": {},
     "output_type": "execute_result"
    }
   ],
   "source": [
    "#Regularized (REG)\n",
    "reg = pd.DataFrame()\n",
    "\n",
    "cov_matrix = np.array(excess_ret.cov()) \n",
    "sigma_d = np.diag(np.diag(cov_matrix))\n",
    "matrix = (cov_matrix + sigma_d)/2\n",
    "weight3 = np.linalg.inv(matrix) @ np.array(excess_ret.mean() * 12)\n",
    "scale = 1/weight3.sum()\n",
    "weight_reg = (weight3 * scale)\n",
    "\n",
    "mean = weight_reg.T @ np.array(excess_ret.mean() * 12) \n",
    "\n",
    "variance = weight_reg.T @ excess_ret.cov() @ weight_reg\n",
    "vol = math.sqrt(variance) *math.sqrt(12)\n",
    "\n",
    "sharpe_ratio = mean / vol\n",
    "\n",
    "rescale2 = target_mean / mean\n",
    "\n",
    "reg['mean'] = [mean * rescale2]\n",
    "reg['volatility'] = [vol * rescale2]\n",
    "reg['sharpe ratio'] = [sharpe_ratio]\n",
    "reg.index = ['Regularized']\n",
    "reg\n",
    "\n"
   ]
  },
  {
   "cell_type": "markdown",
   "id": "23ea828b",
   "metadata": {},
   "source": [
    "***"
   ]
  },
  {
   "cell_type": "markdown",
   "id": "a2a8443d",
   "metadata": {},
   "source": [
    "# 4. Out-of-Sample Performance\n",
    "\n",
    "<i>This section is not graded, and you do not need to submit it. Still, we may discuss it in class, in which case, you would be expected to know it."
   ]
  },
  {
   "cell_type": "markdown",
   "id": "24e4b25b",
   "metadata": {},
   "source": [
    "## 1. One-step Out-of-Sample (OOS) Performance\n",
    "Let’s divide the sample to both compute a portfolio and then check its performance out of sample.\n",
    "* Using only data through the end of 2021, compute the weights built in Section 3.\n",
    "* Rescale the weights, (using just the in-sample data,) to set each allocation to have the same mean return of $\\mutarg$.\n",
    "* Using those weights, calculate the portfolio’s Sharpe ratio within that sample.\n",
    "* Again using those weights, (derived using data through 2021,) calculate the portfolio’s OOS Sharpe ratio, which is based only on performance in 2022-2023."
   ]
  },
  {
   "cell_type": "markdown",
   "id": "2281c023",
   "metadata": {},
   "source": [
    "## 2. Rolling OOS Performance\n",
    "\n",
    "Iterate the Out-of-Sample performance every year, not just the final year. Namely,\n",
    "* Start at the end of 2014, and calculate the weights through that time. Rescale them using the mean returns through that time.\n",
    "* Apply the weights to the returns in the upcoming year, (2015.)\n",
    "* Step forward a year in time, and recompute.\n",
    "* Continue until again calculating the weights through 2022 and applying them to the returns in 2023.\n",
    "\n",
    "Report the mean, volatility, and Sharpe from this dynamic approach for the following portfolios:\n",
    "* mean-variance (tangency)\n",
    "* equally-weighted\n",
    "* risk-parity\n",
    "* regularized"
   ]
  },
  {
   "cell_type": "markdown",
   "id": "99dc96f3",
   "metadata": {},
   "source": [
    "***"
   ]
  },
  {
   "cell_type": "markdown",
   "id": "665b0cf7",
   "metadata": {},
   "source": [
    "# 5. Without a Riskless Asset\n",
    "\n",
    "<i>This section is not graded, and you do not need to submit it. Still, we may discuss it in class, in which case, you would be expected to know it."
   ]
  },
  {
   "cell_type": "markdown",
   "id": "b8b1ff49",
   "metadata": {},
   "source": [
    "Re-do Section 2 above, but in the model without a risk-free rate.\n",
    "\n",
    "That is, build the MV allocation using the two-part formula in the `Mean-Variance` section of the notes.\n",
    "* This essentially substitutes the risk-free rate with the minimum-variance portfolio.\n",
    "* Now, the allocation depends nonlinearly on the target mean return, $\\mutarg$. (With a risk-free rate, we simply scale the weights up and down to achieve the mean return.)\n",
    "\n",
    "You will find that, conceptually, the answers are very similar. "
   ]
  },
  {
   "cell_type": "markdown",
   "id": "e7d5734f",
   "metadata": {},
   "source": [
    "***"
   ]
  }
 ],
 "metadata": {
  "hide_input": false,
  "kernelspec": {
   "display_name": "Python 3 (ipykernel)",
   "language": "python",
   "name": "python3"
  },
  "language_info": {
   "codemirror_mode": {
    "name": "ipython",
    "version": 3
   },
   "file_extension": ".py",
   "mimetype": "text/x-python",
   "name": "python",
   "nbconvert_exporter": "python",
   "pygments_lexer": "ipython3",
   "version": "3.8.8"
  }
 },
 "nbformat": 4,
 "nbformat_minor": 5
}
