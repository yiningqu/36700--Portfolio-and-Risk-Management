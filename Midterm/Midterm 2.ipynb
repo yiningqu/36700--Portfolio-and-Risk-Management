{
 "cells": [
  {
   "cell_type": "markdown",
   "id": "559895d2",
   "metadata": {},
   "source": [
    "# Midterm 2\n",
    "\n",
    "## FINM 36700 - 2023\n",
    "\n",
    "### UChicago Financial Mathematics\n",
    "\n",
    "* Mark Hendricks\n",
    "* hendricks@uchicago.edu"
   ]
  },
  {
   "cell_type": "markdown",
   "id": "01cde8d3",
   "metadata": {},
   "source": [
    "# Instructions"
   ]
  },
  {
   "cell_type": "markdown",
   "id": "cc273c1a",
   "metadata": {},
   "source": [
    "## Please note the following:\n",
    "\n",
    "Points\n",
    "* The exam is 100 points.\n",
    "* You have 120 minutes to complete the exam.\n",
    "* For every minute late you submit the exam, you will lose one point.\n",
    "\n",
    "\n",
    "Submission\n",
    "* You will upload your solution to the `Midterm 2` assignment on Canvas, where you downloaded this. (Be sure to **submit** on Canvas, not just **save** on Canvas.\n",
    "* Your submission should be readable, (the graders can understand your answers,) and it should **include all code used in your analysis in a file format that the code can be executed.** \n",
    "\n",
    "Rules\n",
    "* The exam is open-material, closed-communication.\n",
    "* You do not need to cite material from the course github repo--you are welcome to use the code posted there without citation.\n",
    "\n",
    "Advice\n",
    "* If you find any question to be unclear, state your interpretation and proceed. We will only answer questions of interpretation if there is a typo, error, etc.\n",
    "* The exam will be graded for partial credit."
   ]
  },
  {
   "cell_type": "markdown",
   "id": "624f27b1",
   "metadata": {},
   "source": [
    "## Data\n",
    "\n",
    "**All data files are found in the class github repo, in the `data` folder.**\n",
    "\n",
    "This exam makes use of the following data files:\n",
    "* `midterm_2_data.xlsx`\n",
    "\n",
    "This file has sheets for...\n",
    "* `info` - names and descriptions of each factor\n",
    "* `factors (excess returns)` - excess returns on several factors\n",
    "* `portfolios (excess returns)` - excess returns on industry portfolios\n",
    "* `risk-free rate` - risk-free rates over time\n",
    "\n",
    "Note the data is **monthly** so any annualizations should use `12` months in a year."
   ]
  },
  {
   "cell_type": "markdown",
   "id": "ebf6e066",
   "metadata": {},
   "source": [
    "## Scoring\n",
    "\n",
    "| Problem | Points |\n",
    "|---------|--------|\n",
    "| 1       | 30     |\n",
    "| 2       | 35     |\n",
    "| 3       | 20     |\n",
    "| 4       | 15     |"
   ]
  },
  {
   "cell_type": "markdown",
   "id": "7fb2fc26",
   "metadata": {},
   "source": [
    "### Each numbered question is worth 5 points unless otherwise specified."
   ]
  },
  {
   "cell_type": "markdown",
   "id": "cb5c2bdf",
   "metadata": {},
   "source": [
    "### Notation\n",
    "(Hidden LaTeX commands)\n",
    "\n",
    "$$\\newcommand{\\betamkt}{\\beta^{i,\\text{MKT}}}$$\n",
    "$$\\newcommand{\\betahml}{\\beta^{i,\\text{HML}}}$$\n",
    "$$\\newcommand{\\betaumd}{\\beta^{i,\\text{UMD}}}$$\n",
    "$$\\newcommand{\\Eri}{E\\left[\\tilde{r}^{i}\\right]}$$\n",
    "$$\\newcommand{\\Emkt}{E\\left[\\tilde{r}^{\\text{MKT}}\\right]}$$\n",
    "$$\\newcommand{\\Ehml}{E\\left[\\tilde{r}^{\\text{HML}}\\right]}$$\n",
    "$$\\newcommand{\\Eumd}{E\\left[\\tilde{r}^{\\text{UMD}}\\right]}$$"
   ]
  },
  {
   "cell_type": "markdown",
   "id": "81156e8f",
   "metadata": {},
   "source": [
    "# 1. Short Answer"
   ]
  },
  {
   "cell_type": "markdown",
   "id": "b2cf4bc8",
   "metadata": {},
   "source": [
    "#### No Data Needed\n",
    "\n",
    "These problems do not require any data file. Rather, analyze them conceptually. "
   ]
  },
  {
   "cell_type": "markdown",
   "id": "4ed2ec27",
   "metadata": {},
   "source": [
    "## 1.\n",
    "\n",
    "Suppose that we find a set of factors that perfectly hedge any asset. Will these factors work as a linear factor pricing model? \n",
    "\n",
    "It depends. Because based on APT, arbitrage pricing theory gives conditions for when a Linear Factor Decomposition of return variation implies a Linear Facor Pricing for risk premia. If the residuals are uncorrelated across regression, and there is no arbitrage which means that portfolio return can be perfectly replicated by the return factor x (alpha is zero) when these factors work as a linear factor pricing model. "
   ]
  },
  {
   "cell_type": "markdown",
   "id": "2de7e3f3",
   "metadata": {},
   "source": [
    "## 2.\n",
    "\n",
    "If the Fama-French 3-factor model fit perfectly, would the Treynor ratio be equal for every asset?\n",
    "\n",
    "If the Fama-French three-factor model fit perfectly, it would explain all the variations in the returns of assets due to market risk, size, and value factors. However, the Treynor ratio only considers the market beta, not the other factors that Fama-French introduces. Treynor ratio is calculated by expected excess return of an asset divided by the portfolio beta with respect to the market.\n",
    "\n",
    "Even in a scenario where the Fama-French model perfectly fits, it is unlikely that the Treynor ratio would be equal for every asset unless every asset had the same market beta and excess return over the risk-free rate. The Fama-French model accounts for more risk factors than just the market risk factor, so it provides a more nuanced view of the risks and expected returns for different assets. Therefore, assets with different sensitivities to SMB and HML factors would still have different expected returns, which could result in different Treynor ratios.\n",
    "\n",
    "In summary, even with a perfect fit of the Fama-French model, the Treynor ratio could still differ across assets because the Treynor ratio does not account for the SMB and HML factors. It only adjusts returns for market risk (beta), not for size or value risk factors."
   ]
  },
  {
   "cell_type": "markdown",
   "id": "1b269599",
   "metadata": {},
   "source": [
    "## 3.\n",
    "\n",
    "Suppose the CAPM fits perfectly. Then assets which have higher time-series r-squared metrics on the market factor will have higher Sharpe ratios.\n",
    "\n",
    "This statement assumes that a higher R^2, meaning the returns are more closely related to the market, would translate to higher expected returns (since more risk as per CAPM is market-related risk which should be rewarded with higher return) and, consequently, higher Sharpe ratios. However, this assumption does not hold true because the Sharpe ratio is influenced not only by the returns but also by the volatility of those returns.\n",
    "\n",
    "Even if CAPM fits perfectly and assets with higher R^2 are well explained by their market betas, this does not necessarily mean they will have higher Sharpe ratios. An asset could have a high R^2 with the market but also high volatility (sigma i), which could result in a lower Sharpe ratio compared to another asset with lower \n",
    "R^2 but also lower volatility.\n",
    "\n",
    "In summary, the validity of the statement hinges on the relationship between R^2, expected returns, and volatility. While CAPM would imply that market-related risk should be compensated with higher returns, it does not imply that this will automatically lead to a higher Sharpe ratio, since the Sharpe ratio also considers the standard deviation of the asset's returns."
   ]
  },
  {
   "cell_type": "markdown",
   "id": "41aa46a6",
   "metadata": {},
   "source": [
    "## 4.\n",
    "\n",
    "Based on the case, what are two ways DFA hopes to generate attractive returns for investors?\n",
    "\n",
    "- The AQR's Momentum product is a mutual fund, and thus any retail investors can invest.\n",
    "- Two characterisitcs of mutual fund:\n",
    "  1. Long-only: legally limited in their use of short positions and leverage\n",
    "  2. Open-end: had to be ready to return capital at the end of the trading day to respond to investor redemptions\n",
    "  \n",
    "- Factor-Based Investing:\n",
    "DFA seeks to capture what the firm identifies as \"dimensions\" of higher expected returns in the markets. These dimensions are factors that have been shown through academic research to explain differences in stock returns. Following the Fama-French three-factor model, DFA builds portfolios with tilts towards small-cap stocks (SMB, or Small Minus Big), value stocks (HML, or High Minus Low), and stocks with higher profitability, which they believe offer higher expected returns over the long term. By structuring portfolios around these dimensions, DFA aims to outperform markets that are weighted by market capitalization without relying on forecasting or market timing.\n",
    "\n",
    "- Efficient Trade Execution:\n",
    "DFA places a strong emphasis on reducing costs and enhancing returns through efficient trade execution. They often employ a patient trading strategy that allows them to reduce the costs associated with buying and selling securities. Instead of chasing the current market price, which can result in higher transaction costs due to market impact and timing risk, DFA may use block trades or wait for favorable pricing conditions to minimize these costs. By keeping costs low, DFA aims to improve net returns for investors."
   ]
  },
  {
   "cell_type": "markdown",
   "id": "f2a8aede",
   "metadata": {},
   "source": [
    "## 5.\n",
    "\n",
    "We analyzed a strategy similar to \"AQR's Momentum Funds\" (mutual funds.) We found this implementation had much higher returns than the momentum factor of Fama French. What was a major drawback to this construction?\n",
    "\n",
    "They are similar, but Fama-French construction has higher return and lower volatility, resulting with higher sharpe ratio. Fama-French construction allows balance between small and large stocks, whereas top 3 deciles construction could be biased towards either small or large stocks.\n",
    "\n",
    "- AQR's retail product uses a long only approach which leads to a higher correlation with the Market and has less diversification benefits compared to the benchmark index or Fama-French momentum factor.\n",
    "- Quarterly rebalancing might make the portfolio diverge from the benchmark index and Fama-French momentum factor.\n"
   ]
  },
  {
   "cell_type": "markdown",
   "id": "e990eba3",
   "metadata": {},
   "source": [
    "## 6.\n",
    "\n",
    "From our analysis, momentum has had a negative mean return since 2009. Is this evidence against momentum as a pricing factor? Explain why this is a problem or why it is not a problem.\n",
    "\n",
    "No. Because momentum has low correlation with other factors. Even it has negative mean return, it will reduce the idiosyncratic risk when adding the factor to the model. We cannot only use one characteristic to judge whethe it should be dropped from the model. "
   ]
  },
  {
   "cell_type": "markdown",
   "id": "632ce7d4",
   "metadata": {},
   "source": [
    "***"
   ]
  },
  {
   "cell_type": "markdown",
   "id": "a78ee6f4",
   "metadata": {},
   "source": [
    "# 2. Linear Factor Pricing Models (LFPMs)"
   ]
  },
  {
   "cell_type": "markdown",
   "id": "cef5b592",
   "metadata": {},
   "source": [
    "This problem tests the following LFPM:\n",
    "\n",
    "$$\\begin{align}\n",
    "\\Eri = \\betamkt \\Emkt + \\betahml \\Ehml + \\betaumd \\Eumd\n",
    "\\end{align}$$"
   ]
  },
  {
   "cell_type": "markdown",
   "id": "ec8d1b59",
   "metadata": {},
   "source": [
    "## 1.\n",
    "\n",
    "### (8 pts)\n",
    "\n",
    "Estimate the **time-series (TS)** test of this pricing model. \n",
    "\n",
    "For each asset, report the following statistics:\n",
    "* annualized alpha\n",
    "* betas\n",
    "* r-squared"
   ]
  },
  {
   "cell_type": "code",
   "execution_count": 1,
   "id": "91accdd8",
   "metadata": {},
   "outputs": [
    {
     "name": "stderr",
     "output_type": "stream",
     "text": [
      "/opt/anaconda3/lib/python3.8/site-packages/scipy/__init__.py:146: UserWarning: A NumPy version >=1.16.5 and <1.23.0 is required for this version of SciPy (detected version 1.24.4\n",
      "  warnings.warn(f\"A NumPy version >={np_minversion} and <{np_maxversion}\"\n"
     ]
    }
   ],
   "source": [
    "import numpy as np\n",
    "import pandas as pd\n",
    "import statsmodels.api as sm\n",
    "import matplotlib.pyplot as plt\n",
    "import seaborn as sns\n",
    "from statsmodels.regression.rolling import RollingOLS\n",
    "from functools import partial\n",
    "import sys\n",
    "import math\n",
    "pd.options.display.float_format = \"{:,.4f}\".format\n",
    "from sklearn.linear_model import LinearRegression\n",
    "import warnings\n",
    "warnings.filterwarnings(\"ignore\")\n",
    "import os\n",
    "from scipy.stats import norm"
   ]
  },
  {
   "cell_type": "code",
   "execution_count": 7,
   "id": "25617412",
   "metadata": {},
   "outputs": [
    {
     "data": {
      "text/html": [
       "<div>\n",
       "<style scoped>\n",
       "    .dataframe tbody tr th:only-of-type {\n",
       "        vertical-align: middle;\n",
       "    }\n",
       "\n",
       "    .dataframe tbody tr th {\n",
       "        vertical-align: top;\n",
       "    }\n",
       "\n",
       "    .dataframe thead th {\n",
       "        text-align: right;\n",
       "    }\n",
       "</style>\n",
       "<table border=\"1\" class=\"dataframe\">\n",
       "  <thead>\n",
       "    <tr style=\"text-align: right;\">\n",
       "      <th></th>\n",
       "      <th>MKT</th>\n",
       "      <th>HML</th>\n",
       "      <th>UMD</th>\n",
       "    </tr>\n",
       "    <tr>\n",
       "      <th>Date</th>\n",
       "      <th></th>\n",
       "      <th></th>\n",
       "      <th></th>\n",
       "    </tr>\n",
       "  </thead>\n",
       "  <tbody>\n",
       "    <tr>\n",
       "      <th>1980-01-31</th>\n",
       "      <td>0.0551</td>\n",
       "      <td>0.0175</td>\n",
       "      <td>0.0755</td>\n",
       "    </tr>\n",
       "    <tr>\n",
       "      <th>1980-02-29</th>\n",
       "      <td>-0.0122</td>\n",
       "      <td>0.0061</td>\n",
       "      <td>0.0788</td>\n",
       "    </tr>\n",
       "    <tr>\n",
       "      <th>1980-03-31</th>\n",
       "      <td>-0.1290</td>\n",
       "      <td>-0.0101</td>\n",
       "      <td>-0.0955</td>\n",
       "    </tr>\n",
       "    <tr>\n",
       "      <th>1980-04-30</th>\n",
       "      <td>0.0397</td>\n",
       "      <td>0.0106</td>\n",
       "      <td>-0.0043</td>\n",
       "    </tr>\n",
       "    <tr>\n",
       "      <th>1980-05-31</th>\n",
       "      <td>0.0526</td>\n",
       "      <td>0.0038</td>\n",
       "      <td>-0.0112</td>\n",
       "    </tr>\n",
       "    <tr>\n",
       "      <th>...</th>\n",
       "      <td>...</td>\n",
       "      <td>...</td>\n",
       "      <td>...</td>\n",
       "    </tr>\n",
       "    <tr>\n",
       "      <th>2023-04-30</th>\n",
       "      <td>0.0061</td>\n",
       "      <td>-0.0004</td>\n",
       "      <td>0.0162</td>\n",
       "    </tr>\n",
       "    <tr>\n",
       "      <th>2023-05-31</th>\n",
       "      <td>0.0035</td>\n",
       "      <td>-0.0772</td>\n",
       "      <td>-0.0063</td>\n",
       "    </tr>\n",
       "    <tr>\n",
       "      <th>2023-06-30</th>\n",
       "      <td>0.0646</td>\n",
       "      <td>-0.0026</td>\n",
       "      <td>-0.0237</td>\n",
       "    </tr>\n",
       "    <tr>\n",
       "      <th>2023-07-31</th>\n",
       "      <td>0.0321</td>\n",
       "      <td>0.0411</td>\n",
       "      <td>-0.0398</td>\n",
       "    </tr>\n",
       "    <tr>\n",
       "      <th>2023-08-31</th>\n",
       "      <td>-0.0239</td>\n",
       "      <td>-0.0106</td>\n",
       "      <td>0.0377</td>\n",
       "    </tr>\n",
       "  </tbody>\n",
       "</table>\n",
       "<p>524 rows × 3 columns</p>\n",
       "</div>"
      ],
      "text/plain": [
       "               MKT     HML     UMD\n",
       "Date                              \n",
       "1980-01-31  0.0551  0.0175  0.0755\n",
       "1980-02-29 -0.0122  0.0061  0.0788\n",
       "1980-03-31 -0.1290 -0.0101 -0.0955\n",
       "1980-04-30  0.0397  0.0106 -0.0043\n",
       "1980-05-31  0.0526  0.0038 -0.0112\n",
       "...            ...     ...     ...\n",
       "2023-04-30  0.0061 -0.0004  0.0162\n",
       "2023-05-31  0.0035 -0.0772 -0.0063\n",
       "2023-06-30  0.0646 -0.0026 -0.0237\n",
       "2023-07-31  0.0321  0.0411 -0.0398\n",
       "2023-08-31 -0.0239 -0.0106  0.0377\n",
       "\n",
       "[524 rows x 3 columns]"
      ]
     },
     "execution_count": 7,
     "metadata": {},
     "output_type": "execute_result"
    }
   ],
   "source": [
    "#import data\n",
    "raw_data = pd.read_excel('/Users/yiningqu/Desktop/midterm_2_data.xlsx',sheet_name = None)\n",
    "sheets = list(raw_data.keys())\n",
    "\n",
    "factors_ex = raw_data[sheets[1]].set_index('Date')\n",
    "portfolios_ex = raw_data[sheets[2]].set_index('Date')\n",
    "rf = raw_data[sheets[3]].set_index('Date')\n",
    "factors_ex"
   ]
  },
  {
   "cell_type": "code",
   "execution_count": 8,
   "id": "25812354",
   "metadata": {},
   "outputs": [],
   "source": [
    "#multiple factor time series regression\n",
    "def time_series_regression(portfolio, factors, resid = False, scale =12):\n",
    "    '''\n",
    "    Input portfolio (columns of funds to be regressed), and factors.\n",
    "    This function returns the portfolio columns as index, and regression estimates as columns\n",
    "    Function includes betas for anything included in factors\n",
    "    If resid = True, then we return the residual of each column in portfolio indexed by time\n",
    "    '''\n",
    "    \n",
    "    report = pd.DataFrame(index = portfolio.columns)\n",
    "    residual = pd.DataFrame(columns= portfolio.columns)\n",
    "\n",
    "    for col in portfolio.columns:\n",
    "        fund_ret = portfolio[col]\n",
    "        model = sm.OLS(fund_ret, sm.add_constant(factors), missing= 'drop').fit()\n",
    "        report.loc[col, 'Mean Return'] = scale * fund_ret.mean()\n",
    "        report.loc[col, 'Sharpe Ratio'] = np.sqrt(scale) * fund_ret.mean() / fund_ret.std()\n",
    "        report.loc[col, 'Alpha'] = model.params['const'] * scale\n",
    "        for i, factor in enumerate(factors.columns):\n",
    "            report.loc[col, f'{factor} Beta'] = model.params[i + 1]\n",
    "        report.loc[col, 'Information Ratio'] = np.sqrt(scale) * model.params['const'] / model.resid.std()\n",
    "        report.loc[col, 'Treynor Ratio'] = scale * portfolio[col].mean() / model.params[1]\n",
    "        report.loc[col, 'R-Squared'] = model.rsquared\n",
    "        report.loc[col, 'Tracking Error'] = (model.resid.std()*np.sqrt(scale))  \n",
    "        if resid:\n",
    "            residual[col] = model.resid\n",
    "    if resid:\n",
    "        return residual\n",
    "    return report"
   ]
  },
  {
   "cell_type": "code",
   "execution_count": 22,
   "id": "ca740176",
   "metadata": {},
   "outputs": [
    {
     "data": {
      "text/html": [
       "<div>\n",
       "<style scoped>\n",
       "    .dataframe tbody tr th:only-of-type {\n",
       "        vertical-align: middle;\n",
       "    }\n",
       "\n",
       "    .dataframe tbody tr th {\n",
       "        vertical-align: top;\n",
       "    }\n",
       "\n",
       "    .dataframe thead th {\n",
       "        text-align: right;\n",
       "    }\n",
       "</style>\n",
       "<table border=\"1\" class=\"dataframe\">\n",
       "  <thead>\n",
       "    <tr style=\"text-align: right;\">\n",
       "      <th></th>\n",
       "      <th>Alpha</th>\n",
       "      <th>R-Squared</th>\n",
       "    </tr>\n",
       "  </thead>\n",
       "  <tbody>\n",
       "    <tr>\n",
       "      <th>NoDur</th>\n",
       "      <td>0.0293</td>\n",
       "      <td>0.6179</td>\n",
       "    </tr>\n",
       "    <tr>\n",
       "      <th>Durbl</th>\n",
       "      <td>0.0107</td>\n",
       "      <td>0.6135</td>\n",
       "    </tr>\n",
       "    <tr>\n",
       "      <th>Manuf</th>\n",
       "      <td>-0.0010</td>\n",
       "      <td>0.8703</td>\n",
       "    </tr>\n",
       "    <tr>\n",
       "      <th>Enrgy</th>\n",
       "      <td>-0.0151</td>\n",
       "      <td>0.4656</td>\n",
       "    </tr>\n",
       "    <tr>\n",
       "      <th>HiTec</th>\n",
       "      <td>0.0282</td>\n",
       "      <td>0.8295</td>\n",
       "    </tr>\n",
       "    <tr>\n",
       "      <th>Telcm</th>\n",
       "      <td>0.0035</td>\n",
       "      <td>0.5881</td>\n",
       "    </tr>\n",
       "    <tr>\n",
       "      <th>Shops</th>\n",
       "      <td>0.0267</td>\n",
       "      <td>0.7422</td>\n",
       "    </tr>\n",
       "    <tr>\n",
       "      <th>Hlth</th>\n",
       "      <td>0.0319</td>\n",
       "      <td>0.5805</td>\n",
       "    </tr>\n",
       "    <tr>\n",
       "      <th>Utils</th>\n",
       "      <td>0.0137</td>\n",
       "      <td>0.3427</td>\n",
       "    </tr>\n",
       "    <tr>\n",
       "      <th>Other</th>\n",
       "      <td>-0.0198</td>\n",
       "      <td>0.9101</td>\n",
       "    </tr>\n",
       "  </tbody>\n",
       "</table>\n",
       "</div>"
      ],
      "text/plain": [
       "        Alpha  R-Squared\n",
       "NoDur  0.0293     0.6179\n",
       "Durbl  0.0107     0.6135\n",
       "Manuf -0.0010     0.8703\n",
       "Enrgy -0.0151     0.4656\n",
       "HiTec  0.0282     0.8295\n",
       "Telcm  0.0035     0.5881\n",
       "Shops  0.0267     0.7422\n",
       "Hlth   0.0319     0.5805\n",
       "Utils  0.0137     0.3427\n",
       "Other -0.0198     0.9101"
      ]
     },
     "execution_count": 22,
     "metadata": {},
     "output_type": "execute_result"
    }
   ],
   "source": [
    "ts_regression = time_series_regression(portfolios_ex, factors_ex)\n",
    "ts_regression[['Alpha', 'R-Squared']]"
   ]
  },
  {
   "cell_type": "markdown",
   "id": "31da8bdc",
   "metadata": {},
   "source": [
    "## 2.\n",
    "\n",
    "### (7pts)\n",
    "\n",
    "Estimate the **cross-sectional (CS)** test of the pricing model. \n",
    "\n",
    "Include an intercept in your cross-sectional test.\n",
    "\n",
    "Report the\n",
    "* annualized intercept\n",
    "* annualized regression coefficients\n",
    "* r-squared"
   ]
  },
  {
   "cell_type": "code",
   "execution_count": 25,
   "id": "43ddae1a",
   "metadata": {},
   "outputs": [],
   "source": [
    "def process_cs_regression(mean_data, beta_data, model_name):\n",
    "    def perform_cs_regression(mean_data, beta_data, model_name):\n",
    "        CS_result = sm.OLS(mean_data, beta_data, missing='drop').fit()\n",
    "        CS_MAE = abs(CS_result.resid).mean()\n",
    "        CS_premia = CS_result.params.to_frame(f'{model_name} Premia')\n",
    "        return CS_result, CS_MAE, CS_premia\n",
    "    CS_result, CS_MAE, premia = perform_cs_regression(mean_data, beta_data, model_name)\n",
    "    premia.rename(index=lambda x: x.replace(f' {model_name} Beta', f' {model_name}'), inplace=True)\n",
    "    return CS_result, CS_MAE, premia"
   ]
  },
  {
   "cell_type": "code",
   "execution_count": 43,
   "id": "46e3ad03",
   "metadata": {},
   "outputs": [
    {
     "data": {
      "text/html": [
       "<div>\n",
       "<style scoped>\n",
       "    .dataframe tbody tr th:only-of-type {\n",
       "        vertical-align: middle;\n",
       "    }\n",
       "\n",
       "    .dataframe tbody tr th {\n",
       "        vertical-align: top;\n",
       "    }\n",
       "\n",
       "    .dataframe thead th {\n",
       "        text-align: right;\n",
       "    }\n",
       "</style>\n",
       "<table border=\"1\" class=\"dataframe\">\n",
       "  <thead>\n",
       "    <tr style=\"text-align: right;\">\n",
       "      <th></th>\n",
       "      <th>annualized intercept</th>\n",
       "      <th>annualized market beta</th>\n",
       "      <th>annualized value beta</th>\n",
       "      <th>annualized momentum beta</th>\n",
       "      <th>R-Squared</th>\n",
       "    </tr>\n",
       "  </thead>\n",
       "  <tbody>\n",
       "    <tr>\n",
       "      <th>Mean Portfolio excess returns</th>\n",
       "      <td>0.0637</td>\n",
       "      <td>0.0027</td>\n",
       "      <td>-0.0013</td>\n",
       "      <td>0.0025</td>\n",
       "      <td>0.3662</td>\n",
       "    </tr>\n",
       "  </tbody>\n",
       "</table>\n",
       "</div>"
      ],
      "text/plain": [
       "                               annualized intercept  annualized market beta  \\\n",
       "Mean Portfolio excess returns                0.0637                  0.0027   \n",
       "\n",
       "                               annualized value beta  \\\n",
       "Mean Portfolio excess returns                -0.0013   \n",
       "\n",
       "                               annualized momentum beta  R-Squared  \n",
       "Mean Portfolio excess returns                    0.0025     0.3662  "
      ]
     },
     "execution_count": 43,
     "metadata": {},
     "output_type": "execute_result"
    }
   ],
   "source": [
    "portfolio = portfolios_ex.mean()*12.to_frame('Mean Portfolio excess returns')\n",
    "# Assuming 'factor_returns' is the DataFrame that contains the factor returns for MKT, HML, and UMD.\n",
    "cs_CAPM = time_series_regression(portfolio, ts_regression[['MKT Beta', 'HML Beta', 'UMD Beta']])\n",
    "cs_CAPM = cs_CAPM[['Alpha', 'MKT Beta Beta','HML Beta Beta', 'UMD Beta Beta', 'R-Squared' ]]\n",
    "cs_CAPM.rename(columns={'Alpha': 'annualized intercept', 'MKT Beta Beta': 'annualized market beta', 'HML Beta Beta': 'annualized value beta','UMD Beta Beta': 'annualized momentum beta','R-Squared':'R-Squared'}, inplace=True)\n",
    "cs_CAPM"
   ]
  },
  {
   "cell_type": "markdown",
   "id": "e43dcd2d",
   "metadata": {},
   "source": [
    "## 3.\n",
    "\n",
    "Report the annualized factor premia (expected excess returns of the three factors) as implied by each of the TS and CS estimations."
   ]
  },
  {
   "cell_type": "code",
   "execution_count": 29,
   "id": "4bad9fb0",
   "metadata": {},
   "outputs": [],
   "source": [
    "def performance_summary(return_data, period = 12):\n",
    "    \"\"\" \n",
    "        Returns the Performance Stats for given set of returns\n",
    "        Inputs: \n",
    "            return_data - DataFrame with Date index and Monthly Returns for different assets/strategies.\n",
    "        Output:\n",
    "            summary_stats - DataFrame with annualized mean return, vol, sharpe ratio. Skewness, Excess Kurtosis, Var (0.5) and\n",
    "                            CVaR (0.5) and drawdown based on monthly returns. \n",
    "    \"\"\"\n",
    "    summary_stats = return_data.mean().to_frame('Mean').apply(lambda x: x*period)\n",
    "    summary_stats['Volatility'] = return_data.std().apply(lambda x: x*np.sqrt(period))\n",
    "    summary_stats['Sharpe Ratio'] = summary_stats['Mean']/summary_stats['Volatility']\n",
    "    summary_stats['Skewness'] = return_data.skew()\n",
    "    summary_stats['Excess Kurtosis'] = return_data.kurtosis()\n",
    "    summary_stats['VaR (0.05)'] = return_data.quantile(.05, axis = 0)\n",
    "    summary_stats['CVaR (0.05)'] = return_data[return_data <= return_data.quantile(.05, axis = 0)].mean()\n",
    "    summary_stats['Min'] = return_data.min()\n",
    "    summary_stats['Max'] = return_data.max()\n",
    "    \n",
    "    wealth_index = 1000*(1+return_data).cumprod()\n",
    "    previous_peaks = wealth_index.cummax()\n",
    "    drawdowns = (wealth_index - previous_peaks)/previous_peaks\n",
    "\n",
    "    summary_stats['Max Drawdown'] = drawdowns.min()\n",
    "    summary_stats['Peak'] = [previous_peaks[col][:drawdowns[col].idxmin()].idxmax() for col in previous_peaks.columns]\n",
    "    summary_stats['Bottom'] = drawdowns.idxmin()\n",
    "    \n",
    "    recovery_date = []\n",
    "    for col in wealth_index.columns:\n",
    "        prev_max = previous_peaks[col][:drawdowns[col].idxmin()].max()\n",
    "        recovery_wealth = pd.DataFrame([wealth_index[col][drawdowns[col].idxmin():]]).T\n",
    "        recovery_date.append(recovery_wealth[recovery_wealth[col] >= prev_max].index.min())\n",
    "    summary_stats['Recovery'] = recovery_date\n",
    "    \n",
    "    return summary_stats"
   ]
  },
  {
   "cell_type": "code",
   "execution_count": 32,
   "id": "1f396d15",
   "metadata": {},
   "outputs": [
    {
     "data": {
      "text/html": [
       "<div>\n",
       "<style scoped>\n",
       "    .dataframe tbody tr th:only-of-type {\n",
       "        vertical-align: middle;\n",
       "    }\n",
       "\n",
       "    .dataframe tbody tr th {\n",
       "        vertical-align: top;\n",
       "    }\n",
       "\n",
       "    .dataframe thead th {\n",
       "        text-align: right;\n",
       "    }\n",
       "</style>\n",
       "<table border=\"1\" class=\"dataframe\">\n",
       "  <thead>\n",
       "    <tr style=\"text-align: right;\">\n",
       "      <th></th>\n",
       "      <th>Time Series Premia</th>\n",
       "      <th>Pricing Model Premia</th>\n",
       "    </tr>\n",
       "  </thead>\n",
       "  <tbody>\n",
       "    <tr>\n",
       "      <th>MKT Beta</th>\n",
       "      <td>0.0839</td>\n",
       "      <td>0.1021</td>\n",
       "    </tr>\n",
       "    <tr>\n",
       "      <th>HML Beta</th>\n",
       "      <td>0.0250</td>\n",
       "      <td>-0.0177</td>\n",
       "    </tr>\n",
       "    <tr>\n",
       "      <th>UMD Beta</th>\n",
       "      <td>0.0617</td>\n",
       "      <td>0.1266</td>\n",
       "    </tr>\n",
       "  </tbody>\n",
       "</table>\n",
       "</div>"
      ],
      "text/plain": [
       "          Time Series Premia  Pricing Model Premia\n",
       "MKT Beta              0.0839                0.1021\n",
       "HML Beta              0.0250               -0.0177\n",
       "UMD Beta              0.0617                0.1266"
      ]
     },
     "metadata": {},
     "output_type": "display_data"
    }
   ],
   "source": [
    "factor_summary = performance_summary(factors_ex)\n",
    "mean_ex_ret = factor_summary[['Mean']]\n",
    "mean_ex_ret = mean_ex_ret.rename(columns={'Mean': 'Time Series Premia'})\n",
    "mean_ex_ret.index = [x + ' Beta' for x in mean_ex_ret.index]\n",
    "pm_mean = ts_regression[['Mean Return']]\n",
    "pm_beta = ts_regression[['MKT Beta','HML Beta','UMD Beta']]\n",
    "pm_CS, pm_CS_MAE, pm_premia = process_cs_regression(pm_mean, pm_beta, 'Pricing Model')\n",
    "cs_premia = pd.concat([mean_ex_ret, pm_premia], axis = 1).fillna('')\n",
    "display(cs_premia)"
   ]
  },
  {
   "cell_type": "markdown",
   "id": "eb4f7e39",
   "metadata": {},
   "source": [
    "## 4.\n",
    "\n",
    "Use the r-squared statistics from the TS and CS tests above to assess whether these factors are effective for decomposition and/or pricing.\n",
    "\n",
    "Be specific as to how the r-squared statistics from the TS and CS tests impact your conclusions."
   ]
  },
  {
   "cell_type": "markdown",
   "id": "f6a6ef99",
   "metadata": {},
   "source": [
    "While roughly 60% is a pretty good fit of these factors as a linear factor decomposition, it does indicate there are possibly other factors out there that can provide more explanatory power in the variation in returns. \n",
    "\n",
    "In the cross sectional test, the R-squared value is only 36.62% which is relatively low. This indicates moderately low explainability of excess returns by decomposition on different factor models. Thus the factors may not be considered good in a Linear Factor Decomposition of the assets. We do not care much about R-squared value in time series test when assessing whether it is effective for decomposition or pricing. "
   ]
  },
  {
   "cell_type": "markdown",
   "id": "7b4a20b5",
   "metadata": {},
   "source": [
    "## 5.\n",
    "\n",
    "Report the annualized pricing mean absolute error (MAE) implied by each of the TS and CS estimations."
   ]
  },
  {
   "cell_type": "code",
   "execution_count": 47,
   "id": "40a126d1",
   "metadata": {},
   "outputs": [
    {
     "data": {
      "text/html": [
       "<div>\n",
       "<style scoped>\n",
       "    .dataframe tbody tr th:only-of-type {\n",
       "        vertical-align: middle;\n",
       "    }\n",
       "\n",
       "    .dataframe tbody tr th {\n",
       "        vertical-align: top;\n",
       "    }\n",
       "\n",
       "    .dataframe thead th {\n",
       "        text-align: right;\n",
       "    }\n",
       "</style>\n",
       "<table border=\"1\" class=\"dataframe\">\n",
       "  <thead>\n",
       "    <tr style=\"text-align: right;\">\n",
       "      <th></th>\n",
       "      <th>Time Series MAE</th>\n",
       "      <th>Cross Section MAE</th>\n",
       "    </tr>\n",
       "  </thead>\n",
       "  <tbody>\n",
       "    <tr>\n",
       "      <th>pm</th>\n",
       "      <td>0.2159</td>\n",
       "      <td>0.0118</td>\n",
       "    </tr>\n",
       "  </tbody>\n",
       "</table>\n",
       "</div>"
      ],
      "text/plain": [
       "    Time Series MAE  Cross Section MAE\n",
       "pm           0.2159             0.0118"
      ]
     },
     "metadata": {},
     "output_type": "display_data"
    }
   ],
   "source": [
    "#Mean Absolute Value\n",
    "def calculate_mae(regression_result, scale = 12):\n",
    "    return round(abs(regression_result['Alpha']).mean()*scale, 6)\n",
    "\n",
    "mae_df = pd.DataFrame({\n",
    "    'Model': ['pm'],\n",
    "    'MAE': [calculate_mae(ts_regression)]\n",
    "})\n",
    "mae_df = mae_df.set_index('Model')\n",
    "mae_df\n",
    "\n",
    "\n",
    "cs_mae = pd.Series([pm_CS_MAE], index = ['pm'])\n",
    "mae_ts = mae_df.loc[['pm']]\n",
    "mae = pd.concat([mae_ts, cs_mae], axis = 1)\n",
    "mae.columns = ['Time Series MAE', 'Cross Section MAE']\n",
    "display(mae)"
   ]
  },
  {
   "cell_type": "markdown",
   "id": "61e91b41",
   "metadata": {},
   "source": [
    "## 6.\n",
    "\n",
    "Which asset has the highest premium as implied by the TS estimation? And as implied by the CS estimation? (For the latter, feel free to include the cross-sectional intercept.)"
   ]
  },
  {
   "cell_type": "code",
   "execution_count": 48,
   "id": "e6c39150",
   "metadata": {},
   "outputs": [
    {
     "data": {
      "text/html": [
       "<div>\n",
       "<style scoped>\n",
       "    .dataframe tbody tr th:only-of-type {\n",
       "        vertical-align: middle;\n",
       "    }\n",
       "\n",
       "    .dataframe tbody tr th {\n",
       "        vertical-align: top;\n",
       "    }\n",
       "\n",
       "    .dataframe thead th {\n",
       "        text-align: right;\n",
       "    }\n",
       "</style>\n",
       "<table border=\"1\" class=\"dataframe\">\n",
       "  <thead>\n",
       "    <tr style=\"text-align: right;\">\n",
       "      <th></th>\n",
       "      <th>Alpha</th>\n",
       "      <th>R-Squared</th>\n",
       "    </tr>\n",
       "  </thead>\n",
       "  <tbody>\n",
       "    <tr>\n",
       "      <th>Hlth</th>\n",
       "      <td>0.0319</td>\n",
       "      <td>0.5805</td>\n",
       "    </tr>\n",
       "    <tr>\n",
       "      <th>NoDur</th>\n",
       "      <td>0.0293</td>\n",
       "      <td>0.6179</td>\n",
       "    </tr>\n",
       "    <tr>\n",
       "      <th>HiTec</th>\n",
       "      <td>0.0282</td>\n",
       "      <td>0.8295</td>\n",
       "    </tr>\n",
       "    <tr>\n",
       "      <th>Shops</th>\n",
       "      <td>0.0267</td>\n",
       "      <td>0.7422</td>\n",
       "    </tr>\n",
       "    <tr>\n",
       "      <th>Utils</th>\n",
       "      <td>0.0137</td>\n",
       "      <td>0.3427</td>\n",
       "    </tr>\n",
       "    <tr>\n",
       "      <th>Durbl</th>\n",
       "      <td>0.0107</td>\n",
       "      <td>0.6135</td>\n",
       "    </tr>\n",
       "    <tr>\n",
       "      <th>Telcm</th>\n",
       "      <td>0.0035</td>\n",
       "      <td>0.5881</td>\n",
       "    </tr>\n",
       "    <tr>\n",
       "      <th>Manuf</th>\n",
       "      <td>-0.0010</td>\n",
       "      <td>0.8703</td>\n",
       "    </tr>\n",
       "    <tr>\n",
       "      <th>Enrgy</th>\n",
       "      <td>-0.0151</td>\n",
       "      <td>0.4656</td>\n",
       "    </tr>\n",
       "    <tr>\n",
       "      <th>Other</th>\n",
       "      <td>-0.0198</td>\n",
       "      <td>0.9101</td>\n",
       "    </tr>\n",
       "  </tbody>\n",
       "</table>\n",
       "</div>"
      ],
      "text/plain": [
       "        Alpha  R-Squared\n",
       "Hlth   0.0319     0.5805\n",
       "NoDur  0.0293     0.6179\n",
       "HiTec  0.0282     0.8295\n",
       "Shops  0.0267     0.7422\n",
       "Utils  0.0137     0.3427\n",
       "Durbl  0.0107     0.6135\n",
       "Telcm  0.0035     0.5881\n",
       "Manuf -0.0010     0.8703\n",
       "Enrgy -0.0151     0.4656\n",
       "Other -0.0198     0.9101"
      ]
     },
     "execution_count": 48,
     "metadata": {},
     "output_type": "execute_result"
    }
   ],
   "source": [
    "ts_regression = time_series_regression(portfolios_ex, factors_ex)\n",
    "temp = ts_regression[['Alpha', 'R-Squared']].sort_values(by='Alpha', ascending=False)\n",
    "temp"
   ]
  },
  {
   "cell_type": "markdown",
   "id": "968e2c35",
   "metadata": {},
   "source": [
    "Hlth has the highest alpha value which is 3.19% among others. So Hlth has the highest premium implied by TS estimation. "
   ]
  },
  {
   "cell_type": "code",
   "execution_count": 67,
   "id": "5e95a585",
   "metadata": {},
   "outputs": [
    {
     "data": {
      "text/html": [
       "<div>\n",
       "<style scoped>\n",
       "    .dataframe tbody tr th:only-of-type {\n",
       "        vertical-align: middle;\n",
       "    }\n",
       "\n",
       "    .dataframe tbody tr th {\n",
       "        vertical-align: top;\n",
       "    }\n",
       "\n",
       "    .dataframe thead th {\n",
       "        text-align: right;\n",
       "    }\n",
       "</style>\n",
       "<table border=\"1\" class=\"dataframe\">\n",
       "  <thead>\n",
       "    <tr style=\"text-align: right;\">\n",
       "      <th></th>\n",
       "      <th>Predicted Excess Return</th>\n",
       "    </tr>\n",
       "  </thead>\n",
       "  <tbody>\n",
       "    <tr>\n",
       "      <th>NoDur</th>\n",
       "      <td>0.0657</td>\n",
       "    </tr>\n",
       "    <tr>\n",
       "      <th>Durbl</th>\n",
       "      <td>0.0671</td>\n",
       "    </tr>\n",
       "    <tr>\n",
       "      <th>Manuf</th>\n",
       "      <td>0.0665</td>\n",
       "    </tr>\n",
       "    <tr>\n",
       "      <th>Enrgy</th>\n",
       "      <td>0.0664</td>\n",
       "    </tr>\n",
       "    <tr>\n",
       "      <th>HiTec</th>\n",
       "      <td>0.0668</td>\n",
       "    </tr>\n",
       "    <tr>\n",
       "      <th>Telcm</th>\n",
       "      <td>0.0659</td>\n",
       "    </tr>\n",
       "    <tr>\n",
       "      <th>Shops</th>\n",
       "      <td>0.0662</td>\n",
       "    </tr>\n",
       "    <tr>\n",
       "      <th>Hlth</th>\n",
       "      <td>0.0657</td>\n",
       "    </tr>\n",
       "    <tr>\n",
       "      <th>Utils</th>\n",
       "      <td>0.0651</td>\n",
       "    </tr>\n",
       "    <tr>\n",
       "      <th>Other</th>\n",
       "      <td>0.0667</td>\n",
       "    </tr>\n",
       "  </tbody>\n",
       "</table>\n",
       "</div>"
      ],
      "text/plain": [
       "       Predicted Excess Return\n",
       "NoDur                   0.0657\n",
       "Durbl                   0.0671\n",
       "Manuf                   0.0665\n",
       "Enrgy                   0.0664\n",
       "HiTec                   0.0668\n",
       "Telcm                   0.0659\n",
       "Shops                   0.0662\n",
       "Hlth                    0.0657\n",
       "Utils                   0.0651\n",
       "Other                   0.0667"
      ]
     },
     "execution_count": 67,
     "metadata": {},
     "output_type": "execute_result"
    }
   ],
   "source": [
    "df = pd.DataFrame()\n",
    "\n",
    "for portfolio in portfolios_ex.columns:\n",
    "    df[portfolio] = cs_CAPM['annualized intercept'] + cs_CAPM['annualized market beta'].iloc[0]* ts_regression['MKT Beta'].loc[portfolio]\n",
    "    + cs_CAPM['annualized value beta'].iloc[0] * ts_regression['HML Beta'].loc[portfolio]\n",
    "    + cs_CAPM['annualized momentum beta'].iloc[0] *  ts_regression['UMD Beta'].loc[portfolio]\n",
    "df = df.T\n",
    "# Assuming 'df' is your DataFrame and you want to rename the 'Mean Portfolio excess returns' column to 'Predicted Return'.\n",
    "df.rename(columns={'Mean Portfolio excess returns': 'Predicted Excess Return'}, inplace=True)\n",
    "df"
   ]
  },
  {
   "cell_type": "markdown",
   "id": "5d86cdc7",
   "metadata": {},
   "source": [
    "According to the predicted value estimation, the Durbl has the highest predicted excess return. Therefore, Durbl has the highest premium."
   ]
  },
  {
   "cell_type": "markdown",
   "id": "0a8eda25",
   "metadata": {},
   "source": [
    "***"
   ]
  },
  {
   "cell_type": "markdown",
   "id": "45d9f9ca",
   "metadata": {},
   "source": [
    "# 3. Additional Analysis"
   ]
  },
  {
   "cell_type": "markdown",
   "id": "b6e16122",
   "metadata": {},
   "source": [
    "## 1. \n",
    "\n",
    "Consider the three-factor pricing model above. How can we assess whether all three factors are useful in this pricing model? \n",
    "\n",
    "Specifically, discuss whether the previously estimated regression betas would be informative. If not, what other statistic could we calculate?"
   ]
  },
  {
   "cell_type": "markdown",
   "id": "ed4aa882",
   "metadata": {},
   "source": [
    "First is through the alpha values for the ts test. In this case, the alpha value is not really high for most of the assets, which implies that three factors are useful in the pricing model. However, the MAE for the TS test is extremely high, which means these three factors are not useful in this pricing model. When we are running the CS test, the R^2 value is too low, which has low explainability of the model. Also, the premia calculated in CS departs largely from the premia calculated in TS test, which indicates these three are not useful in pricing model\n",
    "\n",
    "There are other statistics that can be included. First is the tangency portfolio, use the tangency portfolio to see whether the weights for each factor is large. If the weights for one factor is really small, it probably should be dropped in the pricing model. Also, the correlation between the factors are important. If the correlation between factors are really high, it is not a good pricing model with all these three factors. \n",
    "\n",
    "\n",
    "Alpha Values: Alpha represents the intercept term in a time-series regression and measures the average return that is not explained by the market and other factors in the model. Small alpha values for most assets suggest that the pricing model captures the asset returns well, indicating that the factors included may be useful.\n",
    "\n",
    "Mean Absolute Error (MAE): MAE measures the average magnitude of the errors in a set of predictions, without considering their direction. A high MAE in the time-series regression suggests that the model has poor predictive accuracy, indicating that the factors might not be capturing all the systematic risks affecting the assets' returns.\n",
    "\n",
    "R-Squared (R²): In the context of the cross-sectional regression, a low R-squared suggests that the model explains a small portion of the variance in returns. This could be a sign that the factors used are not adequately capturing the cross-sectional variation in returns, or that other omitted factors are at play.\n",
    "\n",
    "Discrepancy between TS and CS Premiums: If the premiums calculated in the time-series (TS) and cross-sectional (CS) tests are significantly different, this could indicate model misspecification, or that the factors behave differently in different contexts.\n",
    "\n",
    "Tangency Portfolio Weights: The tangency portfolio, which maximizes the Sharpe ratio, could indeed give insight into the importance of the factors. If the weights for a particular factor in the tangency portfolio are minimal, it might suggest that the factor has a negligible impact on the optimal risk-return trade-off and could potentially be dropped.\n",
    "\n",
    "Correlation Between Factors: High correlation between factors can lead to multicollinearity problems, which may inflate the variance of the estimated coefficients and make the model unstable. If factors are highly correlated, they may not each contribute unique information to the model, which can impair the interpretability and effectiveness of the pricing model.\n",
    "\n"
   ]
  },
  {
   "cell_type": "markdown",
   "id": "4917ec2d",
   "metadata": {},
   "source": [
    "## 2.\n",
    "\n",
    "Suppose we are testing the 3-factor model above, and now we want to allow for time-varying betas.\n",
    "\n",
    "How could we test the model while allowing for this?\n",
    "\n",
    "Be specific about the number of regressions we would run and the nature of these regressions."
   ]
  },
  {
   "cell_type": "markdown",
   "id": "09b021d0",
   "metadata": {},
   "source": [
    "If we want to allow for beta to vary over time, we can use the Fama-Macbeth procedure to deal with time-varing betas. Firstly we estimate the betat for each security i, estimate the times-series of beta t. This could be done for each t using a rolling window or other methods. So we have 10 assets, we should run 10 * 12 (if we want the monthly varing beta) regression to get beta t.\n",
    "\n",
    "Then we run the cross-sectional regression to obtain lambda t and estimates of the N pricing error vt. We have to run 12(if we need monthly varying beta)(one regression for each month) cross sectional regression to get the estimates. Then we use the sample means of the estimates for estimates of lambda we sun all the lambdat generated and divided by T ( which is 12 in my example). For estimates of v for each asset, the value should be the sume of vt divided by T. "
   ]
  },
  {
   "cell_type": "markdown",
   "id": "9b5ae486",
   "metadata": {},
   "source": [
    "## 3.\n",
    "\n",
    "State one advantage and one disadvantage of using the CS estimation as opposed to the TS estimation in fitting the LFPM to the data."
   ]
  },
  {
   "cell_type": "markdown",
   "id": "ca806236",
   "metadata": {},
   "source": [
    "Advantage of CS Estimation:\n",
    "Cross-Sectional Consistency: One major advantage of cross-sectional (CS) estimation is that it allows for the assessment of factor pricing across different assets simultaneously. This method considers the entire cross-section of available assets at each point in time, thus providing insights into how different assets are priced relative to each other in the market. By pooling information across assets, CS estimation can yield more precise estimates of the risk premia associated with various factors, under the assumption that these premia are constant across assets. This consistency can reveal how well factors explain the cross-sectional variation in asset returns, which is central to testing asset pricing models. \n",
    "\n",
    "Disadvantage of CS Estimation:\n",
    "Ignores Time-Series Variation: The downside of using CS estimation is that it can ignore time-series variation and changes in risk premia over time. Since it essentially assumes that factor risk premia are stable over the period analyzed, it does not capture any potential time-varying nature of risk premia. The assumption of constant risk premia may not hold in reality, where economic conditions and investor sentiment can lead to changes in the reward for bearing certain risks. As a result, CS estimation might not be as effective in detecting whether the factors are consistently priced over time or during different market conditions. Time-series (TS) estimation, on the other hand, captures the dynamics of factor loadings and risk premia over time, which could be crucial for understanding the behavior of asset returns through different periods. \n",
    "\n",
    "Time-series test vs. Cross-sectional test\n",
    "- time series test fits the asset and insists the factor premia for each factor are sample averages and only requires Alpha and R^2 is not important \n",
    "- cross sectional test fits the asset looser but let factor premia (lambda) be whatever value to fit the model better and cares about R^2\n",
    "\n",
    "time series test has higher error with more parameters. time-series test has higher error harder to fit with multiple parameters (no garantee alpha must be zero, no garantee do better in time series test when num of parameters increase) \n",
    "\n",
    "cross sectional test has lower error, higher R^2 with more parameters. It fit the data better when number of parameters increase，because the value can be anything in order to fit the model. \n",
    "\n",
    "\n"
   ]
  },
  {
   "cell_type": "markdown",
   "id": "ab345650",
   "metadata": {},
   "source": [
    "## 4.\n",
    "\n",
    "Suppose we are investing in just the assets included in our data set. We want to implement a momentum strategy.\n",
    "\n",
    "Relative to the momentum strategies we studied, do you expect this strategy would have higher or lower...\n",
    "* mean\n",
    "* volatility\n",
    "\n",
    "Explain."
   ]
  },
  {
   "cell_type": "markdown",
   "id": "9f22a67f",
   "metadata": {},
   "source": [
    "According to the data we runned in homework 6,it shows positive annualized return from 1927 to 2023 (7.77%). the assets in your dataset exhibit weak past performance continuation, I expect a lower mean return from the momentum strategy. This is in line with the momentum effect where assets that have performed not well in the past continue to perform not well in the short term. It has low reaction to the momentum factor in the pricing model. \n",
    "\n",
    "Volatility in a momentum strategy can be lower because the assets are well-diversified across different sectors or styles, it could potentially lower the volatility compared to typical momentum strategies that might concentrate on a single sector or style. \n",
    "\n",
    "In general, the mean would be lower and the volatility would be lower"
   ]
  },
  {
   "cell_type": "markdown",
   "id": "ecd7b8ee",
   "metadata": {},
   "source": [
    "***"
   ]
  },
  {
   "cell_type": "markdown",
   "id": "4bba6573",
   "metadata": {},
   "source": [
    "# 4. Returns Over Time"
   ]
  },
  {
   "cell_type": "markdown",
   "id": "fbce55a1",
   "metadata": {},
   "source": [
    "## 1.\n",
    "\n",
    "If Barnstable’s assumptions hold, (log iid returns, normally distributed,) then in what sense is an investment safer in the long-run? And in what sense is it riskier in the long-run?"
   ]
  },
  {
   "cell_type": "markdown",
   "id": "f18e4a76",
   "metadata": {},
   "source": [
    "so when the rou is close to zero, as the time horizon increases, the variance of the annualized return goes to zero. However, the variance of the cumulative return rt,t+h is still growing, which means that the average annualized return is safer, but the the cumulative annualized return is riskier in the long run. "
   ]
  },
  {
   "cell_type": "markdown",
   "id": "26e19f68",
   "metadata": {},
   "source": [
    "## 2. \n",
    "\n",
    "### (10pts)\n",
    "\n",
    "Data \n",
    "* Make use of the `risk-free rate` tab.\n",
    "* Construct the **total** factor returns by adding the risk-free rate to the excess `MKT` and `HML` factor returns.\n",
    "\n",
    "Assumptions\n",
    "* The total returns are lognormally distributed and iid. \n",
    "\n",
    "Report the probability that `MKT` will outperform `HML` over the following 5 years."
   ]
  },
  {
   "cell_type": "code",
   "execution_count": 76,
   "id": "3d4815fd",
   "metadata": {},
   "outputs": [
    {
     "data": {
      "text/html": [
       "<div>\n",
       "<style scoped>\n",
       "    .dataframe tbody tr th:only-of-type {\n",
       "        vertical-align: middle;\n",
       "    }\n",
       "\n",
       "    .dataframe tbody tr th {\n",
       "        vertical-align: top;\n",
       "    }\n",
       "\n",
       "    .dataframe thead th {\n",
       "        text-align: right;\n",
       "    }\n",
       "</style>\n",
       "<table border=\"1\" class=\"dataframe\">\n",
       "  <thead>\n",
       "    <tr style=\"text-align: right;\">\n",
       "      <th></th>\n",
       "      <th>MKT</th>\n",
       "      <th>HML</th>\n",
       "    </tr>\n",
       "    <tr>\n",
       "      <th>Date</th>\n",
       "      <th></th>\n",
       "      <th></th>\n",
       "    </tr>\n",
       "  </thead>\n",
       "  <tbody>\n",
       "    <tr>\n",
       "      <th>1980-01-31</th>\n",
       "      <td>0.0631</td>\n",
       "      <td>0.0255</td>\n",
       "    </tr>\n",
       "    <tr>\n",
       "      <th>1980-02-29</th>\n",
       "      <td>-0.0033</td>\n",
       "      <td>0.0150</td>\n",
       "    </tr>\n",
       "    <tr>\n",
       "      <th>1980-03-31</th>\n",
       "      <td>-0.1169</td>\n",
       "      <td>0.0020</td>\n",
       "    </tr>\n",
       "    <tr>\n",
       "      <th>1980-04-30</th>\n",
       "      <td>0.0523</td>\n",
       "      <td>0.0232</td>\n",
       "    </tr>\n",
       "    <tr>\n",
       "      <th>1980-05-31</th>\n",
       "      <td>0.0607</td>\n",
       "      <td>0.0119</td>\n",
       "    </tr>\n",
       "    <tr>\n",
       "      <th>...</th>\n",
       "      <td>...</td>\n",
       "      <td>...</td>\n",
       "    </tr>\n",
       "    <tr>\n",
       "      <th>2023-04-30</th>\n",
       "      <td>0.0096</td>\n",
       "      <td>0.0031</td>\n",
       "    </tr>\n",
       "    <tr>\n",
       "      <th>2023-05-31</th>\n",
       "      <td>0.0071</td>\n",
       "      <td>-0.0736</td>\n",
       "    </tr>\n",
       "    <tr>\n",
       "      <th>2023-06-30</th>\n",
       "      <td>0.0686</td>\n",
       "      <td>0.0014</td>\n",
       "    </tr>\n",
       "    <tr>\n",
       "      <th>2023-07-31</th>\n",
       "      <td>0.0366</td>\n",
       "      <td>0.0456</td>\n",
       "    </tr>\n",
       "    <tr>\n",
       "      <th>2023-08-31</th>\n",
       "      <td>-0.0194</td>\n",
       "      <td>-0.0061</td>\n",
       "    </tr>\n",
       "  </tbody>\n",
       "</table>\n",
       "<p>524 rows × 2 columns</p>\n",
       "</div>"
      ],
      "text/plain": [
       "               MKT     HML\n",
       "Date                      \n",
       "1980-01-31  0.0631  0.0255\n",
       "1980-02-29 -0.0033  0.0150\n",
       "1980-03-31 -0.1169  0.0020\n",
       "1980-04-30  0.0523  0.0232\n",
       "1980-05-31  0.0607  0.0119\n",
       "...            ...     ...\n",
       "2023-04-30  0.0096  0.0031\n",
       "2023-05-31  0.0071 -0.0736\n",
       "2023-06-30  0.0686  0.0014\n",
       "2023-07-31  0.0366  0.0456\n",
       "2023-08-31 -0.0194 -0.0061\n",
       "\n",
       "[524 rows x 2 columns]"
      ]
     },
     "execution_count": 76,
     "metadata": {},
     "output_type": "execute_result"
    }
   ],
   "source": [
    "factors_total = factors_ex.add(rf.values)\n",
    "factors_total = factors_total.drop(columns=['UMD'])\n",
    "factors_total"
   ]
  },
  {
   "cell_type": "code",
   "execution_count": 75,
   "id": "c4c4b761",
   "metadata": {},
   "outputs": [
    {
     "name": "stdout",
     "output_type": "stream",
     "text": [
      "Probability that MKT will outperform HML over the next 5 years: 0.7270\n"
     ]
    }
   ],
   "source": [
    "# Step 1: Calculate Log Returns\n",
    "# Assuming the factors are already excess returns\n",
    "factors_total['log_MKT'] = np.log1p(factors_total['MKT'])\n",
    "factors_total['log_HML'] = np.log1p(factors_total['HML'])\n",
    "\n",
    "annual_mean_log_MKT = factors_total['log_MKT'].mean() * 12\n",
    "annual_mean_log_HML = factors_total['log_HML'].mean() * 12\n",
    "\n",
    "annual_var_log_MKT = factors_total['log_MKT'].var() * 12\n",
    "annual_var_log_HML = factors_total['log_HML'].var() * 12\n",
    "\n",
    "five_year_mean_log_MKT = annual_mean_log_MKT * 5\n",
    "five_year_mean_log_HML = annual_mean_log_HML * 5\n",
    "\n",
    "five_year_var_log_MKT = annual_var_log_MKT * 5\n",
    "five_year_var_log_HML = annual_var_log_HML * 5\n",
    "\n",
    "mean_diff = five_year_mean_log_MKT - five_year_mean_log_HML\n",
    "var_diff = five_year_var_log_MKT + five_year_var_log_HML\n",
    "\n",
    "std_diff = np.sqrt(var_diff)\n",
    "\n",
    "prob_MKT_outperform_HML = 1 - norm.cdf(0, mean_diff, std_diff)\n",
    "\n",
    "print(f\"Probability that MKT will outperform HML over the next 5 years: {prob_MKT_outperform_HML:.4f}\")"
   ]
  },
  {
   "cell_type": "markdown",
   "id": "deca7ce8",
   "metadata": {},
   "source": [
    "***"
   ]
  }
 ],
 "metadata": {
  "hide_input": false,
  "kernelspec": {
   "display_name": "Python 3 (ipykernel)",
   "language": "python",
   "name": "python3"
  },
  "language_info": {
   "codemirror_mode": {
    "name": "ipython",
    "version": 3
   },
   "file_extension": ".py",
   "mimetype": "text/x-python",
   "name": "python",
   "nbconvert_exporter": "python",
   "pygments_lexer": "ipython3",
   "version": "3.8.8"
  }
 },
 "nbformat": 4,
 "nbformat_minor": 5
}
