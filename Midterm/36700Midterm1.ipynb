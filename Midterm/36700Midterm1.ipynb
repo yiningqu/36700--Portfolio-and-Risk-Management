{
 "cells": [
  {
   "cell_type": "code",
   "execution_count": 1,
   "id": "4dae9223",
   "metadata": {},
   "outputs": [],
   "source": [
    "import pandas as pd\n",
    "import numpy as np\n",
    "import statsmodels.api as sm\n",
    "import matplotlib.pyplot as plt\n",
    "import seaborn as sns\n",
    "from statsmodels.regression.rolling import RollingOLS\n",
    "from functools import partial\n",
    "import sys\n",
    "import math\n",
    "pd.options.display.float_format = \"{:,.4f}\".format\n",
    "from sklearn.linear_model import LinearRegression\n",
    "import warnings\n",
    "warnings.filterwarnings(\"ignore\")"
   ]
  },
  {
   "cell_type": "code",
   "execution_count": null,
   "id": "49937a28",
   "metadata": {},
   "outputs": [],
   "source": [
    "#plot\n",
    "plt.figure(figsize=(10, 4))\n",
    "plt.plot(hedge_fund['HFRIFWI Index'].loc['2016-08-31':], label='HFRIFWI Index')\n",
    "plt.plot(rolling_reg_replication, label='Replicated HFRIFWI Index')\n",
    "plt.title('Replication of HFRI based on the \"Merrill factors\"')\n",
    "plt.xlabel('date')\n",
    "plt.ylabel('HFRIFWI')\n",
    "plt.grid(visible=1)\n",
    "plt.legend(fontsize='x-small');\n",
    "\n",
    "\n",
    "Historic_VaR.plot()\n",
    "plt.title('Historic VaR')\n",
    "plt.ylabel('VaR')\n",
    "plt.xlabel('Date')\n",
    "plt.show()"
   ]
  },
  {
   "cell_type": "code",
   "execution_count": null,
   "id": "de05e2e4",
   "metadata": {},
   "outputs": [],
   "source": [
    "#heatmap\n",
    "asset_corr = hedge_fund.corr()\n",
    "\n",
    "plt.figure(figsize=(16, 6))\n",
    "heatmap = sns.heatmap(asset_corr, vmin=0.85, vmax=1, annot=True)\n",
    "heatmap.set_title('Asset Correlation Heatmap',\n",
    "                  fontdict={'fontsize': 12}, pad=12);"
   ]
  },
  {
   "cell_type": "code",
   "execution_count": null,
   "id": "c4aa4bec",
   "metadata": {},
   "outputs": [],
   "source": []
  }
 ],
 "metadata": {
  "kernelspec": {
   "display_name": "Python 3",
   "language": "python",
   "name": "python3"
  },
  "language_info": {
   "codemirror_mode": {
    "name": "ipython",
    "version": 3
   },
   "file_extension": ".py",
   "mimetype": "text/x-python",
   "name": "python",
   "nbconvert_exporter": "python",
   "pygments_lexer": "ipython3",
   "version": "3.8.8"
  }
 },
 "nbformat": 4,
 "nbformat_minor": 5
}
