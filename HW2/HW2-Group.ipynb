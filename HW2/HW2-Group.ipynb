{
 "cells": [
  {
   "cell_type": "code",
   "execution_count": 5,
   "metadata": {
    "tags": []
   },
   "outputs": [],
   "source": [
    "import pandas as pd\n",
    "import numpy as np\n",
    "import statsmodels.api as sm\n",
    "import matplotlib.pyplot as plt\n",
    "import seaborn as sns\n",
    "from statsmodels.regression.rolling import RollingOLS"
   ]
  },
  {
   "cell_type": "code",
   "execution_count": 32,
   "metadata": {
    "ExecuteTime": {
     "end_time": "2023-10-09T19:59:08.830956500Z",
     "start_time": "2023-10-09T19:59:08.790923300Z"
    },
    "jupyter": {
     "outputs_hidden": false
    }
   },
   "outputs": [],
   "source": [
    "def stats(df, period=12):\n",
    "    df_mean = df.mean() * period\n",
    "    df_vol = df.std() * np.sqrt(period)\n",
    "    df_sharpe = df_mean / df_vol\n",
    "\n",
    "    summary = pd.concat([df_mean, df_vol, df_sharpe], axis=1)\n",
    "    summary.columns = ['Mean', 'Volatility', 'Sharpe_ratio']\n",
    "    return summary\n",
    "\n",
    "\n",
    "def risk_stats(df, quantile=0.05):\n",
    "    skewness = df.skew()\n",
    "    kurtosis = df.kurtosis()\n",
    "    var = df.quantile(quantile)\n",
    "    cvar = df[df <= df.quantile(0.05)].mean()\n",
    "\n",
    "    index = 1000*(1+df).cumprod()\n",
    "    previous_peaks = index.cummax()\n",
    "    drawdowns = ((index - previous_peaks)/previous_peaks)\n",
    "    max_drawdown = drawdowns.min()   #Find Maximum Drawdown \n",
    "    peak = pd.DataFrame([previous_peaks[col][:drawdowns[col].idxmin()].idxmax() #最高点的日期\n",
    "                        for col in previous_peaks.columns])\n",
    "    peak.index = skewness.index\n",
    "    bottom = drawdowns.idxmin() #最低点的日期\n",
    "\n",
    "    \n",
    "#仔细看！！！！！还是没有懂\n",
    "    recovery_date = []\n",
    "    for col in index.columns:\n",
    "        prev_max = previous_peaks[col][:drawdowns[col].idxmin()].max()\n",
    "        recovery_wealth = pd.DataFrame(\n",
    "            [index[col][drawdowns[col].idxmin():]]).T\n",
    "        recovery_date.append(\n",
    "            recovery_wealth[recovery_wealth[col] >= prev_max].index.min())\n",
    "\n",
    "    recovery_date = pd.DataFrame(recovery_date, index=skewness.index)\n",
    "    risk_summary = pd.concat([skewness, kurtosis, var, cvar, max_drawdown,\n",
    "                             peak, bottom, pd.DataFrame(recovery_date)], axis=1)\n",
    "    risk_summary.columns = ['Skewness', ' Excess_Kurtosis', 'VaR',\n",
    "                            'CVaR', 'Max_Drawdown', 'Peak', 'Bottom', 'Recovery Date']\n",
    "    return risk_summary\n",
    "\n",
    "\n",
    "def regression(regressor, regressand, risk_free,  period=12, multiple=False, alpha=True):\n",
    "    X = sm.tools.add_constant(regressor) if alpha else regressor   #加constant to regression model\n",
    "\n",
    "    model = sm.OLS(regressand, X, missing='drop').fit()  #run regression\n",
    "\n",
    "    if alpha:\n",
    "        beta = model.params.iloc[1:]    #Question2只有一个factor SPY所以beta只有一个，但在其他时候会有别的regressor\n",
    "        alpha = model.params.loc['const']\n",
    "    else:   \n",
    "        beta = model.params\n",
    "\n",
    "    if not multiple:\n",
    "        treynor = ((regressand.values - risk_free.values).mean() # 算Treynor：要用return-risk free的expectation \n",
    "                   * period)/beta[0]        #Treynor = E[return]/beta\n",
    "    else:\n",
    "        treynor = pd.DataFrame(index=regressor.columns,   #这里的multiple就指的是如果有multiple regressor\n",
    "                               columns=['Treynor_ratio'])\n",
    "        for col in regressor:\n",
    "            treynor.loc[col] = (\n",
    "                (regressand - risk_free.values).mean()*period)/beta[0]\n",
    "    tracking_er_vol = (model.resid.std() * np.sqrt(period)) # tracking error = epsilon (residual)\n",
    "\n",
    "    if alpha:    \n",
    "        information = (alpha) / (model.resid.std()) #Information ratio = alpha/std of residual\n",
    "        return beta.values, treynor, information, alpha, model.rsquared , tracking_er_vol  #model.rsquared是R^2\n",
    "\n",
    "    return beta, treynor, alpha, model.rsquared, tracking_er_vol  #如果没有alpha则没有information ratio"
   ]
  },
  {
   "cell_type": "code",
   "execution_count": 33,
   "metadata": {
    "ExecuteTime": {
     "end_time": "2023-10-09T19:59:09.439567600Z",
     "start_time": "2023-10-09T19:59:09.333334500Z"
    },
    "jupyter": {
     "outputs_hidden": false
    }
   },
   "outputs": [],
   "source": [
    "hedge_fund = pd.read_excel('/Users/yiningqu/Desktop/proshares_analysis_data.xlsx',\n",
    "                           sheet_name='hedge_fund_series', index_col=0)\n",
    "merrill = pd.read_excel('/Users/yiningqu/Desktop/proshares_analysis_data.xlsx',\n",
    "                        sheet_name='merrill_factors', index_col=0)"
   ]
  },
  {
   "cell_type": "markdown",
   "metadata": {},
   "source": [
    "## 2. Analyzing the Data"
   ]
  },
  {
   "cell_type": "markdown",
   "metadata": {},
   "source": [
    "### 1.\n",
    "* mean\n",
    "* volatility\n",
    "* Sharpe ratio"
   ]
  },
  {
   "cell_type": "code",
   "execution_count": 34,
   "metadata": {
    "ExecuteTime": {
     "end_time": "2023-10-09T19:59:13.379929900Z",
     "start_time": "2023-10-09T19:59:13.315931600Z"
    },
    "jupyter": {
     "outputs_hidden": false
    }
   },
   "outputs": [
    {
     "data": {
      "text/html": [
       "<div>\n",
       "<style scoped>\n",
       "    .dataframe tbody tr th:only-of-type {\n",
       "        vertical-align: middle;\n",
       "    }\n",
       "\n",
       "    .dataframe tbody tr th {\n",
       "        vertical-align: top;\n",
       "    }\n",
       "\n",
       "    .dataframe thead th {\n",
       "        text-align: right;\n",
       "    }\n",
       "</style>\n",
       "<table border=\"1\" class=\"dataframe\">\n",
       "  <thead>\n",
       "    <tr style=\"text-align: right;\">\n",
       "      <th></th>\n",
       "      <th>Mean</th>\n",
       "      <th>Volatility</th>\n",
       "      <th>Sharpe_ratio</th>\n",
       "    </tr>\n",
       "  </thead>\n",
       "  <tbody>\n",
       "    <tr>\n",
       "      <th>HFRIFWI Index</th>\n",
       "      <td>0.043223</td>\n",
       "      <td>0.060228</td>\n",
       "      <td>0.717668</td>\n",
       "    </tr>\n",
       "    <tr>\n",
       "      <th>MLEIFCTR Index</th>\n",
       "      <td>0.031885</td>\n",
       "      <td>0.056966</td>\n",
       "      <td>0.559721</td>\n",
       "    </tr>\n",
       "    <tr>\n",
       "      <th>MLEIFCTX Index</th>\n",
       "      <td>0.030399</td>\n",
       "      <td>0.056806</td>\n",
       "      <td>0.535142</td>\n",
       "    </tr>\n",
       "    <tr>\n",
       "      <th>HDG US Equity</th>\n",
       "      <td>0.020513</td>\n",
       "      <td>0.059367</td>\n",
       "      <td>0.345534</td>\n",
       "    </tr>\n",
       "    <tr>\n",
       "      <th>QAI US Equity</th>\n",
       "      <td>0.019611</td>\n",
       "      <td>0.050062</td>\n",
       "      <td>0.391729</td>\n",
       "    </tr>\n",
       "  </tbody>\n",
       "</table>\n",
       "</div>"
      ],
      "text/plain": [
       "                    Mean  Volatility  Sharpe_ratio\n",
       "HFRIFWI Index   0.043223    0.060228      0.717668\n",
       "MLEIFCTR Index  0.031885    0.056966      0.559721\n",
       "MLEIFCTX Index  0.030399    0.056806      0.535142\n",
       "HDG US Equity   0.020513    0.059367      0.345534\n",
       "QAI US Equity   0.019611    0.050062      0.391729"
      ]
     },
     "execution_count": 34,
     "metadata": {},
     "output_type": "execute_result"
    }
   ],
   "source": [
    "hedge_fund_stats = stats(hedge_fund)\n",
    "hedge_fund_stats"
   ]
  },
  {
   "cell_type": "markdown",
   "metadata": {},
   "source": [
    "### 2.\n",
    "* Skewness\n",
    "* Excess Kurtosis (in excess of 3)\n",
    "* VaR (.05) - the fifth quantile of historic returns\n",
    "* CVaR (.05) - the mean of the returns at or below the fifth quantile\n",
    "* Maximum drawdown - include the dates of the max/min/recovery within the max drawdown period."
   ]
  },
  {
   "cell_type": "code",
   "execution_count": 35,
   "metadata": {
    "ExecuteTime": {
     "end_time": "2023-10-09T19:59:14.430648500Z",
     "start_time": "2023-10-09T19:59:14.358650600Z"
    },
    "jupyter": {
     "outputs_hidden": false
    }
   },
   "outputs": [
    {
     "data": {
      "text/html": [
       "<div>\n",
       "<style scoped>\n",
       "    .dataframe tbody tr th:only-of-type {\n",
       "        vertical-align: middle;\n",
       "    }\n",
       "\n",
       "    .dataframe tbody tr th {\n",
       "        vertical-align: top;\n",
       "    }\n",
       "\n",
       "    .dataframe thead th {\n",
       "        text-align: right;\n",
       "    }\n",
       "</style>\n",
       "<table border=\"1\" class=\"dataframe\">\n",
       "  <thead>\n",
       "    <tr style=\"text-align: right;\">\n",
       "      <th></th>\n",
       "      <th>Skewness</th>\n",
       "      <th>Excess_Kurtosis</th>\n",
       "      <th>VaR</th>\n",
       "      <th>CVaR</th>\n",
       "      <th>Max_Drawdown</th>\n",
       "      <th>Peak</th>\n",
       "      <th>Bottom</th>\n",
       "      <th>Recovery Date</th>\n",
       "    </tr>\n",
       "  </thead>\n",
       "  <tbody>\n",
       "    <tr>\n",
       "      <th>HFRIFWI Index</th>\n",
       "      <td>-0.983171</td>\n",
       "      <td>5.918307</td>\n",
       "      <td>-0.025130</td>\n",
       "      <td>-0.037478</td>\n",
       "      <td>-0.115473</td>\n",
       "      <td>2019-12-31</td>\n",
       "      <td>2020-03-31</td>\n",
       "      <td>2020-08-31</td>\n",
       "    </tr>\n",
       "    <tr>\n",
       "      <th>MLEIFCTR Index</th>\n",
       "      <td>-0.255827</td>\n",
       "      <td>1.664342</td>\n",
       "      <td>-0.028656</td>\n",
       "      <td>-0.035857</td>\n",
       "      <td>-0.124302</td>\n",
       "      <td>2021-06-30</td>\n",
       "      <td>2022-09-30</td>\n",
       "      <td>NaT</td>\n",
       "    </tr>\n",
       "    <tr>\n",
       "      <th>MLEIFCTX Index</th>\n",
       "      <td>-0.241814</td>\n",
       "      <td>1.631565</td>\n",
       "      <td>-0.028927</td>\n",
       "      <td>-0.035816</td>\n",
       "      <td>-0.124388</td>\n",
       "      <td>2021-06-30</td>\n",
       "      <td>2022-09-30</td>\n",
       "      <td>NaT</td>\n",
       "    </tr>\n",
       "    <tr>\n",
       "      <th>HDG US Equity</th>\n",
       "      <td>-0.243959</td>\n",
       "      <td>1.780069</td>\n",
       "      <td>-0.031158</td>\n",
       "      <td>-0.037576</td>\n",
       "      <td>-0.140721</td>\n",
       "      <td>2021-06-30</td>\n",
       "      <td>2022-09-30</td>\n",
       "      <td>NaT</td>\n",
       "    </tr>\n",
       "    <tr>\n",
       "      <th>QAI US Equity</th>\n",
       "      <td>-0.458360</td>\n",
       "      <td>1.737586</td>\n",
       "      <td>-0.020086</td>\n",
       "      <td>-0.032696</td>\n",
       "      <td>-0.137716</td>\n",
       "      <td>2021-06-30</td>\n",
       "      <td>2022-09-30</td>\n",
       "      <td>NaT</td>\n",
       "    </tr>\n",
       "  </tbody>\n",
       "</table>\n",
       "</div>"
      ],
      "text/plain": [
       "                Skewness   Excess_Kurtosis       VaR      CVaR  Max_Drawdown  \\\n",
       "HFRIFWI Index  -0.983171          5.918307 -0.025130 -0.037478     -0.115473   \n",
       "MLEIFCTR Index -0.255827          1.664342 -0.028656 -0.035857     -0.124302   \n",
       "MLEIFCTX Index -0.241814          1.631565 -0.028927 -0.035816     -0.124388   \n",
       "HDG US Equity  -0.243959          1.780069 -0.031158 -0.037576     -0.140721   \n",
       "QAI US Equity  -0.458360          1.737586 -0.020086 -0.032696     -0.137716   \n",
       "\n",
       "                     Peak     Bottom Recovery Date  \n",
       "HFRIFWI Index  2019-12-31 2020-03-31    2020-08-31  \n",
       "MLEIFCTR Index 2021-06-30 2022-09-30           NaT  \n",
       "MLEIFCTX Index 2021-06-30 2022-09-30           NaT  \n",
       "HDG US Equity  2021-06-30 2022-09-30           NaT  \n",
       "QAI US Equity  2021-06-30 2022-09-30           NaT  "
      ]
     },
     "execution_count": 35,
     "metadata": {},
     "output_type": "execute_result"
    }
   ],
   "source": [
    "risk_stats(hedge_fund)"
   ]
  },
  {
   "cell_type": "code",
   "execution_count": 36,
   "metadata": {},
   "outputs": [
    {
     "data": {
      "text/plain": [
       "<Axes: >"
      ]
     },
     "execution_count": 36,
     "metadata": {},
     "output_type": "execute_result"
    },
    {
     "data": {
      "image/png": "[encoded data removed]",
      "text/plain": [
       "<Figure size 432x288 with 1 Axes>"
      ]
     },
     "metadata": {
      "needs_background": "light"
     },
     "output_type": "display_data"
    }
   ],
   "source": [
    "hedge_fund[\"HFRIFWI Index\"].plot()"
   ]
  },
  {
   "cell_type": "markdown",
   "metadata": {},
   "source": [
    "### 3.\n",
    "* Market Beta\n",
    "* Treynor Ratio\n",
    "* Information ratio"
   ]
  },
  {
   "cell_type": "code",
   "execution_count": 37,
   "metadata": {
    "ExecuteTime": {
     "end_time": "2023-10-09T19:59:17.069748Z",
     "start_time": "2023-10-09T19:59:16.989748100Z"
    },
    "jupyter": {
     "outputs_hidden": false
    }
   },
   "outputs": [
    {
     "data": {
      "text/html": [
       "<div>\n",
       "<style scoped>\n",
       "    .dataframe tbody tr th:only-of-type {\n",
       "        vertical-align: middle;\n",
       "    }\n",
       "\n",
       "    .dataframe tbody tr th {\n",
       "        vertical-align: top;\n",
       "    }\n",
       "\n",
       "    .dataframe thead th {\n",
       "        text-align: right;\n",
       "    }\n",
       "</style>\n",
       "<table border=\"1\" class=\"dataframe\">\n",
       "  <thead>\n",
       "    <tr style=\"text-align: right;\">\n",
       "      <th></th>\n",
       "      <th>Market_Beta</th>\n",
       "      <th>Treynor_ratio</th>\n",
       "      <th>Information_ratio</th>\n",
       "      <th>Alpha</th>\n",
       "      <th>R_Squared</th>\n",
       "    </tr>\n",
       "  </thead>\n",
       "  <tbody>\n",
       "    <tr>\n",
       "      <th>HFRIFWI Index</th>\n",
       "      <td>0.348706</td>\n",
       "      <td>0.097045</td>\n",
       "      <td>-0.02902</td>\n",
       "      <td>-0.00027</td>\n",
       "      <td>0.714001</td>\n",
       "    </tr>\n",
       "    <tr>\n",
       "      <th>MLEIFCTR Index</th>\n",
       "      <td>0.34962</td>\n",
       "      <td>0.06436</td>\n",
       "      <td>-0.167515</td>\n",
       "      <td>-0.001225</td>\n",
       "      <td>0.802298</td>\n",
       "    </tr>\n",
       "    <tr>\n",
       "      <th>MLEIFCTX Index</th>\n",
       "      <td>0.348325</td>\n",
       "      <td>0.060334</td>\n",
       "      <td>-0.182324</td>\n",
       "      <td>-0.001334</td>\n",
       "      <td>0.800846</td>\n",
       "    </tr>\n",
       "    <tr>\n",
       "      <th>HDG US Equity</th>\n",
       "      <td>0.359366</td>\n",
       "      <td>0.030971</td>\n",
       "      <td>-0.284031</td>\n",
       "      <td>-0.002281</td>\n",
       "      <td>0.780469</td>\n",
       "    </tr>\n",
       "    <tr>\n",
       "      <th>QAI US Equity</th>\n",
       "      <td>0.296053</td>\n",
       "      <td>0.034546</td>\n",
       "      <td>-0.22645</td>\n",
       "      <td>-0.001653</td>\n",
       "      <td>0.74489</td>\n",
       "    </tr>\n",
       "    <tr>\n",
       "      <th>SPY US Equity</th>\n",
       "      <td>1.0</td>\n",
       "      <td>0.123856</td>\n",
       "      <td>-0.23218</td>\n",
       "      <td>-0.0</td>\n",
       "      <td>1.0</td>\n",
       "    </tr>\n",
       "  </tbody>\n",
       "</table>\n",
       "</div>"
      ],
      "text/plain": [
       "               Market_Beta Treynor_ratio Information_ratio     Alpha R_Squared\n",
       "HFRIFWI Index     0.348706      0.097045          -0.02902  -0.00027  0.714001\n",
       "MLEIFCTR Index     0.34962       0.06436         -0.167515 -0.001225  0.802298\n",
       "MLEIFCTX Index    0.348325      0.060334         -0.182324 -0.001334  0.800846\n",
       "HDG US Equity     0.359366      0.030971         -0.284031 -0.002281  0.780469\n",
       "QAI US Equity     0.296053      0.034546          -0.22645 -0.001653   0.74489\n",
       "SPY US Equity          1.0      0.123856          -0.23218      -0.0       1.0"
      ]
     },
     "execution_count": 37,
     "metadata": {},
     "output_type": "execute_result"
    }
   ],
   "source": [
    "regression_stats_df = pd.DataFrame(columns=[\n",
    "                                   'Market_Beta', 'Treynor_ratio', 'Information_ratio', 'Alpha', 'R_Squared'], index=hedge_fund.columns)\n",
    "risk_free = merrill['USGG3M Index']\n",
    "stats_list = pd.DataFrame(\n",
    "    columns=['Mean', 'Volatility', 'Sharpe_ratio'], index=hedge_fund.columns)\n",
    "\n",
    "for fund in hedge_fund:\n",
    "    beta, treynor, information, alpha, r_squared, _ = regression(\n",
    "        merrill['SPY US Equity'], hedge_fund[fund], risk_free)\n",
    "    regression_stats_df.loc[fund] = [\n",
    "        beta[0], treynor, information, alpha, r_squared]\n",
    "\n",
    "    cur_stats = stats(hedge_fund[fund].to_frame())\n",
    "    stats_list.loc[fund] = [cur_stats['Mean'][0],\n",
    "                            cur_stats['Volatility'][0], cur_stats['Sharpe_ratio'][0]]\n",
    "    #为第四题对比两个Hedge Fund做准备\n",
    "\n",
    "\n",
    "#SPY regress on SPY\n",
    "beta, treynor, information, alpha, r_squared, _ = regression(\n",
    "    merrill['SPY US Equity'], merrill['SPY US Equity'], risk_free)\n",
    "regression_stats_df.loc['SPY US Equity'] = [\n",
    "    beta[0], treynor, information, alpha, r_squared]\n",
    "cur_stats = stats(merrill['SPY US Equity'].to_frame())\n",
    "stats_list.loc['SPY US Equity'] = [cur_stats['Mean'][0],\n",
    "                                   cur_stats['Volatility'][0], cur_stats['Sharpe_ratio'][0]]\n",
    "\n",
    "\n",
    "regression_stats_df"
   ]
  },
  {
   "cell_type": "markdown",
   "metadata": {},
   "source": [
    "### 4."
   ]
  },
  {
   "cell_type": "code",
   "execution_count": 11,
   "metadata": {
    "ExecuteTime": {
     "end_time": "2023-10-09T19:59:18.119911500Z",
     "start_time": "2023-10-09T19:59:18.095911800Z"
    },
    "jupyter": {
     "outputs_hidden": false
    }
   },
   "outputs": [
    {
     "data": {
      "text/html": [
       "<div>\n",
       "<style scoped>\n",
       "    .dataframe tbody tr th:only-of-type {\n",
       "        vertical-align: middle;\n",
       "    }\n",
       "\n",
       "    .dataframe tbody tr th {\n",
       "        vertical-align: top;\n",
       "    }\n",
       "\n",
       "    .dataframe thead th {\n",
       "        text-align: right;\n",
       "    }\n",
       "</style>\n",
       "<table border=\"1\" class=\"dataframe\">\n",
       "  <thead>\n",
       "    <tr style=\"text-align: right;\">\n",
       "      <th></th>\n",
       "      <th>Mean</th>\n",
       "      <th>Volatility</th>\n",
       "      <th>Sharpe_ratio</th>\n",
       "    </tr>\n",
       "  </thead>\n",
       "  <tbody>\n",
       "    <tr>\n",
       "      <th>HFRIFWI Index</th>\n",
       "      <td>0.043223</td>\n",
       "      <td>0.060228</td>\n",
       "      <td>0.717668</td>\n",
       "    </tr>\n",
       "    <tr>\n",
       "      <th>MLEIFCTR Index</th>\n",
       "      <td>0.031885</td>\n",
       "      <td>0.056966</td>\n",
       "      <td>0.559721</td>\n",
       "    </tr>\n",
       "    <tr>\n",
       "      <th>MLEIFCTX Index</th>\n",
       "      <td>0.030399</td>\n",
       "      <td>0.056806</td>\n",
       "      <td>0.535142</td>\n",
       "    </tr>\n",
       "    <tr>\n",
       "      <th>HDG US Equity</th>\n",
       "      <td>0.020513</td>\n",
       "      <td>0.059367</td>\n",
       "      <td>0.345534</td>\n",
       "    </tr>\n",
       "    <tr>\n",
       "      <th>QAI US Equity</th>\n",
       "      <td>0.019611</td>\n",
       "      <td>0.050062</td>\n",
       "      <td>0.391729</td>\n",
       "    </tr>\n",
       "    <tr>\n",
       "      <th>SPY US Equity</th>\n",
       "      <td>0.13324</td>\n",
       "      <td>0.145944</td>\n",
       "      <td>0.91295</td>\n",
       "    </tr>\n",
       "  </tbody>\n",
       "</table>\n",
       "</div>"
      ],
      "text/plain": [
       "                    Mean Volatility Sharpe_ratio\n",
       "HFRIFWI Index   0.043223   0.060228     0.717668\n",
       "MLEIFCTR Index  0.031885   0.056966     0.559721\n",
       "MLEIFCTX Index  0.030399   0.056806     0.535142\n",
       "HDG US Equity   0.020513   0.059367     0.345534\n",
       "QAI US Equity   0.019611   0.050062     0.391729\n",
       "SPY US Equity    0.13324   0.145944      0.91295"
      ]
     },
     "execution_count": 11,
     "metadata": {},
     "output_type": "execute_result"
    }
   ],
   "source": [
    "stats_list"
   ]
  },
  {
   "cell_type": "markdown",
   "metadata": {},
   "source": [
    "# 4. \n",
    "\n",
    "Discuss the previous statistics, and what they tell us about...\n",
    "\n",
    "* the differences between SPY and the hedge-fund series?\n",
    "* which performs better between HDG and QAI.\n",
    "* whether HDG and the ML series capture the most notable properties of HFRI\n",
    "\n",
    "<font color='red'>\n",
    "\n",
    "* The alphas are all negative! 说明SPY比任何一个hedge fund series的return都高。 SPY has been a rocket during this time.\n",
    "* Hedge-funds (as measured by these broad indexes) have underperformed.\n",
    "* Given that they have some SPY beta, their total return is positive (Sharpe is positive) but when we strip this factor out, the hedged performance has a negative Sharpe ratio as seen by the Info Ratio (which is the Sharpe Ratio of the hedged position.).\n",
    "\n",
    "</font>"
   ]
  },
  {
   "cell_type": "markdown",
   "metadata": {},
   "source": [
    "#### a. the differences between SPY and the hedge-fund series\n",
    "\n",
    "SPY has a much higher mean, a higher vol, but also a higher sharpe than the hedge-fund returns. SPY has the \n",
    "lowest excess kurtosis, meaning it has the thinner tails, closest to normal distribution, meaning less likely to have extremely high or low returns compared to hedgefund returns. SPY also has lower VaR and CVar. \n",
    "\n",
    "All hedge-fund series have negative information ratio, which indicates that they fail to beat the market. Besides, the average beta of hedge-fund series is around 0.34, which is much lower than that of SPY, meaning that hedge-fund series have much lower volatility compared to stock market, possibily due to their asset diversification and better downside protection.\n",
    "\n",
    "#### b. performance comparison between HDG and QAI\n",
    "\n",
    "HDG has higher mean but higher vol, so lower sharpe ratio. QAI has lower market beta, higher Treynor and Information ratio, and smaller VaR and CVar. Overall QAI performs better as it has a lower volatility and better risk adjusted returns.\n",
    "\n",
    "#### c. whether HDG and the ML series capture the most notable properties of HFRI\n",
    "\n",
    "The ML and HDG series have very close market beta to HFRI, but have much lower Treynor and Information ratios. They also have a much lower excess kurtosis then HFRI, so they don't capture the most notable properties of HFRI."
   ]
  },
  {
   "cell_type": "markdown",
   "metadata": {},
   "source": [
    "### 5."
   ]
  },
  {
   "cell_type": "markdown",
   "metadata": {},
   "source": [
    "#### Correlation heat map"
   ]
  },
  {
   "cell_type": "code",
   "execution_count": 41,
   "metadata": {
    "ExecuteTime": {
     "end_time": "2023-10-09T19:59:20.656345300Z",
     "start_time": "2023-10-09T19:59:20.022939300Z"
    },
    "jupyter": {
     "outputs_hidden": false
    }
   },
   "outputs": [
    {
     "data": {
      "image/png": "[encoded data removed]",
      "text/plain": [
       "<Figure size 1152x432 with 2 Axes>"
      ]
     },
     "metadata": {
      "needs_background": "light"
     },
     "output_type": "display_data"
    }
   ],
   "source": [
    "asset_corr = hedge_fund.corr()\n",
    "\n",
    "plt.figure(figsize=(16, 6))\n",
    "heatmap = sns.heatmap(asset_corr, vmin=0.85, vmax=1, annot=True)\n",
    "heatmap.set_title('Asset Correlation Heatmap',\n",
    "                  fontdict={'fontsize': 12}, pad=12);"
   ]
  },
  {
   "cell_type": "markdown",
   "metadata": {},
   "source": [
    "#### Series with hightest and lowest correlations"
   ]
  },
  {
   "cell_type": "code",
   "execution_count": 43,
   "metadata": {
    "ExecuteTime": {
     "end_time": "2023-10-09T19:59:21.533212300Z",
     "start_time": "2023-10-09T19:59:21.433157300Z"
    },
    "jupyter": {
     "outputs_hidden": false
    }
   },
   "outputs": [
    {
     "name": "stdout",
     "output_type": "stream",
     "text": [
      "                               Correlation\n",
      "HFRIFWI Index  HFRIFWI Index      1.000000\n",
      "               MLEIFCTR Index     0.896947\n",
      "               MLEIFCTX Index     0.896296\n",
      "               HDG US Equity      0.886021\n",
      "               QAI US Equity      0.847084\n",
      "MLEIFCTR Index HFRIFWI Index      0.896947\n",
      "               MLEIFCTR Index     1.000000\n",
      "               MLEIFCTX Index     0.999921\n",
      "               HDG US Equity      0.987349\n",
      "               QAI US Equity      0.890510\n",
      "MLEIFCTX Index HFRIFWI Index      0.896296\n",
      "               MLEIFCTR Index     0.999921\n",
      "               MLEIFCTX Index     1.000000\n",
      "               HDG US Equity      0.987167\n",
      "               QAI US Equity      0.890098\n",
      "HDG US Equity  HFRIFWI Index      0.886021\n",
      "               MLEIFCTR Index     0.987349\n",
      "               MLEIFCTX Index     0.987167\n",
      "               HDG US Equity      1.000000\n",
      "               QAI US Equity      0.876680\n",
      "QAI US Equity  HFRIFWI Index      0.847084\n",
      "               MLEIFCTR Index     0.890510\n",
      "               MLEIFCTX Index     0.890098\n",
      "               HDG US Equity      0.876680\n",
      "               QAI US Equity      1.000000\n"
     ]
    }
   ],
   "source": [
    "correlations = hedge_fund.corr().unstack().to_frame('Correlation')\n",
    "print(correlations)"
   ]
  },
  {
   "cell_type": "code",
   "execution_count": 44,
   "metadata": {},
   "outputs": [
    {
     "name": "stdout",
     "output_type": "stream",
     "text": [
      "                               Correlation\n",
      "MLEIFCTR Index MLEIFCTX Index     0.999921\n",
      "MLEIFCTX Index MLEIFCTR Index     0.999921\n",
      "MLEIFCTR Index HDG US Equity      0.987349\n",
      "                             Correlation\n",
      "HFRIFWI Index QAI US Equity     0.847084\n",
      "QAI US Equity HFRIFWI Index     0.847084\n",
      "HDG US Equity QAI US Equity     0.876680\n"
     ]
    }
   ],
   "source": [
    "correlations = correlations[correlations['Correlation'] != 1]\n",
    "print(correlations.nlargest(3, 'Correlation'))  #算largest and smallest\n",
    "print(correlations.nsmallest(3, 'Correlation')) "
   ]
  },
  {
   "cell_type": "markdown",
   "metadata": {},
   "source": [
    "### 6."
   ]
  },
  {
   "cell_type": "markdown",
   "metadata": {},
   "source": [
    "#### a. Intercepts and betas\n",
    "\n",
    "#### b. Beta seems to be realistic positions, the largest position is short 16.6% in USGG3M Index. \n",
    "\n",
    "<font color='red'>\n",
    "\n",
    "The beta sizes are all very realistic, with none of the betas being above \"1\". We also don't have extreme long/short positions, which is good. However, we could make an argument that because all the factors are so correlated, we actually aren't getting a good estimate of beta and could perhaps achieve better out of sample replication by using fewer factors.\n",
    "\n",
    "</font>"
   ]
  },
  {
   "cell_type": "code",
   "execution_count": 14,
   "metadata": {
    "ExecuteTime": {
     "end_time": "2023-10-09T19:59:23.766152700Z",
     "start_time": "2023-10-09T19:59:23.718151700Z"
    },
    "jupyter": {
     "outputs_hidden": false
    }
   },
   "outputs": [
    {
     "data": {
      "text/html": [
       "<div>\n",
       "<style scoped>\n",
       "    .dataframe tbody tr th:only-of-type {\n",
       "        vertical-align: middle;\n",
       "    }\n",
       "\n",
       "    .dataframe tbody tr th {\n",
       "        vertical-align: top;\n",
       "    }\n",
       "\n",
       "    .dataframe thead th {\n",
       "        text-align: right;\n",
       "    }\n",
       "</style>\n",
       "<table border=\"1\" class=\"dataframe\">\n",
       "  <thead>\n",
       "    <tr style=\"text-align: right;\">\n",
       "      <th></th>\n",
       "      <th>coefficient</th>\n",
       "    </tr>\n",
       "  </thead>\n",
       "  <tbody>\n",
       "    <tr>\n",
       "      <th>SPY US Equity</th>\n",
       "      <td>0.033308</td>\n",
       "    </tr>\n",
       "    <tr>\n",
       "      <th>USGG3M Index</th>\n",
       "      <td>-0.165908</td>\n",
       "    </tr>\n",
       "    <tr>\n",
       "      <th>EEM US Equity</th>\n",
       "      <td>0.077857</td>\n",
       "    </tr>\n",
       "    <tr>\n",
       "      <th>EFA US Equity</th>\n",
       "      <td>0.082410</td>\n",
       "    </tr>\n",
       "    <tr>\n",
       "      <th>EUO US Equity</th>\n",
       "      <td>0.022649</td>\n",
       "    </tr>\n",
       "    <tr>\n",
       "      <th>IWM US Equity</th>\n",
       "      <td>0.152074</td>\n",
       "    </tr>\n",
       "    <tr>\n",
       "      <th>const</th>\n",
       "      <td>0.001383</td>\n",
       "    </tr>\n",
       "  </tbody>\n",
       "</table>\n",
       "</div>"
      ],
      "text/plain": [
       "               coefficient\n",
       "SPY US Equity     0.033308\n",
       "USGG3M Index     -0.165908\n",
       "EEM US Equity     0.077857\n",
       "EFA US Equity     0.082410\n",
       "EUO US Equity     0.022649\n",
       "IWM US Equity     0.152074\n",
       "const             0.001383"
      ]
     },
     "execution_count": 14,
     "metadata": {},
     "output_type": "execute_result"
    }
   ],
   "source": [
    "hfri = hedge_fund['HFRIFWI Index']\n",
    "betas, treynor, information, alpha, r_squared, tracking_er_vol = regression(\n",
    "    merrill, hfri, risk_free, multiple=True)\n",
    "\n",
    "coefficients = pd.DataFrame(index=merrill.columns, columns=['coefficient'])\n",
    "coefficients['coefficient'] = betas\n",
    "coefficients.loc['const'] = alpha\n",
    "coefficients"
   ]
  },
  {
   "cell_type": "markdown",
   "metadata": {},
   "source": [
    "#### c. R-squared\n",
    "#### d. Tracking error"
   ]
  },
  {
   "cell_type": "code",
   "execution_count": 45,
   "metadata": {
    "ExecuteTime": {
     "end_time": "2023-10-09T19:59:25.063897600Z",
     "start_time": "2023-10-09T19:59:25.054274800Z"
    },
    "jupyter": {
     "outputs_hidden": false
    }
   },
   "outputs": [
    {
     "name": "stdout",
     "output_type": "stream",
     "text": [
      "R-squared: 1.0, Tracking error: 0.024435856207563937\n"
     ]
    }
   ],
   "source": [
    "print(f'R-squared: {r_squared}, Tracking error: {tracking_er_vol}')"
   ]
  },
  {
   "cell_type": "markdown",
   "metadata": {},
   "source": [
    "### 7."
   ]
  },
  {
   "cell_type": "code",
   "execution_count": 46,
   "metadata": {
    "ExecuteTime": {
     "end_time": "2023-10-09T19:59:36.051041300Z",
     "start_time": "2023-10-09T19:59:36.003037300Z"
    },
    "jupyter": {
     "outputs_hidden": false
    }
   },
   "outputs": [],
   "source": [
    "rolling_model = RollingOLS(hfri, sm.add_constant(merrill), window=60).fit()  #rolling \n",
    "rolling_params = rolling_model.params"
   ]
  },
  {
   "cell_type": "code",
   "execution_count": 47,
   "metadata": {
    "ExecuteTime": {
     "end_time": "2023-10-09T19:59:37.196997500Z",
     "start_time": "2023-10-09T19:59:37.060955800Z"
    },
    "jupyter": {
     "outputs_hidden": false
    }
   },
   "outputs": [],
   "source": [
    "factor_ret = merrill.loc['2016-08-31':]    #60 month 说明从5年后开始\n",
    "one_df = pd.DataFrame(np.ones(factor_ret.shape[0])).T\n",
    "one_df.columns = factor_ret.index\n",
    "factor_ret = pd.concat([one_df, pd.DataFrame(factor_ret).loc['2016-08-31':].T])  #第一行都是1\n",
    "\n",
    "rolling_reg_replication = pd.DataFrame(np.diag(pd.DataFrame(np.array(\n",
    "    rolling_params[60:]) @ np.array(factor_ret))), index=factor_ret.columns, columns=['HFRIFWI Index'])"
   ]
  },
  {
   "cell_type": "code",
   "execution_count": 48,
   "metadata": {},
   "outputs": [
    {
     "data": {
      "text/html": [
       "<div>\n",
       "<style scoped>\n",
       "    .dataframe tbody tr th:only-of-type {\n",
       "        vertical-align: middle;\n",
       "    }\n",
       "\n",
       "    .dataframe tbody tr th {\n",
       "        vertical-align: top;\n",
       "    }\n",
       "\n",
       "    .dataframe thead th {\n",
       "        text-align: right;\n",
       "    }\n",
       "</style>\n",
       "<table border=\"1\" class=\"dataframe\">\n",
       "  <thead>\n",
       "    <tr style=\"text-align: right;\">\n",
       "      <th></th>\n",
       "      <th>HFRIFWI Index</th>\n",
       "    </tr>\n",
       "  </thead>\n",
       "  <tbody>\n",
       "    <tr>\n",
       "      <th>2016-08-31</th>\n",
       "      <td>0.004602</td>\n",
       "    </tr>\n",
       "    <tr>\n",
       "      <th>2016-09-30</th>\n",
       "      <td>0.004975</td>\n",
       "    </tr>\n",
       "    <tr>\n",
       "      <th>2016-10-31</th>\n",
       "      <td>-0.005581</td>\n",
       "    </tr>\n",
       "    <tr>\n",
       "      <th>2016-11-30</th>\n",
       "      <td>0.009802</td>\n",
       "    </tr>\n",
       "    <tr>\n",
       "      <th>2016-12-31</th>\n",
       "      <td>0.008142</td>\n",
       "    </tr>\n",
       "    <tr>\n",
       "      <th>...</th>\n",
       "      <td>...</td>\n",
       "    </tr>\n",
       "    <tr>\n",
       "      <th>2023-04-30</th>\n",
       "      <td>-0.004870</td>\n",
       "    </tr>\n",
       "    <tr>\n",
       "      <th>2023-05-31</th>\n",
       "      <td>-0.006452</td>\n",
       "    </tr>\n",
       "    <tr>\n",
       "      <th>2023-06-30</th>\n",
       "      <td>0.022666</td>\n",
       "    </tr>\n",
       "    <tr>\n",
       "      <th>2023-07-31</th>\n",
       "      <td>0.019388</td>\n",
       "    </tr>\n",
       "    <tr>\n",
       "      <th>2023-08-31</th>\n",
       "      <td>-0.017818</td>\n",
       "    </tr>\n",
       "  </tbody>\n",
       "</table>\n",
       "<p>85 rows × 1 columns</p>\n",
       "</div>"
      ],
      "text/plain": [
       "            HFRIFWI Index\n",
       "2016-08-31       0.004602\n",
       "2016-09-30       0.004975\n",
       "2016-10-31      -0.005581\n",
       "2016-11-30       0.009802\n",
       "2016-12-31       0.008142\n",
       "...                   ...\n",
       "2023-04-30      -0.004870\n",
       "2023-05-31      -0.006452\n",
       "2023-06-30       0.022666\n",
       "2023-07-31       0.019388\n",
       "2023-08-31      -0.017818\n",
       "\n",
       "[85 rows x 1 columns]"
      ]
     },
     "execution_count": 48,
     "metadata": {},
     "output_type": "execute_result"
    }
   ],
   "source": [
    "rolling_reg_replication"
   ]
  },
  {
   "cell_type": "markdown",
   "metadata": {},
   "source": [
    "#### Rolling replication stats:"
   ]
  },
  {
   "cell_type": "code",
   "execution_count": 19,
   "metadata": {
    "ExecuteTime": {
     "end_time": "2023-10-09T19:59:38.427723300Z",
     "start_time": "2023-10-09T19:59:38.411722800Z"
    },
    "jupyter": {
     "outputs_hidden": false
    }
   },
   "outputs": [
    {
     "data": {
      "text/html": [
       "<div>\n",
       "<style scoped>\n",
       "    .dataframe tbody tr th:only-of-type {\n",
       "        vertical-align: middle;\n",
       "    }\n",
       "\n",
       "    .dataframe tbody tr th {\n",
       "        vertical-align: top;\n",
       "    }\n",
       "\n",
       "    .dataframe thead th {\n",
       "        text-align: right;\n",
       "    }\n",
       "</style>\n",
       "<table border=\"1\" class=\"dataframe\">\n",
       "  <thead>\n",
       "    <tr style=\"text-align: right;\">\n",
       "      <th></th>\n",
       "      <th>Mean</th>\n",
       "      <th>Volatility</th>\n",
       "      <th>Sharpe_ratio</th>\n",
       "    </tr>\n",
       "  </thead>\n",
       "  <tbody>\n",
       "    <tr>\n",
       "      <th>HFRIFWI Index</th>\n",
       "      <td>0.038736</td>\n",
       "      <td>0.061107</td>\n",
       "      <td>0.633911</td>\n",
       "    </tr>\n",
       "  </tbody>\n",
       "</table>\n",
       "</div>"
      ],
      "text/plain": [
       "                   Mean  Volatility  Sharpe_ratio\n",
       "HFRIFWI Index  0.038736    0.061107      0.633911"
      ]
     },
     "execution_count": 19,
     "metadata": {},
     "output_type": "execute_result"
    }
   ],
   "source": [
    "stats(rolling_reg_replication)"
   ]
  },
  {
   "cell_type": "code",
   "execution_count": 20,
   "metadata": {
    "ExecuteTime": {
     "end_time": "2023-10-09T00:29:44.745239200Z",
     "start_time": "2023-10-09T00:29:44.715661Z"
    },
    "jupyter": {
     "outputs_hidden": false
    }
   },
   "outputs": [
    {
     "data": {
      "text/html": [
       "<div>\n",
       "<style scoped>\n",
       "    .dataframe tbody tr th:only-of-type {\n",
       "        vertical-align: middle;\n",
       "    }\n",
       "\n",
       "    .dataframe tbody tr th {\n",
       "        vertical-align: top;\n",
       "    }\n",
       "\n",
       "    .dataframe thead th {\n",
       "        text-align: right;\n",
       "    }\n",
       "</style>\n",
       "<table border=\"1\" class=\"dataframe\">\n",
       "  <thead>\n",
       "    <tr style=\"text-align: right;\">\n",
       "      <th></th>\n",
       "      <th>Skewness</th>\n",
       "      <th>Excess_Kurtosis</th>\n",
       "      <th>VaR</th>\n",
       "      <th>CVaR</th>\n",
       "      <th>Max_Drawdown</th>\n",
       "      <th>Peak</th>\n",
       "      <th>Bottom</th>\n",
       "      <th>Recovery Date</th>\n",
       "    </tr>\n",
       "  </thead>\n",
       "  <tbody>\n",
       "    <tr>\n",
       "      <th>HFRIFWI Index</th>\n",
       "      <td>-0.667995</td>\n",
       "      <td>2.62196</td>\n",
       "      <td>-0.026953</td>\n",
       "      <td>-0.037413</td>\n",
       "      <td>-0.096517</td>\n",
       "      <td>2019-12-31</td>\n",
       "      <td>2020-03-31</td>\n",
       "      <td>2020-08-31</td>\n",
       "    </tr>\n",
       "  </tbody>\n",
       "</table>\n",
       "</div>"
      ],
      "text/plain": [
       "               Skewness   Excess_Kurtosis       VaR      CVaR  Max_Drawdown  \\\n",
       "HFRIFWI Index -0.667995           2.62196 -0.026953 -0.037413     -0.096517   \n",
       "\n",
       "                    Peak     Bottom Recovery Date  \n",
       "HFRIFWI Index 2019-12-31 2020-03-31    2020-08-31  "
      ]
     },
     "execution_count": 20,
     "metadata": {},
     "output_type": "execute_result"
    }
   ],
   "source": [
    "risk_stats(rolling_reg_replication)"
   ]
  },
  {
   "cell_type": "markdown",
   "metadata": {},
   "source": [
    "#### Actual stats:"
   ]
  },
  {
   "cell_type": "code",
   "execution_count": 21,
   "metadata": {
    "ExecuteTime": {
     "end_time": "2023-10-09T19:59:47.971570400Z",
     "start_time": "2023-10-09T19:59:47.935479Z"
    },
    "jupyter": {
     "outputs_hidden": false
    }
   },
   "outputs": [
    {
     "data": {
      "text/html": [
       "<div>\n",
       "<style scoped>\n",
       "    .dataframe tbody tr th:only-of-type {\n",
       "        vertical-align: middle;\n",
       "    }\n",
       "\n",
       "    .dataframe tbody tr th {\n",
       "        vertical-align: top;\n",
       "    }\n",
       "\n",
       "    .dataframe thead th {\n",
       "        text-align: right;\n",
       "    }\n",
       "</style>\n",
       "<table border=\"1\" class=\"dataframe\">\n",
       "  <thead>\n",
       "    <tr style=\"text-align: right;\">\n",
       "      <th></th>\n",
       "      <th>Mean</th>\n",
       "      <th>Volatility</th>\n",
       "      <th>Sharpe_ratio</th>\n",
       "    </tr>\n",
       "  </thead>\n",
       "  <tbody>\n",
       "    <tr>\n",
       "      <th>HFRIFWI Index</th>\n",
       "      <td>0.053975</td>\n",
       "      <td>0.06694</td>\n",
       "      <td>0.806316</td>\n",
       "    </tr>\n",
       "  </tbody>\n",
       "</table>\n",
       "</div>"
      ],
      "text/plain": [
       "                   Mean  Volatility  Sharpe_ratio\n",
       "HFRIFWI Index  0.053975     0.06694      0.806316"
      ]
     },
     "execution_count": 21,
     "metadata": {},
     "output_type": "execute_result"
    }
   ],
   "source": [
    "stats(hfri.to_frame()[60:])"
   ]
  },
  {
   "cell_type": "code",
   "execution_count": 22,
   "metadata": {
    "ExecuteTime": {
     "end_time": "2023-10-09T19:59:48.171569400Z",
     "start_time": "2023-10-09T19:59:48.099570300Z"
    },
    "jupyter": {
     "outputs_hidden": false
    }
   },
   "outputs": [
    {
     "data": {
      "text/html": [
       "<div>\n",
       "<style scoped>\n",
       "    .dataframe tbody tr th:only-of-type {\n",
       "        vertical-align: middle;\n",
       "    }\n",
       "\n",
       "    .dataframe tbody tr th {\n",
       "        vertical-align: top;\n",
       "    }\n",
       "\n",
       "    .dataframe thead th {\n",
       "        text-align: right;\n",
       "    }\n",
       "</style>\n",
       "<table border=\"1\" class=\"dataframe\">\n",
       "  <thead>\n",
       "    <tr style=\"text-align: right;\">\n",
       "      <th></th>\n",
       "      <th>Skewness</th>\n",
       "      <th>Excess_Kurtosis</th>\n",
       "      <th>VaR</th>\n",
       "      <th>CVaR</th>\n",
       "      <th>Max_Drawdown</th>\n",
       "      <th>Peak</th>\n",
       "      <th>Bottom</th>\n",
       "      <th>Recovery Date</th>\n",
       "    </tr>\n",
       "  </thead>\n",
       "  <tbody>\n",
       "    <tr>\n",
       "      <th>HFRIFWI Index</th>\n",
       "      <td>-1.115531</td>\n",
       "      <td>6.678988</td>\n",
       "      <td>-0.02384</td>\n",
       "      <td>-0.040163</td>\n",
       "      <td>-0.115473</td>\n",
       "      <td>2019-12-31</td>\n",
       "      <td>2020-03-31</td>\n",
       "      <td>2020-08-31</td>\n",
       "    </tr>\n",
       "  </tbody>\n",
       "</table>\n",
       "</div>"
      ],
      "text/plain": [
       "               Skewness   Excess_Kurtosis      VaR      CVaR  Max_Drawdown  \\\n",
       "HFRIFWI Index -1.115531          6.678988 -0.02384 -0.040163     -0.115473   \n",
       "\n",
       "                    Peak     Bottom Recovery Date  \n",
       "HFRIFWI Index 2019-12-31 2020-03-31    2020-08-31  "
      ]
     },
     "execution_count": 22,
     "metadata": {},
     "output_type": "execute_result"
    }
   ],
   "source": [
    "risk_stats(hfri.to_frame()[60:])"
   ]
  },
  {
   "cell_type": "markdown",
   "metadata": {},
   "source": [
    "#### How well does the out-of-sample replication perform with respect to the target?\n",
    "\n",
    "The fitted returns from rolling regresson model have lower mean, slightly lower volatility and lower sharpe ratio. Also, the fitted model has much lower excess kurtosis, and the correlation between fitted and actual is very high at 0.899, indicating that it performs well."
   ]
  },
  {
   "cell_type": "markdown",
   "metadata": {},
   "source": [
    "<font color='red'>\n",
    "\n",
    "We have an out-of-sample R^2 of 80\\%, which is extremely good for this simple linear model with monthly rebalancing, in my opinion. \n",
    "\n",
    "</font>"
   ]
  },
  {
   "cell_type": "code",
   "execution_count": 23,
   "metadata": {
    "ExecuteTime": {
     "end_time": "2023-10-09T19:59:56.337379300Z",
     "start_time": "2023-10-09T19:59:55.631383100Z"
    },
    "jupyter": {
     "outputs_hidden": false
    }
   },
   "outputs": [
    {
     "data": {
      "image/png": "[encoded data removed]",
      "text/plain": [
       "<Figure size 720x288 with 1 Axes>"
      ]
     },
     "metadata": {
      "needs_background": "light"
     },
     "output_type": "display_data"
    }
   ],
   "source": [
    "plt.figure(figsize=(10, 4))\n",
    "plt.plot(hedge_fund['HFRIFWI Index'].loc['2016-08-31':], label='HFRIFWI Index')\n",
    "plt.plot(rolling_reg_replication, label='Replicated HFRIFWI Index')\n",
    "plt.title('Replication of HFRI based on the \"Merrill factors\"')\n",
    "plt.xlabel('date')\n",
    "plt.ylabel('HFRIFWI')\n",
    "plt.grid(visible=1)\n",
    "plt.legend(fontsize='x-small');"
   ]
  },
  {
   "cell_type": "markdown",
   "metadata": {},
   "source": [
    "### 8."
   ]
  },
  {
   "cell_type": "markdown",
   "metadata": {},
   "source": [
    "#### The regression beta, in compared with the estimated beta with an intercept, $\\hat{\\beta}^{\\merr}$\n",
    "\n",
    "Betas are very different for SPY and USGG3M. Dropped intercept model the slope is steeper because we start at origin, as seen in the large increase in beta for USGG3M."
   ]
  },
  {
   "cell_type": "code",
   "execution_count": 24,
   "metadata": {
    "ExecuteTime": {
     "end_time": "2023-10-09T20:00:02.713097600Z",
     "start_time": "2023-10-09T20:00:02.673097400Z"
    },
    "jupyter": {
     "outputs_hidden": false
    }
   },
   "outputs": [
    {
     "data": {
      "text/html": [
       "<div>\n",
       "<style scoped>\n",
       "    .dataframe tbody tr th:only-of-type {\n",
       "        vertical-align: middle;\n",
       "    }\n",
       "\n",
       "    .dataframe tbody tr th {\n",
       "        vertical-align: top;\n",
       "    }\n",
       "\n",
       "    .dataframe thead th {\n",
       "        text-align: right;\n",
       "    }\n",
       "</style>\n",
       "<table border=\"1\" class=\"dataframe\">\n",
       "  <thead>\n",
       "    <tr style=\"text-align: right;\">\n",
       "      <th></th>\n",
       "      <th>beta</th>\n",
       "    </tr>\n",
       "  </thead>\n",
       "  <tbody>\n",
       "    <tr>\n",
       "      <th>SPY US Equity</th>\n",
       "      <td>0.050858</td>\n",
       "    </tr>\n",
       "    <tr>\n",
       "      <th>USGG3M Index</th>\n",
       "      <td>0.337787</td>\n",
       "    </tr>\n",
       "    <tr>\n",
       "      <th>EEM US Equity</th>\n",
       "      <td>0.077639</td>\n",
       "    </tr>\n",
       "    <tr>\n",
       "      <th>EFA US Equity</th>\n",
       "      <td>0.075253</td>\n",
       "    </tr>\n",
       "    <tr>\n",
       "      <th>EUO US Equity</th>\n",
       "      <td>0.025636</td>\n",
       "    </tr>\n",
       "    <tr>\n",
       "      <th>IWM US Equity</th>\n",
       "      <td>0.148556</td>\n",
       "    </tr>\n",
       "  </tbody>\n",
       "</table>\n",
       "</div>"
      ],
      "text/plain": [
       "                   beta\n",
       "SPY US Equity  0.050858\n",
       "USGG3M Index   0.337787\n",
       "EEM US Equity  0.077639\n",
       "EFA US Equity  0.075253\n",
       "EUO US Equity  0.025636\n",
       "IWM US Equity  0.148556"
      ]
     },
     "execution_count": 24,
     "metadata": {},
     "output_type": "execute_result"
    }
   ],
   "source": [
    "betas, treynor, alpha, r_squared, tracking_er_vol = regression(\n",
    "    merrill, hfri, risk_free, multiple=True, alpha=False)\n",
    "\n",
    "coefficients_new = pd.DataFrame(betas, columns=['beta'], index=merrill.columns)\n",
    "coefficients_new"
   ]
  },
  {
   "cell_type": "code",
   "execution_count": 25,
   "metadata": {
    "ExecuteTime": {
     "end_time": "2023-10-09T20:00:03.860350400Z",
     "start_time": "2023-10-09T20:00:03.787651Z"
    },
    "jupyter": {
     "outputs_hidden": false
    }
   },
   "outputs": [
    {
     "data": {
      "text/html": [
       "<div>\n",
       "<style scoped>\n",
       "    .dataframe tbody tr th:only-of-type {\n",
       "        vertical-align: middle;\n",
       "    }\n",
       "\n",
       "    .dataframe tbody tr th {\n",
       "        vertical-align: top;\n",
       "    }\n",
       "\n",
       "    .dataframe thead th {\n",
       "        text-align: right;\n",
       "    }\n",
       "</style>\n",
       "<table border=\"1\" class=\"dataframe\">\n",
       "  <thead>\n",
       "    <tr style=\"text-align: right;\">\n",
       "      <th></th>\n",
       "      <th>coefficient</th>\n",
       "    </tr>\n",
       "  </thead>\n",
       "  <tbody>\n",
       "    <tr>\n",
       "      <th>SPY US Equity</th>\n",
       "      <td>0.033308</td>\n",
       "    </tr>\n",
       "    <tr>\n",
       "      <th>USGG3M Index</th>\n",
       "      <td>-0.165908</td>\n",
       "    </tr>\n",
       "    <tr>\n",
       "      <th>EEM US Equity</th>\n",
       "      <td>0.077857</td>\n",
       "    </tr>\n",
       "    <tr>\n",
       "      <th>EFA US Equity</th>\n",
       "      <td>0.082410</td>\n",
       "    </tr>\n",
       "    <tr>\n",
       "      <th>EUO US Equity</th>\n",
       "      <td>0.022649</td>\n",
       "    </tr>\n",
       "    <tr>\n",
       "      <th>IWM US Equity</th>\n",
       "      <td>0.152074</td>\n",
       "    </tr>\n",
       "  </tbody>\n",
       "</table>\n",
       "</div>"
      ],
      "text/plain": [
       "               coefficient\n",
       "SPY US Equity     0.033308\n",
       "USGG3M Index     -0.165908\n",
       "EEM US Equity     0.077857\n",
       "EFA US Equity     0.082410\n",
       "EUO US Equity     0.022649\n",
       "IWM US Equity     0.152074"
      ]
     },
     "execution_count": 25,
     "metadata": {},
     "output_type": "execute_result"
    }
   ],
   "source": [
    "coefficients.loc[merrill.columns]"
   ]
  },
  {
   "cell_type": "markdown",
   "metadata": {},
   "source": [
    "#### The mean of the fitted value, $\\check{r}^{\\hfri}_{t}$, in compared with the mean of the HFRI?\n",
    "\n",
    "The mean fitted returns for replication hedge-fund series is lower than the actual mean returns, result of deviating betas which absorbed the loss of the intercept in the regression."
   ]
  },
  {
   "cell_type": "code",
   "execution_count": 54,
   "metadata": {
    "ExecuteTime": {
     "end_time": "2023-10-09T20:00:12.119767500Z",
     "start_time": "2023-10-09T20:00:12.095728600Z"
    },
    "jupyter": {
     "outputs_hidden": false
    }
   },
   "outputs": [],
   "source": [
    "with_const = np.array(merrill) @ np.array(coefficients.loc[merrill.columns])\n",
    "without_const = np.array(\n",
    "    merrill) @ np.array(coefficients_new.loc[merrill.columns])"
   ]
  },
  {
   "cell_type": "code",
   "execution_count": 27,
   "metadata": {
    "ExecuteTime": {
     "end_time": "2023-10-09T20:00:12.754607700Z",
     "start_time": "2023-10-09T20:00:12.578564600Z"
    },
    "jupyter": {
     "outputs_hidden": false
    }
   },
   "outputs": [
    {
     "data": {
      "text/html": [
       "<div>\n",
       "<style scoped>\n",
       "    .dataframe tbody tr th:only-of-type {\n",
       "        vertical-align: middle;\n",
       "    }\n",
       "\n",
       "    .dataframe tbody tr th {\n",
       "        vertical-align: top;\n",
       "    }\n",
       "\n",
       "    .dataframe thead th {\n",
       "        text-align: right;\n",
       "    }\n",
       "</style>\n",
       "<table border=\"1\" class=\"dataframe\">\n",
       "  <thead>\n",
       "    <tr style=\"text-align: right;\">\n",
       "      <th></th>\n",
       "      <th>Replication</th>\n",
       "      <th>Actual</th>\n",
       "    </tr>\n",
       "  </thead>\n",
       "  <tbody>\n",
       "    <tr>\n",
       "      <th>Fitted &amp; Actual Mean</th>\n",
       "      <td>0.033082</td>\n",
       "      <td>0.043223</td>\n",
       "    </tr>\n",
       "  </tbody>\n",
       "</table>\n",
       "</div>"
      ],
      "text/plain": [
       "                      Replication    Actual\n",
       "Fitted & Actual Mean     0.033082  0.043223"
      ]
     },
     "execution_count": 27,
     "metadata": {},
     "output_type": "execute_result"
    }
   ],
   "source": [
    "no_constant_replication = without_const.mean() * 12\n",
    "original = hedge_fund['HFRIFWI Index'].mean() * 12\n",
    "pd.DataFrame([[no_constant_replication, original]], columns=[\n",
    "             'Replication', 'Actual'], index=['Fitted & Actual Mean'])"
   ]
  },
  {
   "cell_type": "markdown",
   "metadata": {},
   "source": [
    "#### The correlations of the fitted values, $\\check{r}^{\\hfri}_{t}$ to the HFRI, in compared with the correlation compare to that of the fitted values with an intercept, $\\hat{r}^{\\hfri}_{t}$\n",
    "\n",
    "The correlation between fitted returns and actual returns is quite high in both regression models, with value around 0.914-0.915. "
   ]
  },
  {
   "cell_type": "code",
   "execution_count": 28,
   "metadata": {
    "ExecuteTime": {
     "end_time": "2023-10-09T20:00:20.211784700Z",
     "start_time": "2023-10-09T20:00:20.179751700Z"
    },
    "jupyter": {
     "outputs_hidden": false
    }
   },
   "outputs": [],
   "source": [
    "merrill_summary = stats(merrill)\n",
    "\n",
    "fit_ret = np.array(coefficients.loc[merrill.columns]).T @ np.array(merrill.T)\n",
    "fit_returns = pd.DataFrame(\n",
    "    fit_ret.T, columns=['HFRIFWI Index'], index=[merrill.index]).T\n",
    "\n",
    "mean_fit_returns = stats(fit_returns.T).rename(\n",
    "    columns={'Mean': 'Mean Fitted Returns'})\n",
    "\n",
    "mean_fit_returns = pd.concat([mean_fit_returns.loc[:, ['Mean Fitted Returns']], stats_list.loc[:, ['Mean']]], axis=1).rename(\n",
    "    columns={'key_0': 'Hedge Fund', 'Mean': 'Mean Actual Returns'}).dropna(subset='Mean Fitted Returns')"
   ]
  },
  {
   "cell_type": "code",
   "execution_count": 29,
   "metadata": {
    "ExecuteTime": {
     "end_time": "2023-10-09T20:00:20.744890Z",
     "start_time": "2023-10-09T20:00:20.616895200Z"
    },
    "jupyter": {
     "outputs_hidden": false
    }
   },
   "outputs": [
    {
     "data": {
      "text/html": [
       "<div>\n",
       "<style scoped>\n",
       "    .dataframe tbody tr th:only-of-type {\n",
       "        vertical-align: middle;\n",
       "    }\n",
       "\n",
       "    .dataframe tbody tr th {\n",
       "        vertical-align: top;\n",
       "    }\n",
       "\n",
       "    .dataframe thead th {\n",
       "        text-align: right;\n",
       "    }\n",
       "</style>\n",
       "<table border=\"1\" class=\"dataframe\">\n",
       "  <thead>\n",
       "    <tr style=\"text-align: right;\">\n",
       "      <th></th>\n",
       "      <th>Without Intercept</th>\n",
       "      <th>With Intercept</th>\n",
       "    </tr>\n",
       "  </thead>\n",
       "  <tbody>\n",
       "    <tr>\n",
       "      <th>Fitted &amp; Actual Return Correlation</th>\n",
       "      <td>0.914034</td>\n",
       "      <td>0.914823</td>\n",
       "    </tr>\n",
       "  </tbody>\n",
       "</table>\n",
       "</div>"
      ],
      "text/plain": [
       "                                    Without Intercept  With Intercept\n",
       "Fitted & Actual Return Correlation           0.914034        0.914823"
      ]
     },
     "execution_count": 29,
     "metadata": {},
     "output_type": "execute_result"
    }
   ],
   "source": [
    "no_constant_replication = np.corrcoef(\n",
    "    hedge_fund['HFRIFWI Index'], without_const.reshape(145,))[0, 1]\n",
    "constant_replication = pd.concat([hedge_fund['HFRIFWI Index'].reset_index(\n",
    "    drop=True), pd.DataFrame(with_const)], axis=1).corr().iloc[0, 1]\n",
    "pd.DataFrame([[no_constant_replication, constant_replication]], columns=[\n",
    "             'Without Intercept', 'With Intercept'], index=['Fitted & Actual Return Correlation'])"
   ]
  },
  {
   "cell_type": "markdown",
   "metadata": {},
   "source": [
    "#### Do you think Merrill and ProShares fit their replicators with an intercept or not?"
   ]
  },
  {
   "cell_type": "markdown",
   "metadata": {},
   "source": [
    "* If a porfolio aims to deliver hedge-fund returns via an ETF, the replication should not include an intercept in the regression to match the same mean returns of hedge funds for the investors.\n",
    "\n",
    "* If a porfolio aims to deliver a hedge or a similar variation, then the replication should include an intercept, while its mean returns by alpha would be different from hedge funds.\n",
    "\n",
    "* From the high correlation between fitted returns and actual returns with/without intercept, we can see Proshares and Merrill Lynch aim to match the high returns like hedge funds, so they should definitely fit their replicators with an intercept."
   ]
  },
  {
   "cell_type": "code",
   "execution_count": null,
   "metadata": {},
   "outputs": [],
   "source": []
  },
  {
   "cell_type": "code",
   "execution_count": null,
   "metadata": {},
   "outputs": [],
   "source": []
  }
 ],
 "metadata": {
  "kernelspec": {
   "display_name": "Python 3 (ipykernel)",
   "language": "python",
   "name": "python3"
  },
  "language_info": {
   "codemirror_mode": {
    "name": "ipython",
    "version": 3
   },
   "file_extension": ".py",
   "mimetype": "text/x-python",
   "name": "python",
   "nbconvert_exporter": "python",
   "pygments_lexer": "ipython3",
   "version": "3.8.8"
  }
 },
 "nbformat": 4,
 "nbformat_minor": 4
}
