{
 "cells": [
  {
   "cell_type": "markdown",
   "id": "a97c4251",
   "metadata": {},
   "source": [
    "# Homework 1\n",
    "\n",
    "## FINM 36700 - 2023\n",
    "\n",
    "### UChicago Financial Mathematics\n",
    "\n",
    "* Mark Hendricks\n",
    "* hendricks@uchicago.edu\n",
    "\n",
    "## HBS Case\n",
    "\n",
    "### *The Harvard Management Company and Inflation-Indexed Bonds*"
   ]
  },
  {
   "cell_type": "markdown",
   "id": "cef92ba4",
   "metadata": {},
   "source": [
    "### Notation\n",
    "(Hidden LaTeX commands)\n",
    "\n",
    "$$\\newcommand{\\mux}{\\tilde{\\boldsymbol{\\mu}}}$$\n",
    "$$\\newcommand{\\wtan}{\\boldsymbol{\\text{w}}^{\\text{tan}}}$$\n",
    "$$\\newcommand{\\wtarg}{\\boldsymbol{\\text{w}}^{\\text{port}}}$$\n",
    "$$\\newcommand{\\mutarg}{\\tilde{\\boldsymbol{\\mu}}^{\\text{port}}}$$\n",
    "$$\\newcommand{\\wEW}{\\boldsymbol{\\text{w}}^{\\text{EW}}}$$\n",
    "$$\\newcommand{\\wRP}{\\boldsymbol{\\text{w}}^{\\text{RP}}}$$\n",
    "$$\\newcommand{\\wREG}{\\boldsymbol{\\text{w}}^{\\text{REG}}}$$"
   ]
  },
  {
   "cell_type": "markdown",
   "id": "cbb624b4",
   "metadata": {},
   "source": [
    "***"
   ]
  },
  {
   "cell_type": "markdown",
   "id": "31dfdadc",
   "metadata": {},
   "source": [
    "# 1. HMC's Approach\n",
    "\n",
    "**Section 1 is not graded**, and you do not need to submit your answers. But you are encouraged to think about them, and we will discuss them."
   ]
  },
  {
   "cell_type": "markdown",
   "id": "77eafffb",
   "metadata": {},
   "source": [
    "### 1. \n",
    "There are thousands of individual risky assets in which HMC can invest.  Explain why MV optimization across 1,000 securities is infeasible.\n",
    "\n",
    "### 2.\n",
    "Rather than optimize across all securities directly, HMC runs a two-stage optimization.\n",
    "1. They build asset class portfolios with each one optimized over the securities of the specific asset class.  \n",
    "2. HMC combines the asset-class portfolios into one total optimized portfolio.\n",
    "\n",
    "In order for the two-stage optimization to be a good approximation of the full MV-optimization on all assets, what must be true of the partition of securities into asset classes?\n",
    "\n",
    "### 3.\n",
    "Should TIPS form a new asset class or be grouped into one of the other 11 classes?\n",
    "\n",
    "### 4. \n",
    "Why does HMC focus on real returns when analyzing its portfolio allocation? Is this just a matter of scaling, or does using real returns versus nominal returns potentially change the MV solution?\n",
    "\n",
    "### 5.\n",
    "The case discusses the fact that Harvard places bounds on the portfolio allocation rather than implementing whatever numbers come out of the MV optimization problem.\n",
    "\n",
    "How might we adjust the stated optimization problem in the lecture notes to reflect the extra constraints Harvard is using in their bounded solutions given in Exhibits 5 and 6. Just consider how we might rewrite the optimization; don’t try to solve this extra-constrained optimization.\n",
    "\n",
    "### 6. \n",
    "Exhibits 5 shows zero allocation to domestic equities and domestic bonds across the entire computed range of targeted returns, (5.75% to 7.25%). Conceptually, why is the constraint binding in all these cases? What would the unconstrained portfolio want to do with those allocations and why?\n",
    "\n",
    "### 7.\n",
    "Exhibit 6 changes the constraints, (tightening them in most cases.) How much deterioration do we see in the mean-variance tradeoff that Harvard achieved?"
   ]
  },
  {
   "cell_type": "markdown",
   "id": "f7d7adf1",
   "metadata": {},
   "source": [
    "***"
   ]
  },
  {
   "cell_type": "markdown",
   "id": "d1614003",
   "metadata": {},
   "source": [
    "# 2 Mean-Variance Optimization\n",
    "\n",
    "<i>This section is graded for a good-faith effort by your group. Submit your write-up- along with your supporting code. \n",
    "    \n",
    "    Don't just submit code or messy numbers; submit a coherent write-up based on your work.</i>\n",
    "\n",
    "### Data\n",
    "You will need the file in the github repo, `data/multi_asset_etf_data.xlsx`.\n",
    "- The time-series data gives monthly returns for the 11 asset classes and a short-term Treasury-bill fund return, (\"SHV\",) which we consider as the risk-free rate.\n",
    "- The data is provided in total returns, (in which case you should ignore the SHV column,) as well as excess returns, (where SHV has been subtracted from the other columns.)\n",
    "- These are nominal returns-they are not adjusted for inflation, and in our calculations we are not making any adjustment for inflation.\n",
    "- The exhibit data that comes via Harvard with the case is unnecessary for our analysis.\n",
    "\n",
    "### Model\n",
    "We are going to analyze the problem in terms of **excess** returns.\n",
    "- Thus, you will focus on the `Excess Returns` section of the lecture notes, especially the formulas on slide 50.\n",
    "- Be sure to use the`excess returns` tab of the data.\n",
    "\n",
    "### Format\n",
    "In the questions below, **annualize the statistics** you report.\n",
    "- Annualize the mean of monthly returns with a scaling of 12.\n",
    "- Annualize the volatility of monthly returns with a scaling of $\\sqrt{12}$\n",
    "- The Sharpe Ratio is the mean return divided by the volatility of returns. Accordingly, we can annualize the Sharpe Ratio with a scaling of $\\sqrt{12}$\n",
    "- Note that we are not scaling the raw timeseries data, just the statistics computed from it (mean, vol, Sharpe). "
   ]
  },
  {
   "cell_type": "markdown",
   "id": "afa47172",
   "metadata": {},
   "source": [
    "### Footnotes\n",
    "\n",
    "#### Data File\n",
    "* The case does not give time-series data, so this data has been compiled outside of the case, and it intends to represent the main asset classes under consideration via various ETFs. For details on the specific securities/indexes, check the “Info” tab of the data.\n",
    "\n",
    "#### Risk-free rate\n",
    "* In the lecture-note we considered a constant risk-free rate. It is okay that our risk-free rate changes over time, but the assumption is that investors know it’s value one-period ahead of time. Thus, at any given point in time, it is a risk-free rate for the next period. (This is often discussed as the \"bank account\" or \"money market account\" in other settings."
   ]
  },
  {
   "cell_type": "markdown",
   "id": "d3962427",
   "metadata": {},
   "source": [
    "## 1. Summary Statistics\n",
    "* Calculate and display the mean and volatility of each asset’s excess return. (Recall we use volatility to refer to standard deviation.)\n",
    "* Which assets have the best and worst Sharpe ratios? Recall that the Sharpe Ratio is simply the ratio of the mean-to-volatility of excess returns:\n",
    "$$\\text{sharpe ratio of investment }i = \\frac{\\mux_i}{\\sigma_i}$$\n",
    "\n",
    "## 2. Descriptive Analysis\n",
    "* Calculate the correlation matrix of the returns. Which pair has the highest correlation? And the lowest?\n",
    "* How well have TIPS done in our sample? Have they outperformed domestic bonds? Foreign bonds?\n",
    "\n",
    "## 3. The MV frontier.\n",
    "* Compute and display the weights of the tangency portfolios: $\\wtan$.\n",
    "* Does the ranking of weights align with the ranking of Sharpe ratios?\n",
    "* Compute the mean, volatility, and Sharpe ratio for the tangency portfolio corresponding to\n",
    "$\\wtan$.\n",
    "\n",
    "## 4. TIPS\n",
    "Assess how much the tangency portfolio (and performance) change if...\n",
    "* TIPS are dropped completely from the investment set.\n",
    "* The expected excess return to TIPS is adjusted to be 0.0012 higher than what the historic sample shows.\n",
    "\n",
    "Based on the analysis, do TIPS seem to expand the investment opportunity set, implying that Harvard should consider them as a separate asset?"
   ]
  },
  {
   "cell_type": "code",
   "execution_count": 4,
   "id": "4fcf9afe",
   "metadata": {},
   "outputs": [],
   "source": [
    "import pandas as pd\n",
    "import numpy as np"
   ]
  },
  {
   "cell_type": "code",
   "execution_count": 7,
   "id": "46c50460",
   "metadata": {},
   "outputs": [
    {
     "data": {
      "text/html": [
       "<div>\n",
       "<style scoped>\n",
       "    .dataframe tbody tr th:only-of-type {\n",
       "        vertical-align: middle;\n",
       "    }\n",
       "\n",
       "    .dataframe tbody tr th {\n",
       "        vertical-align: top;\n",
       "    }\n",
       "\n",
       "    .dataframe thead th {\n",
       "        text-align: right;\n",
       "    }\n",
       "</style>\n",
       "<table border=\"1\" class=\"dataframe\">\n",
       "  <thead>\n",
       "    <tr style=\"text-align: right;\">\n",
       "      <th></th>\n",
       "      <th>ticker</th>\n",
       "      <th>shortName</th>\n",
       "      <th>quoteType</th>\n",
       "      <th>currency</th>\n",
       "      <th>volume</th>\n",
       "      <th>totalAssets</th>\n",
       "      <th>longBusinessSummary</th>\n",
       "    </tr>\n",
       "  </thead>\n",
       "  <tbody>\n",
       "    <tr>\n",
       "      <th>0</th>\n",
       "      <td>SPY</td>\n",
       "      <td>SPDR S&amp;P 500</td>\n",
       "      <td>ETF</td>\n",
       "      <td>USD</td>\n",
       "      <td>42926953</td>\n",
       "      <td>412799303680</td>\n",
       "      <td>The Trust seeks to achieve its investment obje...</td>\n",
       "    </tr>\n",
       "    <tr>\n",
       "      <th>1</th>\n",
       "      <td>EFA</td>\n",
       "      <td>iShares MSCI EAFE ETF</td>\n",
       "      <td>ETF</td>\n",
       "      <td>USD</td>\n",
       "      <td>9234292</td>\n",
       "      <td>48446230528</td>\n",
       "      <td>The fund generally will invest at least 80% of...</td>\n",
       "    </tr>\n",
       "    <tr>\n",
       "      <th>2</th>\n",
       "      <td>EEM</td>\n",
       "      <td>iShares MSCI Emerging Index Fun</td>\n",
       "      <td>ETF</td>\n",
       "      <td>USD</td>\n",
       "      <td>21697929</td>\n",
       "      <td>21355970560</td>\n",
       "      <td>The fund generally will invest at least 80% of...</td>\n",
       "    </tr>\n",
       "    <tr>\n",
       "      <th>3</th>\n",
       "      <td>PSP</td>\n",
       "      <td>Invesco Global Listed Private E</td>\n",
       "      <td>ETF</td>\n",
       "      <td>USD</td>\n",
       "      <td>2557</td>\n",
       "      <td>214931952</td>\n",
       "      <td>The fund generally will invest at least 90% of...</td>\n",
       "    </tr>\n",
       "    <tr>\n",
       "      <th>4</th>\n",
       "      <td>QAI</td>\n",
       "      <td>IQ Hedge MultiIQ Hedge Multi-St</td>\n",
       "      <td>ETF</td>\n",
       "      <td>USD</td>\n",
       "      <td>16734</td>\n",
       "      <td>624121728</td>\n",
       "      <td>The fund is a \"fund of funds\" which means it i...</td>\n",
       "    </tr>\n",
       "    <tr>\n",
       "      <th>5</th>\n",
       "      <td>HYG</td>\n",
       "      <td>iShares iBoxx $ High Yield Corp</td>\n",
       "      <td>ETF</td>\n",
       "      <td>USD</td>\n",
       "      <td>18515962</td>\n",
       "      <td>14783441920</td>\n",
       "      <td>The underlying index is a rules-based index co...</td>\n",
       "    </tr>\n",
       "    <tr>\n",
       "      <th>6</th>\n",
       "      <td>DBC</td>\n",
       "      <td>Invesco DB Commodity Index Trac</td>\n",
       "      <td>ETF</td>\n",
       "      <td>USD</td>\n",
       "      <td>506418</td>\n",
       "      <td>2091483648</td>\n",
       "      <td>The fund pursues its investment objective by i...</td>\n",
       "    </tr>\n",
       "    <tr>\n",
       "      <th>7</th>\n",
       "      <td>IYR</td>\n",
       "      <td>iShares U.S. Real Estate ETF</td>\n",
       "      <td>ETF</td>\n",
       "      <td>USD</td>\n",
       "      <td>4115950</td>\n",
       "      <td>2840025600</td>\n",
       "      <td>The fund seeks to track the investment results...</td>\n",
       "    </tr>\n",
       "    <tr>\n",
       "      <th>8</th>\n",
       "      <td>IEF</td>\n",
       "      <td>iShares 7-10 Year Treasury Bond</td>\n",
       "      <td>ETF</td>\n",
       "      <td>USD</td>\n",
       "      <td>4696390</td>\n",
       "      <td>28524961792</td>\n",
       "      <td>The underlying index measures the performance ...</td>\n",
       "    </tr>\n",
       "    <tr>\n",
       "      <th>9</th>\n",
       "      <td>BWX</td>\n",
       "      <td>SPDR Bloomberg International Tr</td>\n",
       "      <td>ETF</td>\n",
       "      <td>USD</td>\n",
       "      <td>58614</td>\n",
       "      <td>898953088</td>\n",
       "      <td>The fund generally invests substantially all, ...</td>\n",
       "    </tr>\n",
       "    <tr>\n",
       "      <th>10</th>\n",
       "      <td>TIP</td>\n",
       "      <td>iShares TIPS Bond ETF</td>\n",
       "      <td>ETF</td>\n",
       "      <td>USD</td>\n",
       "      <td>1199516</td>\n",
       "      <td>21275783168</td>\n",
       "      <td>The index tracks the performance of inflation-...</td>\n",
       "    </tr>\n",
       "    <tr>\n",
       "      <th>11</th>\n",
       "      <td>SHV</td>\n",
       "      <td>iShares Short Treasury Bond ETF</td>\n",
       "      <td>ETF</td>\n",
       "      <td>USD</td>\n",
       "      <td>1570037</td>\n",
       "      <td>20401782784</td>\n",
       "      <td>The fund will invest at least 80% of its asset...</td>\n",
       "    </tr>\n",
       "  </tbody>\n",
       "</table>\n",
       "</div>"
      ],
      "text/plain": [
       "   ticker                        shortName quoteType currency    volume  \\\n",
       "0     SPY                     SPDR S&P 500       ETF      USD  42926953   \n",
       "1     EFA            iShares MSCI EAFE ETF       ETF      USD   9234292   \n",
       "2     EEM  iShares MSCI Emerging Index Fun       ETF      USD  21697929   \n",
       "3     PSP  Invesco Global Listed Private E       ETF      USD      2557   \n",
       "4     QAI  IQ Hedge MultiIQ Hedge Multi-St       ETF      USD     16734   \n",
       "5     HYG  iShares iBoxx $ High Yield Corp       ETF      USD  18515962   \n",
       "6     DBC  Invesco DB Commodity Index Trac       ETF      USD    506418   \n",
       "7     IYR     iShares U.S. Real Estate ETF       ETF      USD   4115950   \n",
       "8     IEF  iShares 7-10 Year Treasury Bond       ETF      USD   4696390   \n",
       "9     BWX  SPDR Bloomberg International Tr       ETF      USD     58614   \n",
       "10    TIP            iShares TIPS Bond ETF       ETF      USD   1199516   \n",
       "11    SHV  iShares Short Treasury Bond ETF       ETF      USD   1570037   \n",
       "\n",
       "     totalAssets                                longBusinessSummary  \n",
       "0   412799303680  The Trust seeks to achieve its investment obje...  \n",
       "1    48446230528  The fund generally will invest at least 80% of...  \n",
       "2    21355970560  The fund generally will invest at least 80% of...  \n",
       "3      214931952  The fund generally will invest at least 90% of...  \n",
       "4      624121728  The fund is a \"fund of funds\" which means it i...  \n",
       "5    14783441920  The underlying index is a rules-based index co...  \n",
       "6     2091483648  The fund pursues its investment objective by i...  \n",
       "7     2840025600  The fund seeks to track the investment results...  \n",
       "8    28524961792  The underlying index measures the performance ...  \n",
       "9      898953088  The fund generally invests substantially all, ...  \n",
       "10   21275783168  The index tracks the performance of inflation-...  \n",
       "11   20401782784  The fund will invest at least 80% of its asset...  "
      ]
     },
     "execution_count": 7,
     "metadata": {},
     "output_type": "execute_result"
    }
   ],
   "source": [
    "df = pd.read_excel('/Users/yiningqu/Desktop/multi_asset_etf_data.xlsx')\n",
    "df"
   ]
  },
  {
   "cell_type": "markdown",
   "id": "a8609d16",
   "metadata": {},
   "source": [
    "***"
   ]
  },
  {
   "cell_type": "markdown",
   "id": "c59490d8",
   "metadata": {},
   "source": [
    "# 3. Allocations\n",
    "\n",
    "<i>This section is graded for a good-faith effort by your group. Submit your write-up- along with your supporting code."
   ]
  },
  {
   "cell_type": "markdown",
   "id": "8e5eb238",
   "metadata": {},
   "source": [
    "* Continue with the same data file as the previous section.\n",
    "\n",
    "* Suppose the investor has a targeted mean excess return (per month) of $\\mutarg$ = 0.01."
   ]
  },
  {
   "cell_type": "markdown",
   "id": "1d46b44c",
   "metadata": {},
   "source": [
    "Build the following portfolios:\n",
    "\n",
    "#### Equally-weighted (EW)\n",
    "Rescale the entire weighting vector to have target mean $\\mutarg$. Thus, the $i$ element of the weight vector is,\n",
    "$$\\wEW_i = \\frac{1}{n}$$\n",
    "\n",
    "#### “Risk-parity” (RP)\n",
    "Risk-parity is a term used in a variety of ways, but here we have in mind setting the weight of the portfolio to be proportional to the inverse of its full-sample variance estimate. Thus, the $i$ element of the weight vector is,\n",
    "$$\\wRP_i = \\frac{1}{\\sigma_i^2}$$\n",
    "\n",
    "#### Regularized (REG)\n",
    "Much like the Mean-Variance portfolio, set the weights proportional to \n",
    "$$\\wREG \\sim \\widehat{\\Sigma}^{-1}\\mux$$\n",
    "but this time, use a regularized covariance matrix,\n",
    "$$\\widehat{\\Sigma} = \\frac{\\Sigma + \\Sigma_D}{2}$$\n",
    "where $\\Sigma_D$ denotes a *diagonal* matrix of the security variances, with zeros in the off-diagonals.\n",
    "\n",
    "Thus, $\\widehat{\\Sigma}$ is obtained from the usual covariance matrix, $\\Sigma$, but shrinking all the covariances to half their estimated values. \n",
    "\n",
    "\n",
    "### Comparing\n",
    "\n",
    "In order to compare all these allocation methods, (those above, along with the tangency portfolio obtained in the previous section,) rescale each weight vector, such that it has targeted mean return of $\\mutarg$.\n",
    "\n",
    "* Calculate the performance of each of these portfolios over the sample.\n",
    "* Report their mean, volatility, and Sharpe ratio. \n",
    "* How do these compare across the four allocation methods?"
   ]
  },
  {
   "cell_type": "code",
   "execution_count": 2,
   "id": "87a7cbbb",
   "metadata": {},
   "outputs": [],
   "source": [
    "import math\n",
    "import pandas as pd\n",
    "import numpy as np\n",
    "df = pd.read_excel('/Users/yiningqu/Desktop/multi_asset_etf_data.xlsx')\n",
    "excess_ret = pd.read_excel('/Users/yiningqu/Desktop/multi_asset_etf_data.xlsx',sheet_name = 'excess returns', index_col = 'Date')\n",
    "ret = pd.read_excel('/Users/yiningqu/Desktop/multi_asset_etf_data.xlsx',sheet_name = 'total returns', index_col = 'Date')\n"
   ]
  },
  {
   "cell_type": "code",
   "execution_count": 3,
   "id": "5f8502b3",
   "metadata": {},
   "outputs": [],
   "source": [
    "target_mean = 0.01 * 12"
   ]
  },
  {
   "cell_type": "code",
   "execution_count": 4,
   "id": "3a83ed3e",
   "metadata": {},
   "outputs": [
    {
     "data": {
      "text/html": [
       "<div>\n",
       "<style scoped>\n",
       "    .dataframe tbody tr th:only-of-type {\n",
       "        vertical-align: middle;\n",
       "    }\n",
       "\n",
       "    .dataframe tbody tr th {\n",
       "        vertical-align: top;\n",
       "    }\n",
       "\n",
       "    .dataframe thead th {\n",
       "        text-align: right;\n",
       "    }\n",
       "</style>\n",
       "<table border=\"1\" class=\"dataframe\">\n",
       "  <thead>\n",
       "    <tr style=\"text-align: right;\">\n",
       "      <th></th>\n",
       "      <th>mean</th>\n",
       "      <th>volatility</th>\n",
       "      <th>sharpe ratio</th>\n",
       "    </tr>\n",
       "  </thead>\n",
       "  <tbody>\n",
       "    <tr>\n",
       "      <th>Equally weighted</th>\n",
       "      <td>0.12</td>\n",
       "      <td>0.213275</td>\n",
       "      <td>0.562655</td>\n",
       "    </tr>\n",
       "  </tbody>\n",
       "</table>\n",
       "</div>"
      ],
      "text/plain": [
       "                  mean  volatility  sharpe ratio\n",
       "Equally weighted  0.12    0.213275      0.562655"
      ]
     },
     "execution_count": 4,
     "metadata": {},
     "output_type": "execute_result"
    }
   ],
   "source": [
    "#Equally-weighted (EW)\n",
    "ew = pd.DataFrame()\n",
    "weight1 = np.full((excess_ret.shape[1],1), 1/excess_ret.shape[1])\n",
    "mean = np.array(excess_ret.mean() * 12) @ weight1\n",
    "\n",
    "variance = weight1.T @ excess_ret.cov() @ weight1\n",
    "\n",
    "vol = math.sqrt(variance.iloc[0, 0]) *math.sqrt(12)\n",
    "\n",
    "sharpe_ratio = mean / vol\n",
    "\n",
    "rescale1 = target_mean / mean\n",
    "\n",
    "ew['mean'] = mean * rescale1\n",
    "ew['volatility'] = vol * rescale1\n",
    "ew['sharpe ratio'] = sharpe_ratio\n",
    "ew.index = ['Equally weighted']\n",
    "ew"
   ]
  },
  {
   "cell_type": "code",
   "execution_count": 5,
   "id": "ac8c6085",
   "metadata": {},
   "outputs": [
    {
     "data": {
      "text/html": [
       "<div>\n",
       "<style scoped>\n",
       "    .dataframe tbody tr th:only-of-type {\n",
       "        vertical-align: middle;\n",
       "    }\n",
       "\n",
       "    .dataframe tbody tr th {\n",
       "        vertical-align: top;\n",
       "    }\n",
       "\n",
       "    .dataframe thead th {\n",
       "        text-align: right;\n",
       "    }\n",
       "</style>\n",
       "<table border=\"1\" class=\"dataframe\">\n",
       "  <thead>\n",
       "    <tr style=\"text-align: right;\">\n",
       "      <th></th>\n",
       "      <th>mean</th>\n",
       "      <th>volatility</th>\n",
       "      <th>sharpe ratio</th>\n",
       "    </tr>\n",
       "  </thead>\n",
       "  <tbody>\n",
       "    <tr>\n",
       "      <th>Risk-parity</th>\n",
       "      <td>0.12</td>\n",
       "      <td>0.217685</td>\n",
       "      <td>0.551256</td>\n",
       "    </tr>\n",
       "  </tbody>\n",
       "</table>\n",
       "</div>"
      ],
      "text/plain": [
       "             mean  volatility  sharpe ratio\n",
       "Risk-parity  0.12    0.217685      0.551256"
      ]
     },
     "execution_count": 5,
     "metadata": {},
     "output_type": "execute_result"
    }
   ],
   "source": [
    "# “Risk-parity” (RP)\n",
    "rp = pd.DataFrame()\n",
    "weight_array = np.array(1/excess_ret.std()**2)\n",
    "scale = 1/weight_array.sum()\n",
    "weight2 = np.array(scale/excess_ret.std()**2).reshape(-1, 1)\n",
    "\n",
    "mean = np.array(excess_ret.mean() * 12) @ weight2\n",
    "\n",
    "variance = weight2.T @ excess_ret.cov() @ weight2\n",
    "vol = math.sqrt(variance.iloc[0, 0]) *math.sqrt(12)\n",
    "\n",
    "sharpe_ratio = mean / vol\n",
    "\n",
    "rescale1 = target_mean / mean\n",
    "\n",
    "rp['mean'] = mean * rescale1\n",
    "rp['volatility'] = vol * rescale1\n",
    "rp['sharpe ratio'] = sharpe_ratio\n",
    "rp.index = ['Risk-parity']\n",
    "rp"
   ]
  },
  {
   "cell_type": "code",
   "execution_count": 6,
   "id": "c2f02da4",
   "metadata": {},
   "outputs": [
    {
     "data": {
      "text/html": [
       "<div>\n",
       "<style scoped>\n",
       "    .dataframe tbody tr th:only-of-type {\n",
       "        vertical-align: middle;\n",
       "    }\n",
       "\n",
       "    .dataframe tbody tr th {\n",
       "        vertical-align: top;\n",
       "    }\n",
       "\n",
       "    .dataframe thead th {\n",
       "        text-align: right;\n",
       "    }\n",
       "</style>\n",
       "<table border=\"1\" class=\"dataframe\">\n",
       "  <thead>\n",
       "    <tr style=\"text-align: right;\">\n",
       "      <th></th>\n",
       "      <th>mean</th>\n",
       "      <th>volatility</th>\n",
       "      <th>sharpe ratio</th>\n",
       "    </tr>\n",
       "  </thead>\n",
       "  <tbody>\n",
       "    <tr>\n",
       "      <th>Regularized</th>\n",
       "      <td>0.12</td>\n",
       "      <td>0.094096</td>\n",
       "      <td>1.275299</td>\n",
       "    </tr>\n",
       "  </tbody>\n",
       "</table>\n",
       "</div>"
      ],
      "text/plain": [
       "             mean  volatility  sharpe ratio\n",
       "Regularized  0.12    0.094096      1.275299"
      ]
     },
     "execution_count": 6,
     "metadata": {},
     "output_type": "execute_result"
    }
   ],
   "source": [
    "#Regularized (REG)\n",
    "reg = pd.DataFrame()\n",
    "\n",
    "cov_matrix = np.array(excess_ret.cov()) \n",
    "sigma_d = np.diag(np.diag(cov_matrix))\n",
    "matrix = (cov_matrix + sigma_d)/2\n",
    "weight3 = np.linalg.inv(matrix) @ np.array(excess_ret.mean() * 12)\n",
    "scale = 1/weight3.sum()\n",
    "weight_reg = (weight3 * scale).reshape(-1, 1)\n",
    "\n",
    "mean = np.array(excess_ret.mean() * 12) @ weight_reg\n",
    "\n",
    "variance = weight_reg.T @ excess_ret.cov() @ weight_reg\n",
    "vol = math.sqrt(variance.iloc[0, 0]) *math.sqrt(12)\n",
    "\n",
    "sharpe_ratio = mean / vol\n",
    "\n",
    "rescale2 = target_mean / mean\n",
    "\n",
    "reg['mean'] = mean * rescale2\n",
    "reg['volatility'] = vol * rescale2\n",
    "reg['sharpe ratio'] = sharpe_ratio\n",
    "reg.index = ['Regularized']\n",
    "reg\n",
    "\n"
   ]
  },
  {
   "cell_type": "markdown",
   "id": "23ea828b",
   "metadata": {},
   "source": [
    "***"
   ]
  },
  {
   "cell_type": "markdown",
   "id": "a2a8443d",
   "metadata": {},
   "source": [
    "# 4. Out-of-Sample Performance\n",
    "\n",
    "<i>This section is not graded, and you do not need to submit it. Still, we may discuss it in class, in which case, you would be expected to know it."
   ]
  },
  {
   "cell_type": "markdown",
   "id": "24e4b25b",
   "metadata": {},
   "source": [
    "## 1. One-step Out-of-Sample (OOS) Performance\n",
    "Let’s divide the sample to both compute a portfolio and then check its performance out of sample.\n",
    "* Using only data through the end of 2021, compute the weights built in Section 3.\n",
    "* Rescale the weights, (using just the in-sample data,) to set each allocation to have the same mean return of $\\mutarg$.\n",
    "* Using those weights, calculate the portfolio’s Sharpe ratio within that sample.\n",
    "* Again using those weights, (derived using data through 2021,) calculate the portfolio’s OOS Sharpe ratio, which is based only on performance in 2022-2023."
   ]
  },
  {
   "cell_type": "markdown",
   "id": "2281c023",
   "metadata": {},
   "source": [
    "## 2. Rolling OOS Performance\n",
    "\n",
    "Iterate the Out-of-Sample performance every year, not just the final year. Namely,\n",
    "* Start at the end of 2014, and calculate the weights through that time. Rescale them using the mean returns through that time.\n",
    "* Apply the weights to the returns in the upcoming year, (2015.)\n",
    "* Step forward a year in time, and recompute.\n",
    "* Continue until again calculating the weights through 2022 and applying them to the returns in 2023.\n",
    "\n",
    "Report the mean, volatility, and Sharpe from this dynamic approach for the following portfolios:\n",
    "* mean-variance (tangency)\n",
    "* equally-weighted\n",
    "* risk-parity\n",
    "* regularized"
   ]
  },
  {
   "cell_type": "markdown",
   "id": "99dc96f3",
   "metadata": {},
   "source": [
    "***"
   ]
  },
  {
   "cell_type": "markdown",
   "id": "665b0cf7",
   "metadata": {},
   "source": [
    "# 5. Without a Riskless Asset\n",
    "\n",
    "<i>This section is not graded, and you do not need to submit it. Still, we may discuss it in class, in which case, you would be expected to know it."
   ]
  },
  {
   "cell_type": "markdown",
   "id": "b8b1ff49",
   "metadata": {},
   "source": [
    "Re-do Section 2 above, but in the model without a risk-free rate.\n",
    "\n",
    "That is, build the MV allocation using the two-part formula in the `Mean-Variance` section of the notes.\n",
    "* This essentially substitutes the risk-free rate with the minimum-variance portfolio.\n",
    "* Now, the allocation depends nonlinearly on the target mean return, $\\mutarg$. (With a risk-free rate, we simply scale the weights up and down to achieve the mean return.)\n",
    "\n",
    "You will find that, conceptually, the answers are very similar. "
   ]
  },
  {
   "cell_type": "markdown",
   "id": "e7d5734f",
   "metadata": {},
   "source": [
    "***"
   ]
  }
 ],
 "metadata": {
  "hide_input": false,
  "kernelspec": {
   "display_name": "Python 3",
   "language": "python",
   "name": "python3"
  },
  "language_info": {
   "codemirror_mode": {
    "name": "ipython",
    "version": 3
   },
   "file_extension": ".py",
   "mimetype": "text/x-python",
   "name": "python",
   "nbconvert_exporter": "python",
   "pygments_lexer": "ipython3",
   "version": "3.8.8"
  }
 },
 "nbformat": 4,
 "nbformat_minor": 5
}
