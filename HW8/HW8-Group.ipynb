{
 "cells": [
  {
   "cell_type": "markdown",
   "metadata": {},
   "source": [
    "\n",
    "\n",
    "<left>FINM 36700 - Portfolio Theory and Risk Management</left> \n",
    "<br>\n",
    "<left>Fall 2023</left>\n",
    "\n",
    "<h2><center> Homework 8 - Long-Term Capital Management, L.P. </center></h2>\n",
    "\n",
    "\n",
    "\n",
    "<h3><span style=\"color:#00008B\">GroupC 26</span></h3>\n"
   ]
  },
  {
   "cell_type": "markdown",
   "metadata": {},
   "source": []
  },
  {
   "cell_type": "markdown",
   "metadata": {},
   "source": [
    "### 1.1) Describe LTCM's investment strategy with regard to the following aspects:\n",
    "- #### Securities traded"
   ]
  },
  {
   "cell_type": "markdown",
   "metadata": {},
   "source": [
    "LTCM(Long term capital management) focused on exploiting market inefficiencies and engaging in arbitrage through Relative Value and Convergence trades. They adopted a long-short trading strategy to capitalize on these slight mispricings, employing significant leverage to amplify their investments in these minor discrepancies. Their strategy also involved hedging their positions through these long-short trades.\n",
    "\n",
    "Moreover, LTCM was deeply engaged in income and credit markets, along with substantial involvement in equities. They traded a wide array of securities across various global markets."
   ]
  },
  {
   "cell_type": "markdown",
   "metadata": {},
   "source": [
    "- #### Trading frequency"
   ]
  },
  {
   "cell_type": "markdown",
   "metadata": {},
   "source": [
    "LTCM's trading frequency was closely aligned with their distinct strategies. Their primary investment approach, convergence trades, typically had a long-term trading horizon, spanning weeks or months. Generally, LTCM did not focus on arbitraging intraday market movements, nor did they engage in long-term directional betting."
   ]
  },
  {
   "cell_type": "markdown",
   "metadata": {},
   "source": [
    "- #### Skewness (Do they seek many small wins or a few big hits?)"
   ]
  },
  {
   "cell_type": "markdown",
   "metadata": {},
   "source": [
    "LTCM's strategy was oriented towards achieving small, positive returns by employing leverage, rather than placing significant bets on specific events. This approach resulted in a lower skewness in their returns compared to instruments like the S&P 500 Index (SPY). However, this strategy made them more vulnerable to extreme market events."
   ]
  },
  {
   "cell_type": "markdown",
   "metadata": {},
   "source": [
    "- #### Forecasting (What is behind their selection of trades?)"
   ]
  },
  {
   "cell_type": "markdown",
   "metadata": {},
   "source": [
    "\n",
    "LTCM's approach to selecting trades was rooted in building models to identify mispricing in the market and understanding the reasons behind such mispricing. They would then forecast their potential profit and loss based on these identified opportunities. The key to their forecasting wasn't solely their advanced mathematical models; while they utilized concepts like convergence trade and relative value theory, their real edge came from their deep knowledge and understanding of market dynamics."
   ]
  },
  {
   "cell_type": "markdown",
   "metadata": {},
   "source": [
    "### 1.2) What are LTCM's biggest advantages over its competitors?"
   ]
  },
  {
   "cell_type": "markdown",
   "metadata": {},
   "source": [
    "\n",
    "LTCM's primary advantages over its competitors included:\n",
    "\n",
    "Efficient Financing: LTCM excelled in securing financing and funding, complemented by their proprietary trading and modeling capabilities.\n",
    "\n",
    "Fund Size: Their large Assets Under Management (AUM) enabled them to leverage at favorable rates, providing a significant advantage in scale and negotiating power.\n",
    "\n",
    "Collateralization: LTCM was adept at better collateralizing their positions, resulting in lower haircuts and improved credit terms.\n",
    "\n",
    "Long-term Horizon: They had a long-term commitment of capital from investors, coupled with the availability of extended credit lines, allowing for more strategic and less pressured investment decisions.\n",
    "\n",
    "Liquidity and Hedging: LTCM implemented various mechanisms to ensure liquidity in their operations. They also focused on minimizing default risk and refrained from making explicit directional bets, enhancing their risk management and stability."
   ]
  },
  {
   "cell_type": "markdown",
   "metadata": {},
   "source": [
    "### 1.3) The case discusses four types of funding risk facing LTCM:\n",
    "\n",
    "### The case discusses specific ways in which LTCM manages each of these risks. Briefly discuss them."
   ]
  },
  {
   "cell_type": "markdown",
   "metadata": {},
   "source": [
    "LTCM managed the four types of funding risks in the following ways:\n",
    "\n",
    "Collateral Haircuts:In market disruptions, collateral haircuts could increase, leading to unfavorable terms for LTCM in funding a spread trade.\n",
    "To manage this, LTCM obtained 100% financing on a fully collateralized basis for most trades. They also conducted stress tests on haircuts across various asset classes to anticipate and manage potential risks.\n",
    "\n",
    "Repo Maturity: In adverse situations where LTCM's credit risk increased, securing longer-term repos, which were favorable for their trades, could become challenging.\n",
    "LTCM countered this by engaging in relatively long-maturity repos, contrary to the industry norm. While much of their repos were overnight, they typically used contracts with a maturity of 6-12 months, managing their aggregate repo maturity to mitigate risks.\n",
    "\n",
    "Equity Redemption: LTCM faced redemption risk from investors, especially if in a convergence trade, the two securities diverged significantly before converging. This could force LTCM to finance their strategies during margin calls or unwind positions at unfavorable rates, leading to capital losses.\n",
    "To manage this, LTCM restricted redemptions of equity year by year, with a strong policy where unredeemed money was re-locked, minimizing the risk related to equity funding due to high leverage.\n",
    "\n",
    "Loan Access: During crises, accessing loans could become more difficult, potentially worsening the fund's performance.\n",
    "LTCM mitigated this risk by negotiating a revolving loan that did not include a Material Adverse Change clause. This ensured that the availability of debt funding was less correlated with the fund's performance, providing more stability in crisis situations."
   ]
  },
  {
   "cell_type": "markdown",
   "metadata": {},
   "source": [
    "### 1.4) LTCM is largely in the business of selling liquidity and volatility. Describe how LTCM accounts for liquidity risk in their quantitative measurements."
   ]
  },
  {
   "cell_type": "markdown",
   "metadata": {},
   "source": [
    "LTCM required counterparties to maintain the collateral balance through a daily two-way mark to market process. This approach ensured that the cash flow coming in from the counterparties' mark to market would fund LTCM's outflow for the mark to market call on their offsetting position. This mechanism helped in managing liquidity risks by ensuring a steady flow of funds.\n",
    "\n",
    "LTCM also estimated theoretical worst-case haircuts it could face in adverse market situations. By forecasting these worst-case liquidity scenarios, LTCM could better structure its financing, reducing the likelihood of having to liquidate positions solely due to adverse market events. This foresight in planning provided a buffer against unexpected liquidity squeezes.\n",
    "\n",
    "To account for liquidity risk quantitatively, LTCM adjusted security correlations in their models. For short-term horizons, they assumed a positive correlation between all trade categories. This means that even if their net exposure to a strategy changed sides, they still assumed a positive correlation to the new net position. This approach helped in better understanding and managing the potential impacts of liquidity changes on their portfolio."
   ]
  },
  {
   "cell_type": "markdown",
   "metadata": {},
   "source": [
    "### 1.5) Is leverage risk currently a concern for LTCM?"
   ]
  },
  {
   "cell_type": "markdown",
   "metadata": {},
   "source": [
    "As of the current situation, leverage risk is not an immediate concern for LTCM due to the absence of extreme market events. However, it remains a potential threat. The considerable size of their committed capital, coupled with limited opportunities to effectively utilize excess capital for enhancing returns, has led LTCM to contemplate returning some of the investments made. This step would effectively reduce the leverage, thereby mitigating the associated risks to some extent."
   ]
  },
  {
   "cell_type": "markdown",
   "metadata": {},
   "source": [
    "### 1.6) Many strategies of LTCM rely on converging spreads. LTCM feels that these are almost win/win situations because of the fact that if the spread converges, they make money. If it diverges, the trade becomes even more attractive, as convergence is still expected at a future date. <br> <br> What is the risk in these convergence trades?"
   ]
  },
  {
   "cell_type": "markdown",
   "metadata": {},
   "source": [
    "LTCM's positions were vulnerable to liquidity risk. If market liquidity reduced or markets became segmented, the divergent spreads could persist for extended periods. This risk materialized for LTCM, where trades that eventually paid off did so only after the firm experienced significant financial distress.\n",
    "\n",
    "LTCM believed it could exit these convergence trades if they became too unprofitable using stop-loss orders. However, a stop-loss order isn't equivalent to a put option. If the price moves discontinuously, bypassing the stop-loss level, the order becomes ineffective. This means the firm could not rely on stop-loss orders as a fail-safe exit strategy.\n",
    "\n",
    "Besides,in situations where the market is paralyzed or illiquid, executing a stop-loss order could be challenging. Unlike a put option, which is not concerned with price impact, a stop-loss order is subject to it. This could result in LTCM having to sell securities at the worst possible timing, leading to unfavorable market outcomes.\n",
    "\n",
    "Last, although LTCM expected the spreads to converge eventually, there was a risk that this convergence might not happen as anticipated or within a feasible timeframe. This was exemplified about a year after the case study period, when LTCM lost most of its value due to trades that did not converge as expected."
   ]
  },
  {
   "cell_type": "code",
   "execution_count": 29,
   "metadata": {},
   "outputs": [],
   "source": [
    "import pandas as pd\n",
    "import numpy as np\n",
    "import scipy.stats as stats\n",
    "from scipy.stats import kurtosis, skew\n",
    "from scipy.stats import norm\n",
    "import seaborn as sns\n",
    "import statsmodels.api as sm\n",
    "from statsmodels.regression.rolling import RollingOLS\n",
    "import warnings\n",
    "warnings.filterwarnings(\"ignore\")\n",
    "\n",
    "%matplotlib inline\n",
    "\n",
    "\n",
    "import matplotlib.pyplot as plt\n",
    "plt.rcParams['figure.figsize']=[15, 6]\n",
    "import matplotlib.cm as cm"
   ]
  },
  {
   "cell_type": "code",
   "execution_count": 30,
   "metadata": {},
   "outputs": [],
   "source": [
    "def performance_summary(return_data):\n",
    "\n",
    "    summary_stats = return_data.mean().to_frame('Mean').apply(lambda x: x*12)\n",
    "    summary_stats['Volatility'] = return_data.std().apply(lambda x: x*np.sqrt(12))\n",
    "    summary_stats['Sharpe Ratio'] = summary_stats['Mean']/summary_stats['Volatility']\n",
    "    \n",
    "    summary_stats['Skewness'] = return_data.skew()\n",
    "    summary_stats['Excess Kurtosis'] = return_data.kurtosis()\n",
    "    summary_stats['VaR (0.5)'] = return_data.quantile(.05, axis = 0)\n",
    "    summary_stats['CVaR (0.5)'] = return_data[return_data <= return_data.quantile(.05, axis = 0)].mean()\n",
    "    summary_stats['Min'] = return_data.min()\n",
    "    summary_stats['Max'] = return_data.max()\n",
    "    \n",
    "    wealth_index = 1000*(1+return_data).cumprod()\n",
    "    previous_peaks = wealth_index.cummax()\n",
    "    drawdowns = (wealth_index - previous_peaks)/previous_peaks\n",
    "\n",
    "    summary_stats['Max Drawdown'] = drawdowns.min()\n",
    "    summary_stats['Peak'] = [previous_peaks[col][:drawdowns[col].idxmin()].idxmax() for col in previous_peaks.columns]\n",
    "    summary_stats['Bottom'] = drawdowns.idxmin()\n",
    "    \n",
    "    recovery_date = []\n",
    "    for col in wealth_index.columns:\n",
    "        prev_max = previous_peaks[col][:drawdowns[col].idxmin()].max()\n",
    "        recovery_wealth = pd.DataFrame([wealth_index[col][drawdowns[col].idxmin():]]).T\n",
    "        recovery_date.append(recovery_wealth[recovery_wealth[col] >= prev_max].index.min())\n",
    "    summary_stats['Recovery'] = recovery_date\n",
    "    \n",
    "    return summary_stats"
   ]
  },
  {
   "cell_type": "code",
   "execution_count": 31,
   "metadata": {},
   "outputs": [],
   "source": [
    "def regression_based_performance(factor, fund_ret, rf, constant = True):\n",
    "\n",
    "    if constant:\n",
    "        X = sm.add_constant(factor)\n",
    "    else:\n",
    "        X = factor\n",
    "    y = fund_ret\n",
    "\n",
    "    model = sm.OLS(y, X, missing='drop').fit()\n",
    "\n",
    "    if constant:\n",
    "        beta = model.params[1:]\n",
    "        alpha = round(float(model.params['const']), 6) * 12\n",
    "    \n",
    "    else:\n",
    "        beta = model.params\n",
    "    \n",
    "    treynor_ratio = ((fund_ret - rf).mean()*12)/beta[0]\n",
    "    tracking_error = (model.resid.std()*np.sqrt(12))\n",
    "\n",
    "    if constant:\n",
    "        information_ratio = model.params[0]*12/tracking_error\n",
    "    r_squared = model.rsquared\n",
    "    if constant:\n",
    "        return (beta, treynor_ratio, information_ratio, alpha, r_squared, tracking_error, model.resid)\n",
    "    else:\n",
    "        return (beta, treynor_ratio, r_squared, tracking_error, model.resid)\n",
    "    \n"
   ]
  },
  {
   "cell_type": "code",
   "execution_count": 32,
   "metadata": {},
   "outputs": [],
   "source": [
    "ltcm_returns = pd.read_excel(r\"ltcm_exhibits_data.xlsx\", header = [2], sheet_name='Exhibit 2')\n",
    "ltcm_returns = ltcm_returns[1:].rename(columns={'Unnamed: 0':'Date'})\n",
    "ltcm_returns = ltcm_returns.set_index('Date')\n",
    "ltcm_returns = ltcm_returns.loc[:,['Fund Capital ($billions)','Gross Monthly Performancea','Net Monthly Performanceb','Index of Net Performance']]\n",
    "ltcm_returns = ltcm_returns[:53].rename(columns={'Gross Monthly Performancea':'Gross Monthly Performance','Net Monthly Performanceb':'Net Monthly Performance'})\n",
    "ltcm_returns.index = pd.to_datetime(ltcm_returns.index) + pd.offsets.MonthEnd(0) \n"
   ]
  },
  {
   "cell_type": "code",
   "execution_count": 33,
   "metadata": {},
   "outputs": [
    {
     "data": {
      "text/html": [
       "<div>\n",
       "<style scoped>\n",
       "    .dataframe tbody tr th:only-of-type {\n",
       "        vertical-align: middle;\n",
       "    }\n",
       "\n",
       "    .dataframe tbody tr th {\n",
       "        vertical-align: top;\n",
       "    }\n",
       "\n",
       "    .dataframe thead th {\n",
       "        text-align: right;\n",
       "    }\n",
       "</style>\n",
       "<table border=\"1\" class=\"dataframe\">\n",
       "  <thead>\n",
       "    <tr style=\"text-align: right;\">\n",
       "      <th></th>\n",
       "      <th>SPY</th>\n",
       "    </tr>\n",
       "    <tr>\n",
       "      <th>Date</th>\n",
       "      <th></th>\n",
       "    </tr>\n",
       "  </thead>\n",
       "  <tbody>\n",
       "    <tr>\n",
       "      <th>1998-03-31</th>\n",
       "      <td>0.044458</td>\n",
       "    </tr>\n",
       "    <tr>\n",
       "      <th>1998-04-30</th>\n",
       "      <td>0.008624</td>\n",
       "    </tr>\n",
       "    <tr>\n",
       "      <th>1998-05-31</th>\n",
       "      <td>-0.024961</td>\n",
       "    </tr>\n",
       "    <tr>\n",
       "      <th>1998-06-30</th>\n",
       "      <td>0.038341</td>\n",
       "    </tr>\n",
       "    <tr>\n",
       "      <th>1998-07-31</th>\n",
       "      <td>-0.017764</td>\n",
       "    </tr>\n",
       "  </tbody>\n",
       "</table>\n",
       "</div>"
      ],
      "text/plain": [
       "                 SPY\n",
       "Date                \n",
       "1998-03-31  0.044458\n",
       "1998-04-30  0.008624\n",
       "1998-05-31 -0.024961\n",
       "1998-06-30  0.038341\n",
       "1998-07-31 -0.017764"
      ]
     },
     "execution_count": 33,
     "metadata": {},
     "output_type": "execute_result"
    }
   ],
   "source": [
    "gmo_total_ret = pd.read_excel(r\"gmo_analysis_data.xlsx\", sheet_name='returns (total)', index_col = 0)\n",
    "spy_total_ret = gmo_total_ret[['SPY']]\n",
    "spy_total_ret.index.name = 'Date'\n",
    "\n",
    "rf = pd.read_excel(r\"gmo_analysis_data.xlsx\", sheet_name = 'risk-free rate', index_col=0)\n",
    "rf.index.name = 'Date'\n",
    "\n",
    "spy_excess_ret = (spy_total_ret['SPY'] - rf['US3M']).to_frame('SPY')\n",
    "\n",
    "ltcm_returns['Net Excess Returns'] = ltcm_returns['Net Monthly Performance'] - rf['US3M']\n",
    "ltcm_returns['Gross Excess Returns'] = ltcm_returns['Gross Monthly Performance'] - rf['US3M']\n",
    "\n",
    "spy_er_ltcm = spy_excess_ret[ltcm_returns.index[0]:ltcm_returns.index[-1]]\n",
    "spy_er_ltcm.tail()"
   ]
  },
  {
   "cell_type": "markdown",
   "metadata": {},
   "source": [
    "## 2) LTCM Risk Decomposition\n",
    "\n",
    "- <h4> On Canvas, find the data file, <code>ltcm exhibits data.xlsx</code>. Get the gross and net (total) returns of LTCM from \"Exhibit 2\".</h4> <br>\n",
    "- <h4>  Get the returns on SPY as well as the risk-free rate from the file, <code>gmo analysis data</code>.</h4> \n",
    "\n",
    "### 2.1) Summary stats.\n",
    "### 2.1.a) For both the gross and net series of LTCM excess returns, report the mean, volatility, and Sharpe ratios. (Annualize them.)"
   ]
  },
  {
   "cell_type": "code",
   "execution_count": 34,
   "metadata": {},
   "outputs": [
    {
     "data": {
      "text/html": [
       "<div>\n",
       "<style scoped>\n",
       "    .dataframe tbody tr th:only-of-type {\n",
       "        vertical-align: middle;\n",
       "    }\n",
       "\n",
       "    .dataframe tbody tr th {\n",
       "        vertical-align: top;\n",
       "    }\n",
       "\n",
       "    .dataframe thead th {\n",
       "        text-align: right;\n",
       "    }\n",
       "</style>\n",
       "<table border=\"1\" class=\"dataframe\">\n",
       "  <thead>\n",
       "    <tr style=\"text-align: right;\">\n",
       "      <th></th>\n",
       "      <th>Mean</th>\n",
       "      <th>Volatility</th>\n",
       "      <th>Sharpe Ratio</th>\n",
       "    </tr>\n",
       "  </thead>\n",
       "  <tbody>\n",
       "    <tr>\n",
       "      <th>Gross Excess Returns</th>\n",
       "      <td>0.242077</td>\n",
       "      <td>0.136232</td>\n",
       "      <td>1.776946</td>\n",
       "    </tr>\n",
       "    <tr>\n",
       "      <th>Net Excess Returns</th>\n",
       "      <td>0.155360</td>\n",
       "      <td>0.111765</td>\n",
       "      <td>1.390059</td>\n",
       "    </tr>\n",
       "  </tbody>\n",
       "</table>\n",
       "</div>"
      ],
      "text/plain": [
       "                          Mean  Volatility  Sharpe Ratio\n",
       "Gross Excess Returns  0.242077    0.136232      1.776946\n",
       "Net Excess Returns    0.155360    0.111765      1.390059"
      ]
     },
     "execution_count": 34,
     "metadata": {},
     "output_type": "execute_result"
    }
   ],
   "source": [
    "ltcm_summary = performance_summary(ltcm_returns.loc[:, ['Gross Excess Returns','Net Excess Returns']])\n",
    "ltcm_summary.loc[:, ['Mean', 'Volatility', 'Sharpe Ratio']]"
   ]
  },
  {
   "cell_type": "markdown",
   "metadata": {},
   "source": [
    "### 2.1.b) Report the skewness, kurtosis, and (historic) VaR(.05)."
   ]
  },
  {
   "cell_type": "code",
   "execution_count": 35,
   "metadata": {},
   "outputs": [
    {
     "data": {
      "text/html": [
       "<div>\n",
       "<style scoped>\n",
       "    .dataframe tbody tr th:only-of-type {\n",
       "        vertical-align: middle;\n",
       "    }\n",
       "\n",
       "    .dataframe tbody tr th {\n",
       "        vertical-align: top;\n",
       "    }\n",
       "\n",
       "    .dataframe thead th {\n",
       "        text-align: right;\n",
       "    }\n",
       "</style>\n",
       "<table border=\"1\" class=\"dataframe\">\n",
       "  <thead>\n",
       "    <tr style=\"text-align: right;\">\n",
       "      <th></th>\n",
       "      <th>Mean</th>\n",
       "      <th>Volatility</th>\n",
       "      <th>Sharpe Ratio</th>\n",
       "      <th>Skewness</th>\n",
       "      <th>Excess Kurtosis</th>\n",
       "      <th>VaR (0.5)</th>\n",
       "    </tr>\n",
       "  </thead>\n",
       "  <tbody>\n",
       "    <tr>\n",
       "      <th>Gross Excess Returns</th>\n",
       "      <td>0.242077</td>\n",
       "      <td>0.136232</td>\n",
       "      <td>1.776946</td>\n",
       "      <td>-0.287725</td>\n",
       "      <td>1.586625</td>\n",
       "      <td>-0.030445</td>\n",
       "    </tr>\n",
       "    <tr>\n",
       "      <th>Net Excess Returns</th>\n",
       "      <td>0.155360</td>\n",
       "      <td>0.111765</td>\n",
       "      <td>1.390059</td>\n",
       "      <td>-0.810239</td>\n",
       "      <td>2.926921</td>\n",
       "      <td>-0.026415</td>\n",
       "    </tr>\n",
       "  </tbody>\n",
       "</table>\n",
       "</div>"
      ],
      "text/plain": [
       "                          Mean  Volatility  Sharpe Ratio  Skewness  \\\n",
       "Gross Excess Returns  0.242077    0.136232      1.776946 -0.287725   \n",
       "Net Excess Returns    0.155360    0.111765      1.390059 -0.810239   \n",
       "\n",
       "                      Excess Kurtosis  VaR (0.5)  \n",
       "Gross Excess Returns         1.586625  -0.030445  \n",
       "Net Excess Returns           2.926921  -0.026415  "
      ]
     },
     "execution_count": 35,
     "metadata": {},
     "output_type": "execute_result"
    }
   ],
   "source": [
    "ltcm_summary.loc[:,['Mean', 'Volatility', 'Sharpe Ratio', 'Skewness','Excess Kurtosis','VaR (0.5)']]"
   ]
  },
  {
   "cell_type": "markdown",
   "metadata": {},
   "source": [
    "### 2.1.c) Comment on how these stats compare to SPY and other assets we have seen. How much do they differ between gross and net?"
   ]
  },
  {
   "cell_type": "code",
   "execution_count": 36,
   "metadata": {},
   "outputs": [
    {
     "data": {
      "text/html": [
       "<div>\n",
       "<style scoped>\n",
       "    .dataframe tbody tr th:only-of-type {\n",
       "        vertical-align: middle;\n",
       "    }\n",
       "\n",
       "    .dataframe tbody tr th {\n",
       "        vertical-align: top;\n",
       "    }\n",
       "\n",
       "    .dataframe thead th {\n",
       "        text-align: right;\n",
       "    }\n",
       "</style>\n",
       "<table border=\"1\" class=\"dataframe\">\n",
       "  <thead>\n",
       "    <tr style=\"text-align: right;\">\n",
       "      <th></th>\n",
       "      <th>Mean</th>\n",
       "      <th>Volatility</th>\n",
       "      <th>Sharpe Ratio</th>\n",
       "      <th>Skewness</th>\n",
       "      <th>Excess Kurtosis</th>\n",
       "      <th>VaR (0.5)</th>\n",
       "    </tr>\n",
       "  </thead>\n",
       "  <tbody>\n",
       "    <tr>\n",
       "      <th>SPY</th>\n",
       "      <td>0.173823</td>\n",
       "      <td>0.112294</td>\n",
       "      <td>1.547923</td>\n",
       "      <td>-0.433516</td>\n",
       "      <td>-0.362022</td>\n",
       "      <td>-0.04636</td>\n",
       "    </tr>\n",
       "  </tbody>\n",
       "</table>\n",
       "</div>"
      ],
      "text/plain": [
       "         Mean  Volatility  Sharpe Ratio  Skewness  Excess Kurtosis  VaR (0.5)\n",
       "SPY  0.173823    0.112294      1.547923 -0.433516        -0.362022   -0.04636"
      ]
     },
     "execution_count": 36,
     "metadata": {},
     "output_type": "execute_result"
    }
   ],
   "source": [
    "spy_er_summary = performance_summary(spy_er_ltcm)\n",
    "spy_er_summary.loc[:, ['Mean','Volatility','Sharpe Ratio','Skewness','Excess Kurtosis','VaR (0.5)']]"
   ]
  },
  {
   "cell_type": "markdown",
   "metadata": {},
   "source": [
    "LTCM displays a higher return compared to SPY, and remarkably, this is achieved with a volatility level very similar to that of SPY. This results in a slightly higher Sharpe ratio for LTCM (net of fees and other charges), indicating a more efficient return on risk taken compared to SPY.\n",
    "\n",
    "When considering the excess net returns, LTCM underperforms SPY, despite having similar levels of volatility. This leads to a slightly lower Sharpe ratio for LTCM in this regard, suggesting less efficiency in generating excess returns compared to SPY.\n",
    "\n",
    "LTCM's Net returns exhibit more negative skewness and a significantly fatter tail compared to SPY. This implies the presence of more substantial negative monthly returns during the sample period for LTCM.\n",
    "However, the lower Value at Risk (VaR) for LTCM compared to SPY suggests that these heavy negative returns are less frequent. This indicates that while LTCM may experience more severe losses when they occur, such events are rarer compared to SPY."
   ]
  },
  {
   "cell_type": "markdown",
   "metadata": {},
   "source": [
    "### 2.2) Using the series of net LTCM excess returns, denoted $\\tilde{r}^{LTCM}$, estimate the following regression: <br>\n",
    "\n",
    "\\begin{align}\n",
    "\\tilde{r}^{LTCM} = \\alpha + \\beta^{m}\\tilde{r}^{m}_{t} +\\epsilon_t\n",
    "\\end{align}"
   ]
  },
  {
   "cell_type": "markdown",
   "metadata": {},
   "source": [
    "### 2.2.a) Report  $\\alpha$ and $\\beta^{m}$. Report the $R^{2}$ stat."
   ]
  },
  {
   "cell_type": "code",
   "execution_count": 37,
   "metadata": {},
   "outputs": [
    {
     "data": {
      "text/html": [
       "<div>\n",
       "<style scoped>\n",
       "    .dataframe tbody tr th:only-of-type {\n",
       "        vertical-align: middle;\n",
       "    }\n",
       "\n",
       "    .dataframe tbody tr th {\n",
       "        vertical-align: top;\n",
       "    }\n",
       "\n",
       "    .dataframe thead th {\n",
       "        text-align: right;\n",
       "    }\n",
       "</style>\n",
       "<table border=\"1\" class=\"dataframe\">\n",
       "  <thead>\n",
       "    <tr style=\"text-align: right;\">\n",
       "      <th></th>\n",
       "      <th>Alpha</th>\n",
       "      <th>Market Beta</th>\n",
       "      <th>R-Squared</th>\n",
       "      <th>Treynor Ratio</th>\n",
       "      <th>Information Ratio</th>\n",
       "    </tr>\n",
       "  </thead>\n",
       "  <tbody>\n",
       "    <tr>\n",
       "      <th>Gross Excess Returns</th>\n",
       "      <td>0.210816</td>\n",
       "      <td>0.179845</td>\n",
       "      <td>0.021976</td>\n",
       "      <td>1.346034</td>\n",
       "      <td>1.564766</td>\n",
       "    </tr>\n",
       "    <tr>\n",
       "      <th>Net Excess Returns</th>\n",
       "      <td>0.131532</td>\n",
       "      <td>0.137114</td>\n",
       "      <td>0.018979</td>\n",
       "      <td>1.133077</td>\n",
       "      <td>1.188141</td>\n",
       "    </tr>\n",
       "  </tbody>\n",
       "</table>\n",
       "</div>"
      ],
      "text/plain": [
       "                         Alpha  Market Beta  R-Squared  Treynor Ratio  \\\n",
       "Gross Excess Returns  0.210816     0.179845   0.021976       1.346034   \n",
       "Net Excess Returns    0.131532     0.137114   0.018979       1.133077   \n",
       "\n",
       "                      Information Ratio  \n",
       "Gross Excess Returns           1.564766  \n",
       "Net Excess Returns             1.188141  "
      ]
     },
     "execution_count": 37,
     "metadata": {},
     "output_type": "execute_result"
    }
   ],
   "source": [
    "factor = spy_er_ltcm['SPY']\n",
    "reg_sum = []\n",
    "for rets in ['Gross Excess Returns','Net Excess Returns']:\n",
    "    fund_ret = ltcm_returns.loc[:, [rets]]\n",
    "    reg = regression_based_performance(factor, fund_ret, 0)\n",
    "    beta_mkt = reg[0][0]\n",
    "    treynor_ratio = reg[1][0]\n",
    "    information_ratio = reg[2]\n",
    "    alpha = reg[3]\n",
    "    r_squared = reg[4]\n",
    "    reg_sum.append(pd.DataFrame([[alpha, beta_mkt, r_squared, treynor_ratio, information_ratio]], columns = ['Alpha', 'Market Beta','R-Squared','Treynor Ratio','Information Ratio'], index=[rets]))\n",
    "\n",
    "mkt_reg_sum = pd.concat(reg_sum)\n",
    "mkt_reg_sum"
   ]
  },
  {
   "cell_type": "markdown",
   "metadata": {},
   "source": [
    "### 2.2.b) From this regression, does LTCM appear to be a \"closet indexer\"?"
   ]
  },
  {
   "cell_type": "markdown",
   "metadata": {},
   "source": [
    "A low R-Squared value in the regression between LTCM's returns and SPY's returns indicates that there is a very low correlation between the two. \n",
    "The low beta value further supports the conclusion that LTCM's returns do not move in tandem with the market (SPY). A higher beta would indicate a stronger relationship with the market index, which is typical of a closet indexer.\n",
    "LTCM's strategy primarily involves long-short trades, which inherently differ from the strategies employed by closet indexers. Closet indexers tend to have portfolios that closely resemble a market index but with slight modifications, while LTCM's approach of long-short trades signifies an active management strategy seeking to exploit specific market inefficiencies or opportunities, rather than tracking an index."
   ]
  },
  {
   "cell_type": "markdown",
   "metadata": {},
   "source": [
    "### 2.2.c) From the regression, does LTCM appear to deliver excess returns beyond the risk premium we expect from market exposure?"
   ]
  },
  {
   "cell_type": "markdown",
   "metadata": {},
   "source": [
    "\n",
    "Based on the regression analysis and the noted significant annualized alpha of approximately 13.15%, it is evident that LTCM does indeed deliver excess returns beyond the risk premium expected from market exposure. This high alpha indicates that LTCM's returns are not solely attributable to the market's movements but also stem from the fund's specific strategies and management skills, resulting in returns that exceed those predicted by their market risk exposure."
   ]
  },
  {
   "cell_type": "markdown",
   "metadata": {},
   "source": [
    "### 2.3) Let's check for non-linear market exposure. Run the following regression on LTCM's net excess returns:<br>\n",
    "    \n",
    "\\begin{align}\n",
    "\\tilde{r}^{LTCM} = \\alpha + \\beta_{1}\\tilde{r}^{m}_{t} + \\beta_{2}(\\tilde{r}^{m}_{t})^{2} +\\epsilon_t\n",
    "\\end{align}"
   ]
  },
  {
   "cell_type": "markdown",
   "metadata": {},
   "source": [
    "### 2.3.a) Report $\\beta_{1}\\, \\beta_{2}$, and the $R^{2}$ stat."
   ]
  },
  {
   "cell_type": "code",
   "execution_count": 38,
   "metadata": {},
   "outputs": [
    {
     "data": {
      "text/html": [
       "<div>\n",
       "<style scoped>\n",
       "    .dataframe tbody tr th:only-of-type {\n",
       "        vertical-align: middle;\n",
       "    }\n",
       "\n",
       "    .dataframe tbody tr th {\n",
       "        vertical-align: top;\n",
       "    }\n",
       "\n",
       "    .dataframe thead th {\n",
       "        text-align: right;\n",
       "    }\n",
       "</style>\n",
       "<table border=\"1\" class=\"dataframe\">\n",
       "  <thead>\n",
       "    <tr style=\"text-align: right;\">\n",
       "      <th></th>\n",
       "      <th>Alpha</th>\n",
       "      <th>Market Beta</th>\n",
       "      <th>$SPY^{2}$ Beta</th>\n",
       "      <th>R-Squared</th>\n",
       "      <th>Treynor Ratio</th>\n",
       "      <th>Information Ratio</th>\n",
       "    </tr>\n",
       "  </thead>\n",
       "  <tbody>\n",
       "    <tr>\n",
       "      <th>Gross Excess Returns</th>\n",
       "      <td>0.242388</td>\n",
       "      <td>0.219805</td>\n",
       "      <td>-2.586773</td>\n",
       "      <td>0.028458</td>\n",
       "      <td>1.101330</td>\n",
       "      <td>1.805091</td>\n",
       "    </tr>\n",
       "    <tr>\n",
       "      <th>Net Excess Returns</th>\n",
       "      <td>0.155040</td>\n",
       "      <td>0.166878</td>\n",
       "      <td>-1.926746</td>\n",
       "      <td>0.024321</td>\n",
       "      <td>0.930984</td>\n",
       "      <td>1.404397</td>\n",
       "    </tr>\n",
       "  </tbody>\n",
       "</table>\n",
       "</div>"
      ],
      "text/plain": [
       "                         Alpha  Market Beta  $SPY^{2}$ Beta  R-Squared  \\\n",
       "Gross Excess Returns  0.242388     0.219805       -2.586773   0.028458   \n",
       "Net Excess Returns    0.155040     0.166878       -1.926746   0.024321   \n",
       "\n",
       "                      Treynor Ratio  Information Ratio  \n",
       "Gross Excess Returns       1.101330           1.805091  \n",
       "Net Excess Returns         0.930984           1.404397  "
      ]
     },
     "execution_count": 38,
     "metadata": {},
     "output_type": "execute_result"
    }
   ],
   "source": [
    "spy_er_ltcm['$SPY^{2}$'] = spy_er_ltcm['SPY']**2\n",
    "factor_squared = spy_er_ltcm.loc[:, ['SPY', '$SPY^{2}$']]\n",
    "quad_reg_sum = []\n",
    "for rets in ['Gross Excess Returns','Net Excess Returns']:\n",
    "    fund_ret = ltcm_returns.loc[:, [rets]]\n",
    "    reg_squared = regression_based_performance(factor_squared, fund_ret, 0)\n",
    "    beta_mkt = reg_squared[0][0]\n",
    "    beta_mkt_squared = reg_squared[0][1]\n",
    "    treynor_ratio = reg_squared[1][0]\n",
    "    information_ratio = reg_squared[2]\n",
    "    alpha = reg_squared[3]\n",
    "    r_squared = reg_squared[4]\n",
    "    quad_reg_sum.append(pd.DataFrame([[alpha, beta_mkt, beta_mkt_squared, r_squared, treynor_ratio, information_ratio]], columns = ['Alpha', 'Market Beta', '$SPY^{2}$ Beta', 'R-Squared','Treynor Ratio','Information Ratio'], index=[rets]))\n",
    "\n",
    "mkt_quad_reg_sum = pd.concat(quad_reg_sum)\n",
    "mkt_quad_reg_sum"
   ]
  },
  {
   "cell_type": "markdown",
   "metadata": {},
   "source": [
    "### 2.3.b) Does the quadratic market factor do much to increase the overall LTCM variation explained by the market?"
   ]
  },
  {
   "cell_type": "markdown",
   "metadata": {},
   "source": [
    "The quadratic market factor in the regression analysis for LTCM does contribute to a slight improvement in the R-Squared value. However, despite the slight increase, the R-Squared value remains fairly low, which suggests that the relationship between LTCM's performance and market returns is not strongly pronounced. \n",
    "\n",
    "The increase in R-Squared could be partially attributed to multicollinearity, especially since the alpha in the regression also increases. This indicates that adding the quadratic market factor may lead to more unexplained returns rather than providing a clearer understanding of LTCM's return dynamics in relation to the market.\n",
    "\n",
    "The significant negative beta coefficient for the squared SPY returns is a distinctive feature of this factor. Given that monthly returns are typically small, and their squared values even smaller, a larger magnitude of beta is required to fit these small returns appropriately. This aspect should be carefully considered in interpreting the regression results."
   ]
  },
  {
   "cell_type": "markdown",
   "metadata": {},
   "source": [
    "### 2.3.c) From the regression evidence, does LTCM's market exposure behave as if it is long market options or short market options?"
   ]
  },
  {
   "cell_type": "markdown",
   "metadata": {},
   "source": [
    "\n",
    "Based on the regression evidence, particularly the negative beta to SPY^2 returns, it appears that LTCM's market exposure behaves as if it is short market options. \n",
    "\n",
    "The beta coefficient related to SPY can be interpreted as the delta of a market option. \n",
    "\n",
    "The beta coefficient related to SPY^2 can be interpreted as the gamma of market options. Gamma measures the rate of change in the delta with respect to changes in the underlying asset's price. \n",
    "\n",
    "Since LTCM exhibits a negative beta to SPY^2, it implies that they are short the positive gamma, or in other words, short the market options. "
   ]
  },
  {
   "cell_type": "markdown",
   "metadata": {},
   "source": [
    "### 2.3.d) Should we describe LTCM as being positively or negatively exposed to market volatility?"
   ]
  },
  {
   "cell_type": "markdown",
   "metadata": {},
   "source": [
    "With a negative beta for SPY Squared, a large monthly return in the market would result in significant underperformance for LTCM. This indicates that LTCM's returns are adversely affected by large movements in the market.\n",
    "\n",
    "Big deviations in the market lead to notable underperformance of LTCM, implying that their strategy is negatively impacted by high volatility."
   ]
  },
  {
   "cell_type": "markdown",
   "metadata": {},
   "source": [
    "### 2.4) Let's try to pinpoint the nature of LTCM's nonlinear exposure. Does it come more from exposure to up-markets or down-markets? Run the following regression on LTCM's net excess returns:<br>\n",
    "\n",
    "\n",
    "\\begin{align}\n",
    "\\tilde{r}^{LTCM} = \\alpha + \\beta\\tilde{r}^{m}_{t} + \\beta_{u}max(\\tilde{r}^{m}_{t} - k_{1},0) + + \\beta_{d}max(k_{2} - \\tilde{r}^{m}_{t},0) +\\epsilon_t\n",
    "\\end{align}\n",
    "\n",
    "    \n",
    "where $k_{1}$ = .03 and $k_{2}$ = -.03. (This is roughly one standard deviation of $\\tilde{r}^{m}$.)"
   ]
  },
  {
   "cell_type": "code",
   "execution_count": 39,
   "metadata": {},
   "outputs": [
    {
     "data": {
      "text/html": [
       "<div>\n",
       "<style scoped>\n",
       "    .dataframe tbody tr th:only-of-type {\n",
       "        vertical-align: middle;\n",
       "    }\n",
       "\n",
       "    .dataframe tbody tr th {\n",
       "        vertical-align: top;\n",
       "    }\n",
       "\n",
       "    .dataframe thead th {\n",
       "        text-align: right;\n",
       "    }\n",
       "</style>\n",
       "<table border=\"1\" class=\"dataframe\">\n",
       "  <thead>\n",
       "    <tr style=\"text-align: right;\">\n",
       "      <th></th>\n",
       "      <th>Alpha</th>\n",
       "      <th>Market Beta</th>\n",
       "      <th>Call Beta</th>\n",
       "      <th>Put Beta</th>\n",
       "      <th>R-Squared</th>\n",
       "      <th>Treynor Ratio</th>\n",
       "      <th>Information Ratio</th>\n",
       "    </tr>\n",
       "  </thead>\n",
       "  <tbody>\n",
       "    <tr>\n",
       "      <th>Gross Excess Returns</th>\n",
       "      <td>0.173796</td>\n",
       "      <td>0.608536</td>\n",
       "      <td>-1.03835</td>\n",
       "      <td>1.632452</td>\n",
       "      <td>0.063774</td>\n",
       "      <td>0.397803</td>\n",
       "      <td>1.318510</td>\n",
       "    </tr>\n",
       "    <tr>\n",
       "      <th>Net Excess Returns</th>\n",
       "      <td>0.101232</td>\n",
       "      <td>0.466610</td>\n",
       "      <td>-0.78214</td>\n",
       "      <td>1.289575</td>\n",
       "      <td>0.055486</td>\n",
       "      <td>0.332956</td>\n",
       "      <td>0.931974</td>\n",
       "    </tr>\n",
       "  </tbody>\n",
       "</table>\n",
       "</div>"
      ],
      "text/plain": [
       "                         Alpha  Market Beta  Call Beta  Put Beta  R-Squared  \\\n",
       "Gross Excess Returns  0.173796     0.608536   -1.03835  1.632452   0.063774   \n",
       "Net Excess Returns    0.101232     0.466610   -0.78214  1.289575   0.055486   \n",
       "\n",
       "                      Treynor Ratio  Information Ratio  \n",
       "Gross Excess Returns       0.397803           1.318510  \n",
       "Net Excess Returns         0.332956           0.931974  "
      ]
     },
     "execution_count": 39,
     "metadata": {},
     "output_type": "execute_result"
    }
   ],
   "source": [
    "# generate call and put options\n",
    "spy_er_ltcm['SPY_call'] = np.where(spy_er_ltcm['SPY'] > 0.03, spy_er_ltcm['SPY'] - 0.03, 0)\n",
    "spy_er_ltcm['SPY_put'] = np.where(-0.03 - spy_er_ltcm['SPY'] >= 0, -0.03 - spy_er_ltcm['SPY'], 0)\n",
    "factor = spy_er_ltcm.loc[:, ['SPY', 'SPY_call', 'SPY_put']]\n",
    "call_reg_sum = []\n",
    "# regression for call and put options\n",
    "for rets in ['Gross Excess Returns','Net Excess Returns']:\n",
    "    fund_ret = ltcm_returns.loc[:, [rets]]\n",
    "    reg_call = regression_based_performance(factor, fund_ret, 0)\n",
    "    beta_mkt = reg_call[0][0]\n",
    "    beta_call = reg_call[0][1]\n",
    "    beta_put = reg_call[0][2]\n",
    "    treynor_ratio = reg_call[1][0]\n",
    "    information_ratio = reg_call[2]\n",
    "    alpha = reg_call[3]\n",
    "    r_squared = reg_call[4]\n",
    "    call_reg_sum.append(pd.DataFrame([[alpha, beta_mkt, beta_call, beta_put, r_squared, treynor_ratio, information_ratio]], columns = ['Alpha', 'Market Beta', 'Call Beta', 'Put Beta', 'R-Squared','Treynor Ratio','Information Ratio'], index=[rets]))\n",
    "\n",
    "mkt_call_reg_sum = pd.concat(call_reg_sum)\n",
    "mkt_call_reg_sum"
   ]
  },
  {
   "cell_type": "markdown",
   "metadata": {},
   "source": [
    "### 2.4.b) Is LTCM long or short the call-like factor? And the put-like factor?\n"
   ]
  },
  {
   "cell_type": "markdown",
   "metadata": {},
   "source": [
    "Based on the regression betas, as the call beta is negative while the put beta is positive, LTCM seem to be short the call-like factor and long the put-like factor."
   ]
  },
  {
   "cell_type": "markdown",
   "metadata": {},
   "source": [
    "### 2.4.c) Which factor moves LTCM more, the call-like factor, or the put-like factor?"
   ]
  },
  {
   "cell_type": "markdown",
   "metadata": {},
   "source": [
    "\n",
    "The analysis suggests that the put-like factor has a more significant impact on LTCM's returns compared to the call-like factor."
   ]
  },
  {
   "cell_type": "markdown",
   "metadata": {},
   "source": [
    "### 2.4.d) In the previous problem, you commented on whether LTCM is positively or negatively exposed to market volatility. Using this current regression, does this volatility exposure come more from being long the market's upside? Short the market's downside? Something else?"
   ]
  },
  {
   "cell_type": "markdown",
   "metadata": {},
   "source": [
    "The combination of these two positions—short on the call-like factor and long on the put-like factor—contributes to LTCM's negative exposure to market volatility. This exposure is characterized by a potential underperformance during significant market upswings and a potential benefit or lesser impact during market downturns."
   ]
  },
  {
   "cell_type": "markdown",
   "metadata": {},
   "source": [
    "## 3) The FX Carry Trade\n",
    "\n",
    "Find an Excel data file, `fx carry data.xlsx`. The file has two sets of data:\n",
    "- Risk-free rates across 5 currencies, as measured by annualized 3-month LIBOR rates.\n",
    "- Spot FX rates, as direct quotes to the USD. (Note that all currencies are quoted as USD per\n",
    "the foreign currency.)\n",
    "\n",
    "\n",
    "For use in the homework, note the following:\n",
    "- For risk-free rate data, $\\tilde{r}^{f,i}_{t,t+1}$, the rate is known and reported in the data at time t. <b> Namely,\n",
    "any given date t in the data file is reporting both ${S}^{i}_{t}$ and $\\tilde{r}^{f,i}_{t,t+1}$</b> <br>\n",
    "- The theory says to use log risk-free rates. You have the risk-free rate in levels: use the following equation to convert them:<br>\n",
    "\n",
    "\n",
    "\\begin{align}\n",
    "\\tilde{r}^{f,i}_{t,t+1} = ln(1+ \\tilde{r}^{f,i}_{t,t+1})\n",
    "\\end{align}\n",
    "\n",
    "\n",
    "- The theory says to use log spot FX prices. You have the FX prices in levels, so directly take their logarithims:<br>\n",
    "\n",
    "\\begin{align}\n",
    "{s}^{i}_{t} = ln({S}^{i}_{t})\n",
    "\\end{align}"
   ]
  },
  {
   "cell_type": "code",
   "execution_count": 40,
   "metadata": {},
   "outputs": [
    {
     "data": {
      "text/html": [
       "<div>\n",
       "<style scoped>\n",
       "    .dataframe tbody tr th:only-of-type {\n",
       "        vertical-align: middle;\n",
       "    }\n",
       "\n",
       "    .dataframe tbody tr th {\n",
       "        vertical-align: top;\n",
       "    }\n",
       "\n",
       "    .dataframe thead th {\n",
       "        text-align: right;\n",
       "    }\n",
       "</style>\n",
       "<table border=\"1\" class=\"dataframe\">\n",
       "  <thead>\n",
       "    <tr style=\"text-align: right;\">\n",
       "      <th></th>\n",
       "      <th>USD1M</th>\n",
       "      <th>GBP1M</th>\n",
       "      <th>EUR1M</th>\n",
       "      <th>CHF1M</th>\n",
       "      <th>JPY1M</th>\n",
       "      <th>log_USD1M</th>\n",
       "      <th>log_GBP1M</th>\n",
       "      <th>log_EUR1M</th>\n",
       "      <th>log_CHF1M</th>\n",
       "      <th>log_JPY1M</th>\n",
       "    </tr>\n",
       "    <tr>\n",
       "      <th>DATE</th>\n",
       "      <th></th>\n",
       "      <th></th>\n",
       "      <th></th>\n",
       "      <th></th>\n",
       "      <th></th>\n",
       "      <th></th>\n",
       "      <th></th>\n",
       "      <th></th>\n",
       "      <th></th>\n",
       "      <th></th>\n",
       "    </tr>\n",
       "  </thead>\n",
       "  <tbody>\n",
       "    <tr>\n",
       "      <th>1999-01-31</th>\n",
       "      <td>0.004116</td>\n",
       "      <td>0.004938</td>\n",
       "      <td>0.002598</td>\n",
       "      <td>0.000995</td>\n",
       "      <td>0.000335</td>\n",
       "      <td>0.004107</td>\n",
       "      <td>0.004926</td>\n",
       "      <td>0.002595</td>\n",
       "      <td>0.000995</td>\n",
       "      <td>0.000335</td>\n",
       "    </tr>\n",
       "    <tr>\n",
       "      <th>1999-02-28</th>\n",
       "      <td>0.004135</td>\n",
       "      <td>0.004624</td>\n",
       "      <td>0.002600</td>\n",
       "      <td>0.001036</td>\n",
       "      <td>0.000232</td>\n",
       "      <td>0.004127</td>\n",
       "      <td>0.004614</td>\n",
       "      <td>0.002597</td>\n",
       "      <td>0.001036</td>\n",
       "      <td>0.000232</td>\n",
       "    </tr>\n",
       "    <tr>\n",
       "      <th>1999-03-31</th>\n",
       "      <td>0.004114</td>\n",
       "      <td>0.004434</td>\n",
       "      <td>0.002492</td>\n",
       "      <td>0.000993</td>\n",
       "      <td>0.000143</td>\n",
       "      <td>0.004106</td>\n",
       "      <td>0.004424</td>\n",
       "      <td>0.002489</td>\n",
       "      <td>0.000992</td>\n",
       "      <td>0.000143</td>\n",
       "    </tr>\n",
       "    <tr>\n",
       "      <th>1999-04-30</th>\n",
       "      <td>0.004085</td>\n",
       "      <td>0.004404</td>\n",
       "      <td>0.002141</td>\n",
       "      <td>0.000801</td>\n",
       "      <td>0.000099</td>\n",
       "      <td>0.004077</td>\n",
       "      <td>0.004394</td>\n",
       "      <td>0.002139</td>\n",
       "      <td>0.000801</td>\n",
       "      <td>0.000099</td>\n",
       "    </tr>\n",
       "    <tr>\n",
       "      <th>1999-05-31</th>\n",
       "      <td>0.004120</td>\n",
       "      <td>0.004420</td>\n",
       "      <td>0.002141</td>\n",
       "      <td>0.000833</td>\n",
       "      <td>0.000075</td>\n",
       "      <td>0.004111</td>\n",
       "      <td>0.004411</td>\n",
       "      <td>0.002138</td>\n",
       "      <td>0.000833</td>\n",
       "      <td>0.000075</td>\n",
       "    </tr>\n",
       "  </tbody>\n",
       "</table>\n",
       "</div>"
      ],
      "text/plain": [
       "               USD1M     GBP1M     EUR1M     CHF1M     JPY1M  log_USD1M  \\\n",
       "DATE                                                                      \n",
       "1999-01-31  0.004116  0.004938  0.002598  0.000995  0.000335   0.004107   \n",
       "1999-02-28  0.004135  0.004624  0.002600  0.001036  0.000232   0.004127   \n",
       "1999-03-31  0.004114  0.004434  0.002492  0.000993  0.000143   0.004106   \n",
       "1999-04-30  0.004085  0.004404  0.002141  0.000801  0.000099   0.004077   \n",
       "1999-05-31  0.004120  0.004420  0.002141  0.000833  0.000075   0.004111   \n",
       "\n",
       "            log_GBP1M  log_EUR1M  log_CHF1M  log_JPY1M  \n",
       "DATE                                                    \n",
       "1999-01-31   0.004926   0.002595   0.000995   0.000335  \n",
       "1999-02-28   0.004614   0.002597   0.001036   0.000232  \n",
       "1999-03-31   0.004424   0.002489   0.000992   0.000143  \n",
       "1999-04-30   0.004394   0.002139   0.000801   0.000099  \n",
       "1999-05-31   0.004411   0.002138   0.000833   0.000075  "
      ]
     },
     "execution_count": 40,
     "metadata": {},
     "output_type": "execute_result"
    }
   ],
   "source": [
    "risk_free_rates = pd.read_excel(r\"fx_carry_data.xlsx\", sheet_name = 'risk-free rates')\n",
    "risk_free_rates.index = risk_free_rates['DATE']\n",
    "risk_free_rates = risk_free_rates.drop(['DATE'], axis=1) # drop the date column\n",
    "\n",
    "for col in risk_free_rates.columns:\n",
    "    risk_free_rates['log_'+ col] = risk_free_rates[col].apply(lambda x: np.log(1+x)) # log return\n",
    "risk_free_rates.head()"
   ]
  },
  {
   "cell_type": "code",
   "execution_count": 41,
   "metadata": {},
   "outputs": [
    {
     "data": {
      "text/html": [
       "<div>\n",
       "<style scoped>\n",
       "    .dataframe tbody tr th:only-of-type {\n",
       "        vertical-align: middle;\n",
       "    }\n",
       "\n",
       "    .dataframe tbody tr th {\n",
       "        vertical-align: top;\n",
       "    }\n",
       "\n",
       "    .dataframe thead th {\n",
       "        text-align: right;\n",
       "    }\n",
       "</style>\n",
       "<table border=\"1\" class=\"dataframe\">\n",
       "  <thead>\n",
       "    <tr style=\"text-align: right;\">\n",
       "      <th></th>\n",
       "      <th>USUK</th>\n",
       "      <th>USEU</th>\n",
       "      <th>USSZ</th>\n",
       "      <th>USJP</th>\n",
       "      <th>log_USUK</th>\n",
       "      <th>log_USEU</th>\n",
       "      <th>log_USSZ</th>\n",
       "      <th>log_USJP</th>\n",
       "    </tr>\n",
       "    <tr>\n",
       "      <th>DATE</th>\n",
       "      <th></th>\n",
       "      <th></th>\n",
       "      <th></th>\n",
       "      <th></th>\n",
       "      <th></th>\n",
       "      <th></th>\n",
       "      <th></th>\n",
       "      <th></th>\n",
       "    </tr>\n",
       "  </thead>\n",
       "  <tbody>\n",
       "    <tr>\n",
       "      <th>1999-01-31</th>\n",
       "      <td>1.6457</td>\n",
       "      <td>1.1371</td>\n",
       "      <td>0.705816</td>\n",
       "      <td>0.008621</td>\n",
       "      <td>0.498166</td>\n",
       "      <td>0.128481</td>\n",
       "      <td>-0.348401</td>\n",
       "      <td>-4.753590</td>\n",
       "    </tr>\n",
       "    <tr>\n",
       "      <th>1999-02-28</th>\n",
       "      <td>1.6027</td>\n",
       "      <td>1.0995</td>\n",
       "      <td>0.689893</td>\n",
       "      <td>0.008425</td>\n",
       "      <td>0.471690</td>\n",
       "      <td>0.094856</td>\n",
       "      <td>-0.371219</td>\n",
       "      <td>-4.776599</td>\n",
       "    </tr>\n",
       "    <tr>\n",
       "      <th>1999-03-31</th>\n",
       "      <td>1.6140</td>\n",
       "      <td>1.0808</td>\n",
       "      <td>0.676819</td>\n",
       "      <td>0.008444</td>\n",
       "      <td>0.478716</td>\n",
       "      <td>0.077702</td>\n",
       "      <td>-0.390351</td>\n",
       "      <td>-4.774322</td>\n",
       "    </tr>\n",
       "    <tr>\n",
       "      <th>1999-04-30</th>\n",
       "      <td>1.6085</td>\n",
       "      <td>1.0564</td>\n",
       "      <td>0.655437</td>\n",
       "      <td>0.008373</td>\n",
       "      <td>0.475302</td>\n",
       "      <td>0.054867</td>\n",
       "      <td>-0.422453</td>\n",
       "      <td>-4.782730</td>\n",
       "    </tr>\n",
       "    <tr>\n",
       "      <th>1999-05-31</th>\n",
       "      <td>1.6020</td>\n",
       "      <td>1.0422</td>\n",
       "      <td>0.654450</td>\n",
       "      <td>0.008273</td>\n",
       "      <td>0.471253</td>\n",
       "      <td>0.041334</td>\n",
       "      <td>-0.423960</td>\n",
       "      <td>-4.794798</td>\n",
       "    </tr>\n",
       "  </tbody>\n",
       "</table>\n",
       "</div>"
      ],
      "text/plain": [
       "              USUK    USEU      USSZ      USJP  log_USUK  log_USEU  log_USSZ  \\\n",
       "DATE                                                                           \n",
       "1999-01-31  1.6457  1.1371  0.705816  0.008621  0.498166  0.128481 -0.348401   \n",
       "1999-02-28  1.6027  1.0995  0.689893  0.008425  0.471690  0.094856 -0.371219   \n",
       "1999-03-31  1.6140  1.0808  0.676819  0.008444  0.478716  0.077702 -0.390351   \n",
       "1999-04-30  1.6085  1.0564  0.655437  0.008373  0.475302  0.054867 -0.422453   \n",
       "1999-05-31  1.6020  1.0422  0.654450  0.008273  0.471253  0.041334 -0.423960   \n",
       "\n",
       "            log_USJP  \n",
       "DATE                  \n",
       "1999-01-31 -4.753590  \n",
       "1999-02-28 -4.776599  \n",
       "1999-03-31 -4.774322  \n",
       "1999-04-30 -4.782730  \n",
       "1999-05-31 -4.794798  "
      ]
     },
     "execution_count": 41,
     "metadata": {},
     "output_type": "execute_result"
    }
   ],
   "source": [
    "fx_rates = pd.read_excel(r\"fx_carry_data.xlsx\", sheet_name = 'fx rates')\n",
    "fx_rates.index = fx_rates['DATE']\n",
    "fx_rates = fx_rates.drop(['DATE'], axis=1) # drop the date column\n",
    "\n",
    "for col in fx_rates.columns:\n",
    "    fx_rates['log_'+ col] = fx_rates[col].apply(lambda x: np.log(x)) # log return\n",
    "fx_rates.head()"
   ]
  },
  {
   "cell_type": "markdown",
   "metadata": {},
   "source": [
    "### 3.1) The Static Carry Trade\n",
    "\n",
    "#### 这里expected of excess log return = 0\n",
    "\n",
    "Define the log return of holding the foreign currency using log values of the risk-free rate and\n",
    "log values of the FX rates:<br>\n",
    "\n",
    "\\begin{align}\n",
    "{r}^{i}_{t+1} = {s}^{i}_{t+1} - {s}^{i}_{t} + {r}^{f,i}_{t,t+1} \n",
    "\\end{align}\n",
    "\n",
    "Then the excess log return relative to USD, is expressed as\n",
    "\n",
    "\\begin{align}\n",
    "\\tilde{r}^{i}_{t+1} = {s}^{i}_{t+1} - {s}^{i}_{t} + {r}^{f,i}_{t,t+1} - {r}^{f,\\$}_{t,t+1}\n",
    "\\end{align}\n",
    "\n",
    "\\begin{align}\n",
    "\\tilde{r}^{i}_{t+1} = {s}^{i}_{t+1} - {s}^{i}_{t} - ({r}^{f,\\$}_{t,t+1} - {r}^{f,i}_{t,t+1})\n",
    "\\end{align}\n",
    "\n",
    "For each foreign currency, i, calculate the excess log return series, $\\tilde{r}_{t+1}$. Report the following\n",
    "stats, (based on the excess log returns.) Annualize them.\n",
    "- mean\n",
    "- volatility\n",
    "- sharpe ratio"
   ]
  },
  {
   "cell_type": "code",
   "execution_count": 42,
   "metadata": {},
   "outputs": [
    {
     "data": {
      "text/html": [
       "<div>\n",
       "<style scoped>\n",
       "    .dataframe tbody tr th:only-of-type {\n",
       "        vertical-align: middle;\n",
       "    }\n",
       "\n",
       "    .dataframe tbody tr th {\n",
       "        vertical-align: top;\n",
       "    }\n",
       "\n",
       "    .dataframe thead th {\n",
       "        text-align: right;\n",
       "    }\n",
       "</style>\n",
       "<table border=\"1\" class=\"dataframe\">\n",
       "  <thead>\n",
       "    <tr style=\"text-align: right;\">\n",
       "      <th></th>\n",
       "      <th>Mean</th>\n",
       "      <th>Volatility</th>\n",
       "      <th>Sharpe Ratio</th>\n",
       "      <th>Min</th>\n",
       "      <th>Max</th>\n",
       "    </tr>\n",
       "    <tr>\n",
       "      <th>Currency Held</th>\n",
       "      <th></th>\n",
       "      <th></th>\n",
       "      <th></th>\n",
       "      <th></th>\n",
       "      <th></th>\n",
       "    </tr>\n",
       "  </thead>\n",
       "  <tbody>\n",
       "    <tr>\n",
       "      <th>GBP</th>\n",
       "      <td>-0.003502</td>\n",
       "      <td>0.086303</td>\n",
       "      <td>-0.040574</td>\n",
       "      <td>-0.094861</td>\n",
       "      <td>0.088332</td>\n",
       "    </tr>\n",
       "    <tr>\n",
       "      <th>EUR</th>\n",
       "      <td>-0.004351</td>\n",
       "      <td>0.094714</td>\n",
       "      <td>-0.045944</td>\n",
       "      <td>-0.103716</td>\n",
       "      <td>0.093510</td>\n",
       "    </tr>\n",
       "    <tr>\n",
       "      <th>CHF</th>\n",
       "      <td>0.004312</td>\n",
       "      <td>0.098757</td>\n",
       "      <td>0.043662</td>\n",
       "      <td>-0.118548</td>\n",
       "      <td>0.129996</td>\n",
       "    </tr>\n",
       "    <tr>\n",
       "      <th>JPY</th>\n",
       "      <td>-0.017415</td>\n",
       "      <td>0.091492</td>\n",
       "      <td>-0.190342</td>\n",
       "      <td>-0.085030</td>\n",
       "      <td>0.074347</td>\n",
       "    </tr>\n",
       "  </tbody>\n",
       "</table>\n",
       "</div>"
      ],
      "text/plain": [
       "                   Mean  Volatility  Sharpe Ratio       Min       Max\n",
       "Currency Held                                                        \n",
       "GBP           -0.003502    0.086303     -0.040574 -0.094861  0.088332\n",
       "EUR           -0.004351    0.094714     -0.045944 -0.103716  0.093510\n",
       "CHF            0.004312    0.098757      0.043662 -0.118548  0.129996\n",
       "JPY           -0.017415    0.091492     -0.190342 -0.085030  0.074347"
      ]
     },
     "execution_count": 42,
     "metadata": {},
     "output_type": "execute_result"
    }
   ],
   "source": [
    "#将exchange rate和risk free rate两个dataset的column name 合并\n",
    "fx_spot_map = {'log_GBP1M':'log_USUK',\n",
    "               'log_EUR1M':'log_USEU',\n",
    "               'log_CHF1M':'log_USSZ',\n",
    "               'log_JPY1M':'log_USJP'}\n",
    "\n",
    "fx_hldg_lst = []\n",
    "for k, v in fx_spot_map.items():\n",
    "    fx_hldg_excess_ret = fx_rates[v] - fx_rates[v].shift(1) + risk_free_rates[k].shift(1) - risk_free_rates['log_USD1M'].shift(1)\n",
    "    fx_hldg_summary = performance_summary(fx_hldg_excess_ret.to_frame().dropna())\n",
    "    fx_hldg_summary.index = [k[4:7]]\n",
    "    fx_hldg_summary.index.name = 'Currency Held'\n",
    "    fx_hldg_lst.append(fx_hldg_summary)\n",
    "\n",
    "fx_hldg_summary = pd.concat(fx_hldg_lst)\n",
    "fx_hldg_summary.loc[:, ['Mean','Volatility','Sharpe Ratio', 'Min', 'Max']]\n"
   ]
  },
  {
   "cell_type": "markdown",
   "metadata": {},
   "source": [
    "#### 当sharpe ratio是负数说明不能invest in foreign currency 应该borrow from foreign currency to invest in USD\n",
    "\n",
    "#### test whether the forward premium (excess return) is constant --> UIP regression test: beta (must be) = 1, alpha is positive --> although UIP does not hold, there is constant alpha\n",
    "    - result: UIP does not hold and alpha (premium) varies through time\n",
    "#### dynamic trading: if the premium gets larger, invest in foreign currency more, if gets smaller, invest less, if goes negative, short foreign currency --> \n",
    "\n",
    "#### dynamic trading of currency is not highly correlated with buy and hold of currency"
   ]
  },
  {
   "cell_type": "markdown",
   "metadata": {},
   "source": [
    "### What differences do you see across currencies?"
   ]
  },
  {
   "cell_type": "markdown",
   "metadata": {},
   "source": [
    "the CHF carry trade exhibits a positive and efficient return profile of 0.4% annualized return, while the GBP, EUR, and JPY carry trades show negative returns. The JPY carry trade, in particular, demonstrates the least favorable risk-return characteristics among the four currencies."
   ]
  },
  {
   "cell_type": "markdown",
   "metadata": {},
   "source": [
    "### 3.2) Implications for UIP:"
   ]
  },
  {
   "cell_type": "markdown",
   "metadata": {},
   "source": [
    "### 3.2.a) Do any of these stats contradict the (log version) of Uncovered Interest Parity (UIP)?"
   ]
  },
  {
   "cell_type": "markdown",
   "metadata": {},
   "source": [
    "The Uncovered Interest Parity (UIP) hypothesis, particularly its log version, posits that the mean return of currency positions should be zero, as the changes in the spot foreign exchange (FX) rate are expected to be completely offset by the differences in risk-free interest rates between two currencies. \n",
    "\n",
    "the Sharpe ratios for all currencies fall within the 95% confidence interval for statistical significance, it implies that the mean return statistics might not be significantly different from zero.\n",
    "This means that, while the mean returns are not exactly zero, they might not be statistically significant enough to conclusively contradict UIP."
   ]
  },
  {
   "cell_type": "markdown",
   "metadata": {},
   "source": [
    "### 3.2.b) A long position in which foreign currency offered the best Sharpe ratio over the sample?"
   ]
  },
  {
   "cell_type": "markdown",
   "metadata": {},
   "source": [
    "Based on the output above, a long position in CHF would have offered positive returns and a positive Sharpe ratio at 0.04."
   ]
  },
  {
   "cell_type": "markdown",
   "metadata": {},
   "source": [
    "### 3.2.c) Are there any foreign currencies for which a long position earned a negative excess return (in USD) over the sample?"
   ]
  },
  {
   "cell_type": "markdown",
   "metadata": {},
   "source": [
    "GBP, EUR, and JPY earned negative excess returns in USD if taking long positions in those currencies. Especially for JPY, it had significant negative returns over the sample. "
   ]
  },
  {
   "cell_type": "markdown",
   "metadata": {},
   "source": [
    "### 3.3) Predicting FX\n",
    "\n",
    "For each foreign currency, test whether interest-rate differentials can predict growth in the foreign-exchange rate.1 Do this by estimating the following forecasting regression:\n",
    "\n",
    "\\begin{align}\n",
    "{s}^{i}_{t+1} - {s}^{i}_{t} = \\alpha^{i} + \\beta^{i}({r}^{f,\\$}_{t,t+1} -  {r}^{f,i}_{t,t+1})+\\epsilon_{t+1}\n",
    "\\end{align}\n",
    "\n",
    "where  ${r}^{f,i}$ denotes the risk-free rate of currency i, and $s^{i}$ denotes the FX rate for currency i.<br>\n",
    "Again, note that both ${r}^{f,\\$}_{t,t+1}$ and $s_{t}$ are determined at time t."
   ]
  },
  {
   "cell_type": "markdown",
   "metadata": {},
   "source": [
    "### 3.3.a) Make a table with columns corresponding to a different currency regression. Report the regression estimates $\\alpha^{i}$ and $\\beta^{i}$ in the first two rows. Report the $R^{2}$ stat in the third row."
   ]
  },
  {
   "cell_type": "code",
   "execution_count": 43,
   "metadata": {},
   "outputs": [
    {
     "data": {
      "text/html": [
       "<div>\n",
       "<style scoped>\n",
       "    .dataframe tbody tr th:only-of-type {\n",
       "        vertical-align: middle;\n",
       "    }\n",
       "\n",
       "    .dataframe tbody tr th {\n",
       "        vertical-align: top;\n",
       "    }\n",
       "\n",
       "    .dataframe thead th {\n",
       "        text-align: right;\n",
       "    }\n",
       "</style>\n",
       "<table border=\"1\" class=\"dataframe\">\n",
       "  <thead>\n",
       "    <tr style=\"text-align: right;\">\n",
       "      <th>Currency</th>\n",
       "      <th>GBP</th>\n",
       "      <th>EUR</th>\n",
       "      <th>CHF</th>\n",
       "      <th>JPY</th>\n",
       "    </tr>\n",
       "  </thead>\n",
       "  <tbody>\n",
       "    <tr>\n",
       "      <th>Alpha</th>\n",
       "      <td>-0.007596</td>\n",
       "      <td>0.008868</td>\n",
       "      <td>0.049584</td>\n",
       "      <td>-0.00114</td>\n",
       "    </tr>\n",
       "    <tr>\n",
       "      <th>Beta</th>\n",
       "      <td>0.110666</td>\n",
       "      <td>-1.633806</td>\n",
       "      <td>-2.066667</td>\n",
       "      <td>0.10538</td>\n",
       "    </tr>\n",
       "    <tr>\n",
       "      <th>R-Squared</th>\n",
       "      <td>0.000020</td>\n",
       "      <td>0.004398</td>\n",
       "      <td>0.006156</td>\n",
       "      <td>0.00004</td>\n",
       "    </tr>\n",
       "  </tbody>\n",
       "</table>\n",
       "</div>"
      ],
      "text/plain": [
       "Currency        GBP       EUR       CHF      JPY\n",
       "Alpha     -0.007596  0.008868  0.049584 -0.00114\n",
       "Beta       0.110666 -1.633806 -2.066667  0.10538\n",
       "R-Squared  0.000020  0.004398  0.006156  0.00004"
      ]
     },
     "execution_count": 43,
     "metadata": {},
     "output_type": "execute_result"
    }
   ],
   "source": [
    "fx_regression_data_list = []\n",
    "\n",
    "for k, v in fx_spot_map.items():\n",
    "    fx_regression_data = pd.DataFrame({\n",
    "        'Dependent Variable': fx_rates[v].diff(),\n",
    "        'Independent Variable': risk_free_rates['log_USD1M'] - risk_free_rates[k]\n",
    "    }).dropna()\n",
    "    \n",
    "    regression_result = regression_based_performance(fx_regression_data['Independent Variable'], fx_regression_data['Dependent Variable'], 0)\n",
    "    \n",
    "    alpha = regression_result[3]\n",
    "    beta = regression_result[0][0]\n",
    "    r_squared = regression_result[4]\n",
    "    \n",
    "    fx_regression_data_list.append({\n",
    "        'Currency': k[4:7],\n",
    "        'Alpha': alpha,\n",
    "        'Beta': beta,\n",
    "        'R-Squared': r_squared\n",
    "    })\n",
    "\n",
    "fx_regression_results = pd.DataFrame(fx_regression_data_list)\n",
    "fx_regression_results.index = fx_regression_results['Currency']\n",
    "fx_regression_results = fx_regression_results.drop(['Currency'], axis=1)\n",
    "fx_regression_results.T\n"
   ]
  },
  {
   "cell_type": "markdown",
   "metadata": {},
   "source": [
    "#### beta is positive but less than 1: interest rate differential (r$ - r€) does predict exchange rate but just a little\n",
    "\n",
    "#### beta is negative: added to future affect movement\n",
    "\n",
    "#### R^2 is low means you can only make money when you trades a lot of times "
   ]
  },
  {
   "cell_type": "code",
   "execution_count": 44,
   "metadata": {},
   "outputs": [
    {
     "data": {
      "text/plain": [
       "\"\\nfx_regression_results = pd.DataFrame(columns=['Currency', 'Alpha', 'Beta', 'R-Squared'])\\n\\nfor k,v in fx_spot_map.items():\\n    fx_regression_data = pd.DataFrame({\\n        'Dependent Variable': fx_rates[v].diff(),\\n        'Independent Variable': risk_free_rates['log_USD1M'] - risk_free_rates[k]\\n    }).dropna()\\n    \\n    regression_result = regression_based_performance(fx_regression_data['Independent Variable'], fx_regression_data['Dependent Variable'], 1)\\n    \\n    alpha = regression_result[3]\\n    beta = regression_result[0][0]\\n    r_squared = regression_result[4]\\n    \\n    # NOT APPEND HERE?????\\n    fx_regression_results = fx_regression_results.append({\\n        'Currency': k[4:7],\\n        'Alpha': alpha,\\n        'Beta': beta,\\n        'R-Squared': r_squared\\n    }, ignore_index=True)\\n\\nfx_regression_results.index = fx_regression_results['Currency']\\nfx_regression_results = fx_regression_results.drop(['Currency'], axis=1)\\nfx_regression_results\\n\""
      ]
     },
     "execution_count": 44,
     "metadata": {},
     "output_type": "execute_result"
    }
   ],
   "source": [
    "'''\n",
    "fx_regression_results = pd.DataFrame(columns=['Currency', 'Alpha', 'Beta', 'R-Squared'])\n",
    "\n",
    "for k,v in fx_spot_map.items():\n",
    "    fx_regression_data = pd.DataFrame({\n",
    "        'Dependent Variable': fx_rates[v].diff(),\n",
    "        'Independent Variable': risk_free_rates['log_USD1M'] - risk_free_rates[k]\n",
    "    }).dropna()\n",
    "    \n",
    "    regression_result = regression_based_performance(fx_regression_data['Independent Variable'], fx_regression_data['Dependent Variable'], 1)\n",
    "    \n",
    "    alpha = regression_result[3]\n",
    "    beta = regression_result[0][0]\n",
    "    r_squared = regression_result[4]\n",
    "    \n",
    "    # NOT APPEND HERE?????\n",
    "    fx_regression_results = fx_regression_results.append({\n",
    "        'Currency': k[4:7],\n",
    "        'Alpha': alpha,\n",
    "        'Beta': beta,\n",
    "        'R-Squared': r_squared\n",
    "    }, ignore_index=True)\n",
    "\n",
    "fx_regression_results.index = fx_regression_results['Currency']\n",
    "fx_regression_results = fx_regression_results.drop(['Currency'], axis=1)\n",
    "fx_regression_results\n",
    "'''"
   ]
  },
  {
   "cell_type": "markdown",
   "metadata": {},
   "source": [
    "### 3.3.b) Suppose the foreign risk-free rate increases relative to the US rate."
   ]
  },
  {
   "cell_type": "markdown",
   "metadata": {},
   "source": [
    "### i. For which foreign currencies would we predict a relative strengthening of the USD in the following period?"
   ]
  },
  {
   "cell_type": "markdown",
   "metadata": {},
   "source": [
    "A positive beta in the regression analysis indicates that if the risk-free rate of a currency increases relative to the US rate, there will be a decrease in the FX rates (USD per foreign currency). This decrease translates to a relative strengthening of the USD against that foreign currency.\n",
    "\n",
    "Since only the Japanese Yen (JPY) and the British Pound (GBP) exhibit a positive beta in the regression analysis, we can predict a relative strengthening of the USD against these two currencies in the following period, assuming their respective risk-free rates increase relative to the US rate.\n",
    "\n",
    "Therefore, in scenarios where the risk-free rates in Japan and the United Kingdom increase relative to the US, the USD is expected to strengthen against the JPY and GBP. Conversely, a dollar would buy more Japanese Yen and British Pounds in this case."
   ]
  },
  {
   "cell_type": "markdown",
   "metadata": {},
   "source": [
    "### ii. For which currencies would we predict relative weakening of the USD in the following period?"
   ]
  },
  {
   "cell_type": "markdown",
   "metadata": {},
   "source": [
    "Since the Euro (EUR) and the Swiss Franc (CHF) both have a negative beta in the regression analysis, we can predict that the USD would relatively weaken against these two currencies in the following period, assuming their respective risk-free rates increase compared to the US rate."
   ]
  },
  {
   "cell_type": "markdown",
   "metadata": {},
   "source": [
    "### iii. This FX predictability is strongest in the case of which foreign currency?"
   ]
  },
  {
   "cell_type": "markdown",
   "metadata": {},
   "source": [
    "Given that CHF has the largest R^2 among all currencies, CHF shows the strongest FX predictability among the analyzed currencies, but the actual strength of this predictability might still be considered weak if the R^2 value is not sufficiently high. This suggests caution in relying heavily on these predictions for significant financial decisions."
   ]
  },
  {
   "cell_type": "markdown",
   "metadata": {},
   "source": [
    "### 3.4) The Dynamic Carry Trade\n",
    "\n",
    "Use this to write $\\mathbb{E}_{t}[\\tilde{r}^{i}_{t+1}]$ as a function of the interest-rate differential as well as $\\alpha$ and $\\beta$ from this FX regression.<br>\n",
    "\n",
    "\n",
    "\\begin{align}\n",
    "\\mathbb{E}_{t}[{s}_{t+1} - {s}_{t}] = \\alpha + \\beta({r}^{f,\\$}_{t,t+1} -  {r}^{f,i}_{t,t+1})\n",
    "\\end{align}\n",
    "\n",
    "Then use the definition of excess (log) returns on FX:<br>\n",
    "\n",
    "\\begin{align}\n",
    "\\tilde{r}^{i}_{t+1} = {s}_{t+1} - {s}_{t} - ({r}^{f,\\$}_{t,t+1} -  {r}^{f,i}_{t,t+1})\n",
    "\\end{align}\n",
    "\n",
    "\n",
    "Rearranging, this implies the following forecast for excess log returns:<br>\n",
    "\n",
    "\\begin{align}\n",
    "\\mathbb{E}_[\\tilde{r}^{i}_{t+1}] = \\alpha + (\\beta-1) ({r}^{f,\\$}_{t,t+1} -  {r}^{f,i}_{t,t+1})\n",
    "\\end{align}\n",
    "\n"
   ]
  },
  {
   "cell_type": "markdown",
   "metadata": {},
   "source": [
    "### 3.4.a) Use your regression estimates from Problem 3 along with the formula above to calculate the fraction of months for which the estimated FX risk premium positive. That is, for each i, calculate how often in the time-series we have <br>\n",
    "\n",
    "\\begin{align}\n",
    "\\mathbb{E}_{t}[\\tilde{r}^{i}_{t+1}] > 0\n",
    "\\end{align}"
   ]
  },
  {
   "cell_type": "code",
   "execution_count": 45,
   "metadata": {},
   "outputs": [
    {
     "data": {
      "text/html": [
       "<div>\n",
       "<style scoped>\n",
       "    .dataframe tbody tr th:only-of-type {\n",
       "        vertical-align: middle;\n",
       "    }\n",
       "\n",
       "    .dataframe tbody tr th {\n",
       "        vertical-align: top;\n",
       "    }\n",
       "\n",
       "    .dataframe thead th {\n",
       "        text-align: right;\n",
       "    }\n",
       "</style>\n",
       "<table border=\"1\" class=\"dataframe\">\n",
       "  <thead>\n",
       "    <tr style=\"text-align: right;\">\n",
       "      <th></th>\n",
       "      <th>Months - Positive Premium</th>\n",
       "      <th>Total Months</th>\n",
       "      <th>Frequency(%)-Positive Premium</th>\n",
       "    </tr>\n",
       "  </thead>\n",
       "  <tbody>\n",
       "    <tr>\n",
       "      <th>GBP</th>\n",
       "      <td>70</td>\n",
       "      <td>274</td>\n",
       "      <td>25.547445</td>\n",
       "    </tr>\n",
       "    <tr>\n",
       "      <th>EUR</th>\n",
       "      <td>140</td>\n",
       "      <td>274</td>\n",
       "      <td>51.094891</td>\n",
       "    </tr>\n",
       "    <tr>\n",
       "      <th>CHF</th>\n",
       "      <td>172</td>\n",
       "      <td>274</td>\n",
       "      <td>62.773723</td>\n",
       "    </tr>\n",
       "    <tr>\n",
       "      <th>JPY</th>\n",
       "      <td>1</td>\n",
       "      <td>274</td>\n",
       "      <td>0.364964</td>\n",
       "    </tr>\n",
       "  </tbody>\n",
       "</table>\n",
       "</div>"
      ],
      "text/plain": [
       "     Months - Positive Premium  Total Months  Frequency(%)-Positive Premium\n",
       "GBP                         70           274                      25.547445\n",
       "EUR                        140           274                      51.094891\n",
       "CHF                        172           274                      62.773723\n",
       "JPY                          1           274                       0.364964"
      ]
     },
     "execution_count": 45,
     "metadata": {},
     "output_type": "execute_result"
    }
   ],
   "source": [
    "fx_prem_lst = []\n",
    "for k,v in fx_spot_map.items():\n",
    "    fx_er_usd = (risk_free_rates['log_USD1M'].shift(1) - risk_free_rates[k].shift(1)).to_frame('ER_over_USD')\n",
    "    expected_fx_premium = float(fx_regression_results.loc[[k[4:7]], 'Alpha'])/12 + (fx_er_usd.loc[:,['ER_over_USD']]  * float(fx_regression_results.loc[[k[4:7]], 'Beta'] - 1))\n",
    "    expected_fx_premium = expected_fx_premium.rename(columns={'ER_over_USD':k[4:7]})\n",
    "    positive_premium =  len(expected_fx_premium[expected_fx_premium[k[4:7]] > 0])\n",
    "    fx_prem_lst.append(pd.DataFrame([[positive_premium,len(expected_fx_premium),positive_premium*100/len(expected_fx_premium)]],columns=['Months - Positive Premium','Total Months','Frequency(%)-Positive Premium'],index=[k[4:7]]))\n",
    "fx_premium = pd.concat(fx_prem_lst)\n",
    "fx_premium\n",
    "\n"
   ]
  },
  {
   "cell_type": "markdown",
   "metadata": {},
   "source": [
    "### 3.4.b) Which currencies most consistently have a positive FX risk premium? And for which currencies does the FX risk premium most often go negative?"
   ]
  },
  {
   "cell_type": "markdown",
   "metadata": {},
   "source": [
    "CHF and EUR are the currencies that most consistently offer a positive FX risk premium, making them more attractive from a risk-reward perspective. In contrast, JPY and GBP are more likely to have a negative FX risk premium, suggesting a less favorable risk-return trade-off for these currencies in the sample period."
   ]
  },
  {
   "cell_type": "markdown",
   "metadata": {},
   "source": [
    "### 3.4.c) Explain how we could use these conditional risk premia to improve the static carry trade returns calculated in Problem 1."
   ]
  },
  {
   "cell_type": "markdown",
   "metadata": {},
   "source": [
    "The analysis in 3.4.a) suggests that JPY returns tend to deviate from the expected value of zero, indicating a potential opportunity.\n",
    "An effective strategy could involve shorting the JPY, meaning borrowing in JPY at the Japanese risk-free rate and investing those funds in an asset with a higher risk-free rate, such as the USD. "
   ]
  },
  {
   "cell_type": "markdown",
   "metadata": {},
   "source": [
    "---"
   ]
  }
 ],
 "metadata": {
  "kernelspec": {
   "display_name": "Python 3 (ipykernel)",
   "language": "python",
   "name": "python3"
  },
  "language_info": {
   "codemirror_mode": {
    "name": "ipython",
    "version": 3
   },
   "file_extension": ".py",
   "mimetype": "text/x-python",
   "name": "python",
   "nbconvert_exporter": "python",
   "pygments_lexer": "ipython3",
   "version": "3.8.8"
  }
 },
 "nbformat": 4,
 "nbformat_minor": 2
}
