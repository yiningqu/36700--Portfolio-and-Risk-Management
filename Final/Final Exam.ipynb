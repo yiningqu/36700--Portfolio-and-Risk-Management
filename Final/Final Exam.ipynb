{
 "cells": [
  {
   "cell_type": "markdown",
   "id": "e49f9090",
   "metadata": {},
   "source": [
    "# Final Exam\n",
    "\n",
    "## FINM 36700 - 2023\n",
    "\n",
    "### UChicago Financial Mathematics\n",
    "\n",
    "* Mark Hendricks\n",
    "* hendricks@uchicago.edu"
   ]
  },
  {
   "cell_type": "markdown",
   "id": "6a26cd48",
   "metadata": {},
   "source": [
    "# Instructions"
   ]
  },
  {
   "cell_type": "markdown",
   "id": "7450dc04",
   "metadata": {},
   "source": [
    "## Please note the following:\n",
    "\n",
    "Points\n",
    "* The exam is 155 points.\n",
    "* You have 180 minutes to complete the exam.\n",
    "* For every minute late you submit the exam, you will lose one point.\n",
    "\n",
    "\n",
    "Submission\n",
    "* You will upload your solution to the `Final Exam` assignment on Canvas, where you downloaded this. (Be sure to **submit** on Canvas, not just **save** on Canvas.\n",
    "* Your submission should be readable, (the graders can understand your answers,) and it should **include all code used in your analysis in a file format that the code can be executed.** \n",
    "\n",
    "Rules\n",
    "* The exam is open-material, closed-communication.\n",
    "* You do not need to cite material from the course github repo--you are welcome to use the code posted there without citation.\n",
    "\n",
    "Advice\n",
    "* If you find any question to be unclear, state your interpretation and proceed. We will only answer questions of interpretation if there is a typo, error, etc.\n",
    "* The exam will be graded for partial credit."
   ]
  },
  {
   "cell_type": "markdown",
   "id": "2ed02541",
   "metadata": {},
   "source": [
    "## Data\n",
    "\n",
    "**All data files are found in the class github repo, in the `data` folder.**\n",
    "\n",
    "This exam makes use of the following data files:\n",
    "* `final_exam_data.xlsx`\n",
    "\n",
    "This file has sheets for...\n",
    "* `portfolio` (weekly) - Part 2\n",
    "* `forecasting` (monthly) - Part 3\n",
    "* `fx_carry`(daily) - Part 4"
   ]
  },
  {
   "cell_type": "code",
   "execution_count": 1,
   "id": "4dd46765",
   "metadata": {},
   "outputs": [
    {
     "name": "stderr",
     "output_type": "stream",
     "text": [
      "/opt/anaconda3/lib/python3.8/site-packages/scipy/__init__.py:146: UserWarning: A NumPy version >=1.16.5 and <1.23.0 is required for this version of SciPy (detected version 1.24.4\n",
      "  warnings.warn(f\"A NumPy version >={np_minversion} and <{np_maxversion}\"\n"
     ]
    }
   ],
   "source": [
    "import numpy as np\n",
    "import pandas as pd\n",
    "import statsmodels.api as sm\n",
    "import matplotlib.pyplot as plt\n",
    "import seaborn as sns\n",
    "from statsmodels.regression.rolling import RollingOLS\n",
    "from functools import partial\n",
    "import sys\n",
    "import math\n",
    "pd.options.display.float_format = \"{:,.4f}\".format\n",
    "from sklearn.linear_model import LinearRegression\n",
    "import warnings\n",
    "warnings.filterwarnings(\"ignore\")\n",
    "import os\n",
    "from scipy.stats import norm"
   ]
  },
  {
   "cell_type": "code",
   "execution_count": 80,
   "id": "6820f394",
   "metadata": {},
   "outputs": [],
   "source": [
    "#import data\n",
    "raw_data = pd.read_excel('/Users/yiningqu/Desktop/final_exam_data.xlsx',sheet_name = None)\n",
    "\n",
    "\n",
    "\n",
    "#import data with multiple sheets\n",
    "sheets = list(raw_data.keys())\n",
    "forecasting = raw_data[sheets[1]].set_index('date')\n",
    "fx_daily = raw_data[sheets[2]].set_index('date')\n"
   ]
  },
  {
   "cell_type": "markdown",
   "id": "8e430ec4",
   "metadata": {},
   "source": [
    "## Scoring\n",
    "\n",
    "| Problem | Points |\n",
    "|---------|--------|\n",
    "| 1       | 40     |\n",
    "| 2       | 25     |\n",
    "| 3       | 50     |\n",
    "| 4       | 40     |"
   ]
  },
  {
   "cell_type": "markdown",
   "id": "7b2f131d",
   "metadata": {},
   "source": [
    "### Each numbered question is worth 5 points unless otherwise specified."
   ]
  },
  {
   "cell_type": "markdown",
   "id": "e7bae96a",
   "metadata": {},
   "source": [
    "### Notation\n",
    "(Hidden LaTeX commands)\n",
    "\n",
    "$$\\newcommand{\\betamkt}{\\beta^{i,\\text{MKT}}}$$\n",
    "$$\\newcommand{\\betahml}{\\beta^{i,\\text{HML}}}$$\n",
    "$$\\newcommand{\\betaumd}{\\beta^{i,\\text{UMD}}}$$\n",
    "$$\\newcommand{\\Eri}{E\\left[\\tilde{r}^{i}\\right]}$$\n",
    "$$\\newcommand{\\Emkt}{E\\left[\\tilde{r}^{\\text{MKT}}\\right]}$$\n",
    "$$\\newcommand{\\Ehml}{E\\left[\\tilde{r}^{\\text{HML}}\\right]}$$\n",
    "$$\\newcommand{\\Eumd}{E\\left[\\tilde{r}^{\\text{UMD}}\\right]}$$\n",
    "\n",
    "$$\\newcommand{\\frn}{\\text{MXN}}$$\n",
    "$$\\newcommand{\\frnrate}{\\text{MXSTR}}$$\n",
    "$$\\newcommand{\\FXspot}{S}$$\n",
    "$$\\newcommand{\\fxspot}{\\texttt{s}}$$\n",
    "$$\\newcommand{\\rflogusd}{\\texttt{r}^{\\text{USD}}}$$\n",
    "$$\\newcommand{\\rflogfrn}{\\texttt{r}^{\\frn}}$$\n",
    "\n",
    "$$\\newcommand{\\wintt}{t,t+1}$$\n",
    "\n",
    "$$\\newcommand{\\targ}{\\text{USO}}$$"
   ]
  },
  {
   "cell_type": "markdown",
   "id": "29108024",
   "metadata": {},
   "source": [
    "# 1. Short Answer"
   ]
  },
  {
   "cell_type": "markdown",
   "id": "10e4483d",
   "metadata": {},
   "source": [
    "#### No Data Needed\n",
    "\n",
    "These problems do not require any data file. Rather, analyze them conceptually. "
   ]
  },
  {
   "cell_type": "markdown",
   "id": "fb4ae41e",
   "metadata": {},
   "source": [
    "### 1.\n",
    "\n",
    "Consider a Linear Factor Pricing Model (LFPM).\n",
    "\n",
    "Which metric do we examine to understand its fit, (or errors)...\n",
    "* given the estimated **time-series (TS)** test?\n",
    "* given the estimated **cross-sectional (CS)** test?\n",
    "\n",
    "For TS test, the alpha should be zero and R^2 doesn't matter\n",
    "For CS test, the R^2 must be big and alpha doesn't matter\n",
    "\n",
    "\n",
    "\n",
    "In a Linear Factor Pricing Model (LFPM), which is commonly used in finance to explain the returns of assets, we use different metrics to assess the model's fit or errors in both time-series (TS) and cross-sectional (CS) tests:\n",
    "\n",
    "1. Time-Series (TS) Test:\n",
    "\n",
    "In a time-series test, you are evaluating how well the LFPM fits the historical return data for a single asset or portfolio over time. The primary metric used to understand the fit or errors in the time-series test is:\n",
    "\n",
    "a. R-squared (R²): R-squared measures the goodness of fit of the LFPM. It tells you the proportion of the variance in the asset's or portfolio's returns that can be explained by the factors in the model. A higher R-squared indicates a better fit, as it suggests that a larger portion of the return variation can be attributed to the factors in the LFPM.\n",
    "\n",
    "A low R-squared in the time-series test may indicate that the LFPM is not capturing a significant portion of the asset's return variation, suggesting that the model may not be a good fit for explaining the asset's historical returns.\n",
    "\n",
    "2. Cross-Sectional (CS) Test:\n",
    "\n",
    "In a cross-sectional test, you are evaluating how well the LFPM fits the differences in returns across multiple assets or portfolios at a specific point in time. The primary metric used to understand the fit or errors in the cross-sectional test is:\n",
    "\n",
    "b. Alpha (α): Alpha represents the excess return of an asset or portfolio above what would be expected based on the LFPM. In a well-fitted model, alpha should ideally be close to zero, indicating that there are no unexplained excess returns (positive or negative) after accounting for the factors in the model.\n",
    "\n",
    "In a cross-sectional test, you examine the alphas of various assets or portfolios. If a significant number of assets or portfolios have consistently positive or negative alphas, it suggests that the LFPM is not adequately explaining the differences in returns among these assets, indicating a potential model inadequacy.\n",
    "\n",
    "In summary, R-squared is used in the time-series test to assess how well the LFPM explains the historical returns of a single asset or portfolio over time. Alpha is used in the cross-sectional test to evaluate whether the LFPM adequately accounts for the differences in returns among multiple assets or portfolios at a specific point in time. These metrics help assess the model's fit and any errors in explaining asset returns in different contexts."
   ]
  },
  {
   "cell_type": "markdown",
   "id": "b3af04d7",
   "metadata": {},
   "source": [
    "### 2.\n",
    "\n",
    "Consider the Arbitrage Pricing Theory (APT). Is it fair to say that it is more likely to work for sets of assets with low cross-correlation? Why or why not?\n",
    "\n",
    "The two assumption that APT made is first the residuals are uncorrelated and second the alpha should be zero. Also, it should have large R^2. This means that the low cross-correlation within the sets of assets doesn't matter a lot. However, it works for sets of asset with the following circumstances:  \n",
    "\n",
    "The Arbitrage Pricing Theory (APT) is a financial theory used to explain the returns of assets based on a linear relationship with multiple systematic risk factors. A key assumption of APT is that assets' returns are influenced by common systematic factors rather than firm-specific factors. Therefore, APT can be more likely to work effectively for sets of assets with low cross-correlation among them. Here's why:\n",
    "Systematic Risk Factors: APT posits that asset returns can be explained by systematic risk factors. These factors can include economic variables like interest rates, inflation rates, and market indices. When assets have low cross-correlation, it implies that they are less dependent on each other, and their returns are driven by different sets of systematic factors. In such a scenario, APT is more likely to be applicable because it can better capture the unique risk exposures of each asset.\n",
    "\n",
    "Diversification Benefits: APT relies on the principle of diversification, which suggests that by combining assets with low correlation, an investor can reduce the overall risk (volatility) of a portfolio without sacrificing potential returns. When assets are not highly correlated, they tend to respond differently to changes in systematic factors. Therefore, a well-diversified portfolio constructed using APT can potentially provide better risk-adjusted returns.\n",
    "\n",
    "Independent Sources of Risk: In a low cross-correlation environment, assets have relatively independent sources of risk. APT seeks to identify and quantify these systematic risk factors that affect asset returns. If assets were highly cross-correlated, it would be challenging to distinguish the impact of individual factors on their returns, making APT less effective.\n",
    "\n",
    "However, it's important to note that APT is a theoretical model, and its effectiveness in practice depends on various assumptions and the quality of data used for factor estimation. APT assumes that there are no arbitrage opportunities in the market, and returns are generated based on the linear relationship with risk factors. Real-world markets can be more complex, with various sources of risk and correlations that may not always conform perfectly to APT assumptions.\n",
    "\n",
    "In summary, APT is more likely to work effectively for sets of assets with low cross-correlation because it can better capture the distinct systematic risk exposures of each asset. Nevertheless, the real-world applicability of APT depends on various factors, and investors should consider the model's limitations and the specific characteristics of the assets and markets they are dealing with."
   ]
  },
  {
   "cell_type": "markdown",
   "id": "098ce470",
   "metadata": {},
   "source": [
    "### 3.\n",
    "\n",
    "In constructing momentum portfolios, we discussed selecting the top and bottom 10% of stocks, ranked by past returns. How do you think the strategy would be impacted if we were more extreme in the selection, and went long-short just the top / bottom 1% of total stocks?\n",
    "\n",
    "Creating Momentum with a single top and bottom decile, leads to higher mean returns as we the construction concentrates the winners and losers, but also icreased idiosyncratic risk. However, a wider construction with 3 top and bottom deciles reduces the idiosyncratic risk as we have a broader range of securities and thus a more diversified portfolio. The strategy will generate higher return but with higher volatility compared to previous strategy."
   ]
  },
  {
   "cell_type": "markdown",
   "id": "36646d1a",
   "metadata": {},
   "source": [
    "### 4.\n",
    "\n",
    "Over longer horizons, do investments have higher Sharpe ratios? How is this issue relevant to long-term asset allocators such as Barnstable?\n",
    "\n",
    "Yes, over  longer horizons, investments have higher Sharpe Ratios.\n",
    "<span style=\"color:00008B\"> Barnstable proposed that if the assumption of log iid normally distributed returns hold, the mean return of any asset with grow linearly with time. However, the volatility of the asset will grow by a factor of $\\sqrt{\\text{time}}$.Thus according to their proposition the Sharpe ratio of an investment, which is mean return scaled by the volatility, should grow by a factor of $\\sqrt{\\text{time}}$. Thus an investment's sharpe ratio will always be greater for a long-term horizon.</span><br><br>\n",
    "    \n",
    "<center> <span style=\"color:#00008B\">$\\tau = \\text{Long Horizon Time - Short Horizon Time}$ </span></center> <br>\n",
    "    \n",
    "<center> <span style=\"color:#00008B\">$\\tilde{r}_{\\text{Long}} \\approx \\tilde{r}_{\\text{Short}}*\\tau$ </span></center> <br>\n",
    "    \n",
    "<center> <span style=\"color:#00008B\">$\\sigma_{\\text{Long}} \\approx \\sigma_{\\text{Short}}*\\sqrt{\\tau}$ </span></center> <br>\n",
    "\n",
    "<center> <span style=\"color:#00008B\">$\\text{Sharpe}_{\\text{Long}} =\\frac{\\tilde{r}_{\\text{Long}} }{\\sigma_{\\text{Long}}} \\approx  \\frac{ \\tilde{r}_{\\text{Short}}*\\tau}{\\sigma_{\\text{Short}}*\\sqrt{\\tau}} \\approx \\text{Sharpe}_{\\text{Short}} *\\sqrt{\\tau}$ </span></center> <br>  \n",
    "\n",
    "\n"
   ]
  },
  {
   "cell_type": "markdown",
   "id": "b37329a6",
   "metadata": {},
   "source": [
    "### 5.\n",
    "\n",
    "Before it crashed, how did LTCM's performance compare to the S&P (SPY)? Was it an attractive investment? Be specific.\n",
    "\n",
    "Before it crashes, LTCM has better performance compared to S&P. \n",
    "\n",
    "Here are the advantages of LTCM over others: \n",
    "Efficient financing: Their edge was on financing and funding, along with their proprietary trading and modelling capabilities.\n",
    "Fund Size: They had a larger AUM(Assets Under Management), meaning they could lever at favorable rates\n",
    "Collatralization: Better collatralize these positions. (pay lower haircuts)\n",
    "Long-term Horizon: Long term commitment of capital from investors as well as availability of credit line\n",
    "Liquidity and Hedging: LTCM has in place many mechanisms to ensure liquidity. They also avoid taking too much default risk or explicit directional bets.\n",
    "\n",
    "Long-Term Capital Management (LTCM) was a hedge fund that experienced significant turmoil and ultimately collapsed in 1998. Before its crash, LTCM had a track record of strong performance, but this performance came with a substantial amount of risk. Let's compare LTCM's performance to the S&P 500 (represented by SPY) and evaluate whether it was an attractive investment:\n",
    "\n",
    "Performance Comparison:\n",
    "\n",
    "LTCM's performance was indeed impressive in its early years. The fund generated annualized returns well above traditional benchmarks like the S&P 500.\n",
    "LTCM used complex trading strategies, including fixed income arbitrage, to capitalize on small price differentials in various financial instruments. These strategies leveraged the fund's capital to amplify returns.\n",
    "Risk Profile:\n",
    "\n",
    "While LTCM delivered strong returns, it did so with a high level of risk. The fund used significant leverage, often exceeding 25 times its capital, to magnify returns. This leverage greatly increased LTCM's exposure to market movements, making it vulnerable to substantial losses.\n",
    "LTCM's trading strategies were based on statistical models that assumed historical patterns would continue. However, these models didn't account for extreme market events, such as the Russian financial crisis in 1998.\n",
    "Attractiveness as an Investment:\n",
    "\n",
    "LTCM may have appeared attractive to some investors due to its historical performance and the reputation of its founders, including Nobel laureates in economics. The allure of consistent high returns was appealing.\n",
    "However, LTCM's high-risk profile, extensive leverage, and lack of diversification made it unsuitable for most investors, particularly those with a low tolerance for risk.\n",
    "Many investors might not have fully understood the complexity of LTCM's strategies or the potential for catastrophic losses in adverse market conditions.\n",
    "In summary, LTCM's performance was indeed impressive in terms of generating high returns, especially when compared to traditional benchmarks like the S&P 500. However, its attractiveness as an investment depends on an individual investor's risk tolerance and understanding of the fund's risk profile. The fund's eventual collapse in 1998 demonstrated the dangers of excessive leverage and overreliance on historical data in complex trading strategies, making it a cautionary tale in the world of finance. For most investors, LTCM's high-risk approach would not have been suitable, especially considering the significant losses it incurred during its downfall."
   ]
  },
  {
   "cell_type": "markdown",
   "id": "5fc27e9c",
   "metadata": {},
   "source": [
    "### 6.\n",
    "\n",
    "Suppose investors are **not** mean-variance investors. If we find an investment with a Sharpe ratio higher than the \"market\", would this would be inconsistent with the CAPM?\n",
    "\n",
    "The Capital Asset Pricing Model (CAPM) is a financial theory that relates the expected return of an asset to its systematic risk, typically measured by beta. \n",
    "\n",
    "Now, if investors are not mean-variance investors, it means they do not necessarily make investment decisions solely based on the risk-return trade-off as depicted by the CAPM. They may have preferences or constraints that lead them to consider factors beyond the CAPM, such as ethical considerations, liquidity needs, or specific investment objectives.\n",
    "\n",
    "So, if you find an investment with a Sharpe ratio higher than the \"market\" (meaning it offers a better risk-adjusted return), it would not necessarily be inconsistent with the CAPM. The CAPM provides a theoretical framework for pricing assets based on their systematic risk, but it does not account for all the factors that investors may consider when making investment decisions.\n",
    "\n",
    "Investors may be willing to accept a lower expected return for an investment if it aligns with their preferences or constraints, even if the CAPM suggests that the expected return should be higher based on systematic risk. Conversely, they may be attracted to an investment with a higher Sharpe ratio if it offers a better risk-adjusted return, regardless of whether the CAPM predicts this outcome.\n",
    "\n",
    "In summary, the CAPM provides a foundation for understanding the relationship between expected return and systematic risk, but it does not encompass all factors that influence investment decisions. Investors' preferences and constraints can lead them to consider investments with Sharpe ratios that differ from what the CAPM would predict."
   ]
  },
  {
   "cell_type": "markdown",
   "id": "80418680",
   "metadata": {},
   "source": [
    "### 7.\n",
    "\n",
    "What causes us concern about the performance of classic mean-variance optimization out-of-sample?\n",
    "\n",
    "What is one of the potential solutions we discussed?\n",
    "\n",
    "\n",
    "Small changes in mean returns of underlying assets have large impact on the weights of the mean-variance optimized portfolio. The tangency portfolio weights are sensitive to changes in mean return due to the nature of the inverted covariance matrix.\n",
    "\n",
    "We discussed using Ridge and LASSO would address the extereme weights produced by the mean-variance optimization by penalizing the objective function, (equivalently by regularizing the covariance matrix, which improves the stability of its inverse.). Generally, regularizing/diagonalizing the covariance matrix would stabalize its inversion.\n"
   ]
  },
  {
   "cell_type": "markdown",
   "id": "93744f83",
   "metadata": {},
   "source": [
    "### 8.\n",
    "\n",
    "True or False: Uncovered Interest Parity implies Covered Interest Parity, but not vice-versa.\n",
    "\n",
    "Explain.\n",
    "\n",
    "**Solution:** UIP relates expected FX growth to interest rate differential:  </span><br><br>\n",
    "    \n",
    "<center> <span style=\"color:#00008B\">$ln \\mathop{\\mathbb{E}}_{t}[S_{t+1}] - s_{t} = r_{t+1}^{\\text{f,\\$}} - r_{t+1}^{\\text{f,£}} $</span></center> <br>  \n",
    "\n",
    "<span style=\"color:#00008B\"> We can rewrite the UIP condition, using CIP to sub out the interest rate differential for the forward premium.</span><br><br> \n",
    "\n",
    "<center> <span style=\"color:#00008B\">$ln \\mathop{\\mathbb{E}}_{t}[S_{t+1}] - s_{t} = f_{t}^{s} - s_{t}$</span></center> <br> \n",
    "\n",
    "<span style=\"color:#00008B\"> Thus, neither implies the other. CIP is a no-arbitrage relationship of forward rates vs spot rates. UIP is a hypothesis that FX risk does not earn a premium; in other words, expected excess returns of FX are zero. The theory does not imply the no-arbitrage relationship, nor vice-versa. It is true that sometimes we use the CIP relationship to insert into UIP to write it in a different form, but this is not enough to prove UIP; it is simply restating it in terms of forward rates.</span><br><br> \n",
    "\n",
    "\n"
   ]
  },
  {
   "cell_type": "markdown",
   "id": "7966dc11",
   "metadata": {},
   "source": [
    "***"
   ]
  },
  {
   "cell_type": "markdown",
   "id": "36e16d88",
   "metadata": {},
   "source": [
    "# 2. Optimization\n",
    "\n",
    "Use the data found in the `portfolio` tab. it is weekly data."
   ]
  },
  {
   "cell_type": "markdown",
   "id": "eea0db3c",
   "metadata": {},
   "source": [
    "### 1.\n",
    "\n",
    "Assume the provided data is in terms of **excess** returns.\n",
    "\n",
    "Report the weights of the tangency portfolio.\n",
    "\n",
    "Report the weights of the MV portfolio which achieves a mean weekly return of `0.0025`.\n",
    "\n",
    "\n",
    "### 2.\n",
    "\n",
    "Assume the provided data is in terms of **total** returns.\n",
    "\n",
    "Report the weights of the GMV portfolio\n",
    "\n",
    "Report the weights of the MV portfolio which achieves a mean weekly return of `0.0025`."
   ]
  },
  {
   "cell_type": "code",
   "execution_count": 132,
   "id": "7752a40c",
   "metadata": {},
   "outputs": [],
   "source": [
    "portfolio = raw_data[sheets[0]].set_index('date')"
   ]
  },
  {
   "cell_type": "code",
   "execution_count": 150,
   "id": "41c468eb",
   "metadata": {},
   "outputs": [],
   "source": [
    "def tangency_weights(returns, cov_mat = 1):\n",
    "    \n",
    "    if cov_mat ==1:\n",
    "        cov_inv = np.linalg.inv((returns.cov()*12))\n",
    "    else:\n",
    "        cov = returns.cov()\n",
    "        covmat_diag = np.diag(np.diag((cov)))\n",
    "        covmat = cov_mat * cov + (1-cov_mat) * covmat_diag\n",
    "        cov_inv = np.linalg.inv((covmat*12))  \n",
    "        \n",
    "    ones = np.ones(returns.columns[0:].shape) \n",
    "    mu = returns.mean()*12\n",
    "    scaling = 1/(np.transpose(ones) @ cov_inv @ mu)\n",
    "    tangent_return = scaling*(cov_inv @ mu) \n",
    "    tangency_wts = pd.DataFrame(index = returns.columns[0:], data = tangent_return, columns = ['Tangent Weights'] )\n",
    "        \n",
    "    return tangency_wts"
   ]
  },
  {
   "cell_type": "code",
   "execution_count": 152,
   "id": "602d3082",
   "metadata": {},
   "outputs": [
    {
     "data": {
      "text/html": [
       "<div>\n",
       "<style scoped>\n",
       "    .dataframe tbody tr th:only-of-type {\n",
       "        vertical-align: middle;\n",
       "    }\n",
       "\n",
       "    .dataframe tbody tr th {\n",
       "        vertical-align: top;\n",
       "    }\n",
       "\n",
       "    .dataframe thead th {\n",
       "        text-align: right;\n",
       "    }\n",
       "</style>\n",
       "<table border=\"1\" class=\"dataframe\">\n",
       "  <thead>\n",
       "    <tr style=\"text-align: right;\">\n",
       "      <th></th>\n",
       "      <th>Tangent Weights</th>\n",
       "    </tr>\n",
       "  </thead>\n",
       "  <tbody>\n",
       "    <tr>\n",
       "      <th>SPY</th>\n",
       "      <td>0.8576</td>\n",
       "    </tr>\n",
       "    <tr>\n",
       "      <th>BTC</th>\n",
       "      <td>0.1417</td>\n",
       "    </tr>\n",
       "    <tr>\n",
       "      <th>USO</th>\n",
       "      <td>-0.0431</td>\n",
       "    </tr>\n",
       "    <tr>\n",
       "      <th>TLT</th>\n",
       "      <td>-0.0405</td>\n",
       "    </tr>\n",
       "    <tr>\n",
       "      <th>IEF</th>\n",
       "      <td>0.1674</td>\n",
       "    </tr>\n",
       "    <tr>\n",
       "      <th>IYR</th>\n",
       "      <td>-0.4408</td>\n",
       "    </tr>\n",
       "    <tr>\n",
       "      <th>GLD</th>\n",
       "      <td>0.3577</td>\n",
       "    </tr>\n",
       "  </tbody>\n",
       "</table>\n",
       "</div>"
      ],
      "text/plain": [
       "     Tangent Weights\n",
       "SPY           0.8576\n",
       "BTC           0.1417\n",
       "USO          -0.0431\n",
       "TLT          -0.0405\n",
       "IEF           0.1674\n",
       "IYR          -0.4408\n",
       "GLD           0.3577"
      ]
     },
     "execution_count": 152,
     "metadata": {},
     "output_type": "execute_result"
    }
   ],
   "source": [
    "w_t = tangency_weights(portfolio)\n",
    "w_t"
   ]
  },
  {
   "cell_type": "code",
   "execution_count": 153,
   "id": "7b8cc8ff",
   "metadata": {},
   "outputs": [],
   "source": [
    "def gmv_weights(tot_returns):\n",
    "    \n",
    "    ones = np.ones(tot_returns.columns[0:].shape)\n",
    "    cov = tot_returns.cov()*12\n",
    "    cov_inv = np.linalg.inv(cov)\n",
    "    scaling = 1/(np.transpose(ones) @ cov_inv @ ones)\n",
    "    gmv_tot = scaling * cov_inv @ ones\n",
    "    gmv_wts = pd.DataFrame(index = tot_returns.columns[0:], data = gmv_tot, columns = ['GMV Weights'] )\n",
    "\n",
    "    \n",
    "    return gmv_wts\n"
   ]
  },
  {
   "cell_type": "code",
   "execution_count": 154,
   "id": "e2e75a82",
   "metadata": {},
   "outputs": [],
   "source": [
    "def mv_portfolio(target_ret, tot_returns):\n",
    "    \n",
    "    mu_tan = tot_returns.mean() @ tangency_weights(tot_returns, cov_mat = 1)\n",
    "    mu_gmv = tot_returns.mean() @ gmv_weights(tot_returns)\n",
    "    \n",
    "    delta = (target_ret - mu_gmv[0])/(mu_tan[0] - mu_gmv[0])\n",
    "    mv_weights = (delta * tangency_weights(tot_returns, cov_mat = 1)).values + ((1-delta)*gmv_weights(tot_returns)).values\n",
    "    \n",
    "    MV = pd.DataFrame(index = tot_returns.columns[0:], data = mv_weights, columns = ['MV Weights'] )\n",
    "    MV['tangency weights'] =  tangency_weights(tot_returns, cov_mat = 1).values\n",
    "    MV['GMV weights'] =   gmv_weights(tot_returns).values\n",
    "\n",
    "\n",
    "    return MV"
   ]
  },
  {
   "cell_type": "code",
   "execution_count": 155,
   "id": "5da8cdd8",
   "metadata": {},
   "outputs": [
    {
     "data": {
      "text/html": [
       "<div>\n",
       "<style scoped>\n",
       "    .dataframe tbody tr th:only-of-type {\n",
       "        vertical-align: middle;\n",
       "    }\n",
       "\n",
       "    .dataframe tbody tr th {\n",
       "        vertical-align: top;\n",
       "    }\n",
       "\n",
       "    .dataframe thead th {\n",
       "        text-align: right;\n",
       "    }\n",
       "</style>\n",
       "<table border=\"1\" class=\"dataframe\">\n",
       "  <thead>\n",
       "    <tr style=\"text-align: right;\">\n",
       "      <th></th>\n",
       "      <th>MV Weights</th>\n",
       "      <th>tangency weights</th>\n",
       "      <th>GMV weights</th>\n",
       "    </tr>\n",
       "  </thead>\n",
       "  <tbody>\n",
       "    <tr>\n",
       "      <th>SPY</th>\n",
       "      <td>0.4990</td>\n",
       "      <td>0.8576</td>\n",
       "      <td>0.0921</td>\n",
       "    </tr>\n",
       "    <tr>\n",
       "      <th>BTC</th>\n",
       "      <td>0.0749</td>\n",
       "      <td>0.1417</td>\n",
       "      <td>-0.0010</td>\n",
       "    </tr>\n",
       "    <tr>\n",
       "      <th>USO</th>\n",
       "      <td>-0.0216</td>\n",
       "      <td>-0.0431</td>\n",
       "      <td>0.0027</td>\n",
       "    </tr>\n",
       "    <tr>\n",
       "      <th>TLT</th>\n",
       "      <td>-0.2450</td>\n",
       "      <td>-0.0405</td>\n",
       "      <td>-0.4770</td>\n",
       "    </tr>\n",
       "    <tr>\n",
       "      <th>IEF</th>\n",
       "      <td>0.7575</td>\n",
       "      <td>0.1674</td>\n",
       "      <td>1.4270</td>\n",
       "    </tr>\n",
       "    <tr>\n",
       "      <th>IYR</th>\n",
       "      <td>-0.2536</td>\n",
       "      <td>-0.4408</td>\n",
       "      <td>-0.0411</td>\n",
       "    </tr>\n",
       "    <tr>\n",
       "      <th>GLD</th>\n",
       "      <td>0.1888</td>\n",
       "      <td>0.3577</td>\n",
       "      <td>-0.0028</td>\n",
       "    </tr>\n",
       "  </tbody>\n",
       "</table>\n",
       "</div>"
      ],
      "text/plain": [
       "     MV Weights  tangency weights  GMV weights\n",
       "SPY      0.4990            0.8576       0.0921\n",
       "BTC      0.0749            0.1417      -0.0010\n",
       "USO     -0.0216           -0.0431       0.0027\n",
       "TLT     -0.2450           -0.0405      -0.4770\n",
       "IEF      0.7575            0.1674       1.4270\n",
       "IYR     -0.2536           -0.4408      -0.0411\n",
       "GLD      0.1888            0.3577      -0.0028"
      ]
     },
     "execution_count": 155,
     "metadata": {},
     "output_type": "execute_result"
    }
   ],
   "source": [
    "mv_portfolio(0.0025, portfolio)"
   ]
  },
  {
   "cell_type": "markdown",
   "id": "59976b89",
   "metadata": {},
   "source": [
    "### 3.\n",
    "\n",
    "Conceptually, what is the difference between the portfolios in part 1 and part 2?\n",
    "\n",
    "Mathematically, what is the difference in their optimizations?"
   ]
  },
  {
   "cell_type": "markdown",
   "id": "0bffb1f0",
   "metadata": {},
   "source": [
    "\n",
    "MV Weights: These weights represent the allocations in a Mean-Variance (MV) portfolio, which aims to find the balance between risk and return while maximizing return for a given level of risk.\n",
    "\n",
    "Tangency Weights: These weights are for a Tangency Portfolio, which focuses on maximizing the Sharpe ratio. It allocates assets to optimize the risk-adjusted return.\n",
    "\n",
    "GMV Weights: These weights correspond to a Global Minimum Variance (GMV) portfolio, which seeks to minimize portfolio risk (volatility) without explicitly targeting returns. It prioritizes assets with low correlation to reduce overall portfolio risk.\n",
    "\n",
    "\n",
    "Part 1 - Excess Returns:\n",
    "\n",
    "Tangency Portfolio: This portfolio aims to maximize the risk-adjusted return, specifically the Sharpe ratio. It considers the trade-off between risk (measured by the portfolio's volatility) and return (measured by the expected excess return). The tangency portfolio seeks to find the allocation that provides the highest Sharpe ratio.\n",
    "MV Portfolio with Mean Weekly Return of 0.0025: This portfolio has a specific target return of 0.0025 (weekly), and it aims to find the allocation that achieves this target return while minimizing risk. It does not necessarily maximize the Sharpe ratio, but it seeks to meet the specified return requirement.\n",
    "\n",
    "Part 2 - Total Returns:\n",
    "\n",
    "GMV Portfolio: The Global Minimum Variance (GMV) portfolio aims to minimize the portfolio's overall risk (volatility) without considering returns. It seeks to find the allocation that provides the lowest possible risk among all possible portfolios.\n",
    "MV Portfolio with Mean Weekly Return of 0.0025: Similar to Part 1, this portfolio also has a specific target return of 0.0025 (weekly), but it aims to find the allocation that achieves this target return while balancing risk. It takes into account the trade-off between risk and return.\n",
    "Mathematically, the optimizations for these portfolios differ in their objective functions and constraints:\n",
    "\n",
    "Tangency Portfolio (Part 1 - Excess Returns):\n",
    "\n",
    "Objective Function: Maximize the Sharpe ratio, which is defined as (expected excess return / portfolio volatility).\n",
    "Constraint: The weights must sum up to 1.\n",
    "MV Portfolio with Target Return (Part 1 - Excess Returns):\n",
    "\n",
    "Objective Function: Find the portfolio weights that meet the specified target return while minimizing risk (portfolio volatility).\n",
    "Constraint: The weights must sum up to 1, and the expected portfolio return should equal the specified target return.\n",
    "\n",
    "GMV Portfolio (Part 2 - Total Returns):\n",
    "\n",
    "Objective Function: Minimize portfolio risk (portfolio volatility).\n",
    "Constraint: The weights must sum up to 1.\n",
    "MV Portfolio with Target Return (Part 2 - Total Returns):\n",
    "\n",
    "Objective Function: Find the portfolio weights that meet the specified target return while balancing risk (portfolio volatility).\n",
    "Constraint: The weights must sum up to 1, and the expected portfolio return should equal the specified target return.\n",
    "\n",
    "SPY: In the MV and Tangency portfolios, SPY has a relatively high allocation, suggesting that it's expected to provide a higher return relative to risk in these portfolios. In contrast, the GMV portfolio allocates a much smaller weight to SPY, focusing on risk reduction.\n",
    "\n",
    "BTC: MV and Tangency portfolios allocate a moderate weight to BTC, indicating its potential for return. However, the GMV portfolio allocates a negligible weight to BTC, prioritizing lower-risk assets.\n",
    "\n",
    "USO: MV, Tangency, and GMV portfolios allocate varying weights to USO. The GMV portfolio allocates a slightly higher weight to USO compared to the other two portfolios.\n",
    "\n",
    "TLT: In all portfolios, TLT has relatively lower allocations. The GMV portfolio allocates the lowest weight to TLT, emphasizing risk reduction.\n",
    "\n",
    "IEF: IEF receives a significant allocation in the GMV portfolio, suggesting it is considered a low-risk asset. In contrast, the MV and Tangency portfolios allocate less to IEF.\n",
    "\n",
    "IYR: IYR has a negative allocation in both the Tangency and GMV portfolios, indicating these portfolios might short or underweight this asset. In contrast, it has a positive allocation in the MV portfolio.\n",
    "\n",
    "GLD: GLD receives moderate allocations in both the MV and Tangency portfolios. However, the GMV portfolio allocates a negligible weight to GLD, focusing on risk reduction.\n",
    "\n",
    "In summary, the differences in portfolio weights reflect the distinct objectives of each portfolio strategy. The MV portfolio seeks a balance between risk and return, the Tangency portfolio maximizes the risk-adjusted return, and the GMV portfolio prioritizes risk reduction. These differences lead to varying allocations to different assets based on their expected risk and return profiles."
   ]
  },
  {
   "cell_type": "markdown",
   "id": "140cbca4",
   "metadata": {},
   "source": [
    "### 4.\n",
    "\n",
    "#### (10pts)\n",
    "\n",
    "Consider the following:\n",
    "* drop `BTC` from the sample\n",
    "* target a weekly mean return of `.0025`.\n",
    "* assume once again that the provided data is **excess** returns.\n",
    "\n",
    "Using data only through 2021, \n",
    "* calculate the tangency weights\n",
    "* compute the performance of this tangency portfolio in the out-of-sample (OOS) period of 2022-2023.\n",
    "\n",
    "Report the\n",
    "* mean\n",
    "* vol\n",
    "* Sharpe\n",
    "\n",
    "Compare these three metrics with the equally-weighted portfolio for 2022-2023."
   ]
  },
  {
   "cell_type": "code",
   "execution_count": 301,
   "id": "8bf48d34",
   "metadata": {},
   "outputs": [],
   "source": [
    "portfolio_new = portfolio.drop(['BTC'], axis=1)\n",
    "\n",
    "excess_returns_IS = portfolio_new[:'2021'].reset_index()\n",
    "excess_returns_OOS = portfolio_new['2022':].reset_index()\n",
    "\n",
    "\n",
    "excess_returns_in_sample = excess_returns_IS[excess_returns_IS.columns[1:]] \n",
    "excess_returns_out_of_sample = excess_returns_OOS[excess_returns_OOS.columns[1:]] "
   ]
  },
  {
   "cell_type": "code",
   "execution_count": 297,
   "id": "fc1d0813",
   "metadata": {},
   "outputs": [
    {
     "data": {
      "text/html": [
       "<div>\n",
       "<style scoped>\n",
       "    .dataframe tbody tr th:only-of-type {\n",
       "        vertical-align: middle;\n",
       "    }\n",
       "\n",
       "    .dataframe tbody tr th {\n",
       "        vertical-align: top;\n",
       "    }\n",
       "\n",
       "    .dataframe thead th {\n",
       "        text-align: right;\n",
       "    }\n",
       "</style>\n",
       "<table border=\"1\" class=\"dataframe\">\n",
       "  <thead>\n",
       "    <tr style=\"text-align: right;\">\n",
       "      <th></th>\n",
       "      <th>tangency with BTC dropped</th>\n",
       "      <th>equal weights</th>\n",
       "    </tr>\n",
       "  </thead>\n",
       "  <tbody>\n",
       "    <tr>\n",
       "      <th>SPY</th>\n",
       "      <td>0.8151</td>\n",
       "      <td>0.2424</td>\n",
       "    </tr>\n",
       "    <tr>\n",
       "      <th>USO</th>\n",
       "      <td>-0.0292</td>\n",
       "      <td>0.2424</td>\n",
       "    </tr>\n",
       "    <tr>\n",
       "      <th>TLT</th>\n",
       "      <td>0.0103</td>\n",
       "      <td>0.2424</td>\n",
       "    </tr>\n",
       "    <tr>\n",
       "      <th>IEF</th>\n",
       "      <td>0.0599</td>\n",
       "      <td>0.2424</td>\n",
       "    </tr>\n",
       "    <tr>\n",
       "      <th>IYR</th>\n",
       "      <td>-0.4037</td>\n",
       "      <td>0.2424</td>\n",
       "    </tr>\n",
       "    <tr>\n",
       "      <th>GLD</th>\n",
       "      <td>0.3829</td>\n",
       "      <td>0.2424</td>\n",
       "    </tr>\n",
       "  </tbody>\n",
       "</table>\n",
       "</div>"
      ],
      "text/plain": [
       "    tangency with BTC dropped equal weights\n",
       "SPY                    0.8151        0.2424\n",
       "USO                   -0.0292        0.2424\n",
       "TLT                    0.0103        0.2424\n",
       "IEF                    0.0599        0.2424\n",
       "IYR                   -0.4037        0.2424\n",
       "GLD                    0.3829        0.2424"
      ]
     },
     "execution_count": 297,
     "metadata": {},
     "output_type": "execute_result"
    }
   ],
   "source": [
    "target_mean = 0.0025\n",
    "wts_IS = pd.DataFrame(index = excess_returns_IS.columns[1:], columns = ['tangency with BTC dropped'\n",
    "                                                                        ,'equal weights'])\n",
    "IS_tangency_weights_wo_TIPS = tangency_weights(portfolio_new , cov_mat = 1)\n",
    "wts_IS.loc[:,'tangency with BTC dropped'] = IS_tangency_weights_wo_TIPS.values\n",
    "wts_IS.loc[:,'equal weights'] = 1/len(excess_returns_in_sample)\n",
    "\n",
    "\n",
    "wts_IS *= target_mean / (excess_returns_IS.mean().iloc[1:] @ wts_IS)\n",
    "wts_IS"
   ]
  },
  {
   "cell_type": "code",
   "execution_count": 298,
   "id": "5a5c9e4f",
   "metadata": {},
   "outputs": [],
   "source": [
    "def performance(return_data, period = 52):\n",
    "    \"\"\" \n",
    "        Returns the Performance Stats for given set of returns\n",
    "        Inputs: \n",
    "            return_data - DataFrame with Date index and Monthly Returns for different assets/strategies.\n",
    "        Output:\n",
    "            summary_stats - DataFrame with annualized mean return, vol, sharpe ratio. Skewness, Excess Kurtosis, Var (0.5) and\n",
    "                            CVaR (0.5) and drawdown based on monthly returns. \n",
    "    \"\"\"\n",
    "    summary_stats = return_data.mean().to_frame('Mean').apply(lambda x: x*period)\n",
    "    summary_stats['Volatility'] = return_data.std().apply(lambda x: x*np.sqrt(period))\n",
    "    summary_stats['Sharpe Ratio'] = summary_stats['Mean']/summary_stats['Volatility']\n",
    "    summary_stats['Skewness'] = return_data.skew()\n",
    "    summary_stats['Excess Kurtosis'] = return_data.kurtosis()\n",
    "    summary_stats['VaR (0.05)'] = return_data.quantile(.05, axis = 0)\n",
    "    summary_stats['CVaR (0.05)'] = return_data[return_data <= return_data.quantile(.05, axis = 0)].mean()\n",
    "    summary_stats['Min'] = return_data.min()\n",
    "    summary_stats['Max'] = return_data.max()\n",
    "    \n",
    "    return summary_stats"
   ]
  },
  {
   "cell_type": "code",
   "execution_count": 299,
   "id": "5a8ab6b5",
   "metadata": {},
   "outputs": [
    {
     "data": {
      "text/html": [
       "<div>\n",
       "<style scoped>\n",
       "    .dataframe tbody tr th:only-of-type {\n",
       "        vertical-align: middle;\n",
       "    }\n",
       "\n",
       "    .dataframe tbody tr th {\n",
       "        vertical-align: top;\n",
       "    }\n",
       "\n",
       "    .dataframe thead th {\n",
       "        text-align: right;\n",
       "    }\n",
       "</style>\n",
       "<table border=\"1\" class=\"dataframe\">\n",
       "  <thead>\n",
       "    <tr style=\"text-align: right;\">\n",
       "      <th></th>\n",
       "      <th>Mean</th>\n",
       "      <th>Volatility</th>\n",
       "      <th>Sharpe Ratio</th>\n",
       "      <th>Skewness</th>\n",
       "      <th>Excess Kurtosis</th>\n",
       "      <th>VaR (0.05)</th>\n",
       "      <th>CVaR (0.05)</th>\n",
       "      <th>Min</th>\n",
       "      <th>Max</th>\n",
       "    </tr>\n",
       "  </thead>\n",
       "  <tbody>\n",
       "    <tr>\n",
       "      <th>tangency with BTC dropped</th>\n",
       "      <td>0.1143</td>\n",
       "      <td>0.1025</td>\n",
       "      <td>1.1144</td>\n",
       "      <td>0.0318</td>\n",
       "      <td>2.1928</td>\n",
       "      <td>-0.0211</td>\n",
       "      <td>-0.0289</td>\n",
       "      <td>-0.0626</td>\n",
       "      <td>0.0591</td>\n",
       "    </tr>\n",
       "    <tr>\n",
       "      <th>equal weights</th>\n",
       "      <td>0.0960</td>\n",
       "      <td>0.1708</td>\n",
       "      <td>0.5621</td>\n",
       "      <td>-1.5905</td>\n",
       "      <td>9.7415</td>\n",
       "      <td>-0.0331</td>\n",
       "      <td>-0.0585</td>\n",
       "      <td>-0.1590</td>\n",
       "      <td>0.0800</td>\n",
       "    </tr>\n",
       "  </tbody>\n",
       "</table>\n",
       "</div>"
      ],
      "text/plain": [
       "                            Mean  Volatility Sharpe Ratio Skewness  \\\n",
       "tangency with BTC dropped 0.1143      0.1025       1.1144   0.0318   \n",
       "equal weights             0.0960      0.1708       0.5621  -1.5905   \n",
       "\n",
       "                          Excess Kurtosis VaR (0.05) CVaR (0.05)     Min  \\\n",
       "tangency with BTC dropped          2.1928    -0.0211     -0.0289 -0.0626   \n",
       "equal weights                      9.7415    -0.0331     -0.0585 -0.1590   \n",
       "\n",
       "                             Max  \n",
       "tangency with BTC dropped 0.0591  \n",
       "equal weights             0.0800  "
      ]
     },
     "execution_count": 299,
     "metadata": {},
     "output_type": "execute_result"
    }
   ],
   "source": [
    "performance(portfolio_new @ wts_IS)"
   ]
  },
  {
   "cell_type": "markdown",
   "id": "623482ab",
   "metadata": {},
   "source": [
    "### The data is annualized from weekly to annually "
   ]
  },
  {
   "cell_type": "markdown",
   "id": "829ba75e",
   "metadata": {},
   "source": [
    "***"
   ]
  },
  {
   "cell_type": "markdown",
   "id": "3d666942",
   "metadata": {},
   "source": [
    "# 3.\n",
    "\n",
    "Forecast (total) returns on gold as tracked by the ETF ticker, $\\targ$. This ETF holds crude oil.\n",
    "\n",
    "As signals, use two interest rate signals, as seen in Treasury-notes. (No need to consider anything specific about Treasury notes, just read these as macroeconomic signals.)\n",
    "* Tnote rate\n",
    "* month-over-month change in the Tnote rate\n",
    "\n",
    "Find the all data needed for this problem in the sheet `forecasting`."
   ]
  },
  {
   "cell_type": "markdown",
   "id": "2a7d9d6a",
   "metadata": {},
   "source": [
    "### 1.\n",
    "\n",
    "Estimate a forecasting regression of $\\targ$ on the two (lagged) signals.\n",
    "\n",
    "$$r_{t+1}^\\targ = \\alpha + \\beta^{x}x_t + \\beta^z z_t + \\epsilon_{t+1}$$\n",
    "\n",
    "where\n",
    "* $x$ denotes the interest-rate signal.\n",
    "* $z$ denotes the change in rate signal.\n",
    "\n",
    "Report the r-squared, as well as the OLS estimates for the intercept and the two betas. (No need to annualize the stats.)"
   ]
  },
  {
   "cell_type": "code",
   "execution_count": 267,
   "id": "e15741f1",
   "metadata": {},
   "outputs": [],
   "source": [
    "def regression_based_performance(factor,fund_ret,rf,constant = True,annualization = 12):\n",
    "    \"\"\" \n",
    "        Returns the Regression based performance Stats for given set of returns and factors\n",
    "        Inputs:\n",
    "            factor - Dataframe containing monthly returns of the regressors\n",
    "            fund_ret - Dataframe containing monthly excess returns of the regressand fund\n",
    "            rf - Monthly risk free rate of return\n",
    "        Output:\n",
    "            summary_stats - (Beta of regression, treynor ratio, information ratio, alpha). \n",
    "    \"\"\"\n",
    "    if constant:\n",
    "        X = sm.tools.add_constant(factor)\n",
    "    else:\n",
    "        X = factor\n",
    "    y=fund_ret\n",
    "    model = sm.OLS(y,X,missing='drop').fit()\n",
    "    \n",
    "    if constant:\n",
    "        beta = model.params[1:]\n",
    "        alpha = round(float(model.params['const']),6)\n",
    "        \n",
    "    else:\n",
    "        beta = model.params\n",
    "    treynor_ratio = ((fund_ret.values-rf).mean()*annualization)/beta[0]\n",
    "    tracking_error = (model.resid.std()*np.sqrt(annualization))\n",
    "    if constant:        \n",
    "        information_ratio = model.params[0]*annualization/tracking_error\n",
    "    r_squared = model.rsquared\n",
    "    if constant:\n",
    "        return (beta,treynor_ratio,information_ratio,alpha,r_squared,tracking_error)\n",
    "    else:\n",
    "        return (beta,treynor_ratio,r_squared,tracking_error)"
   ]
  },
  {
   "cell_type": "code",
   "execution_count": 268,
   "id": "88021d3b",
   "metadata": {},
   "outputs": [],
   "source": [
    "def rolling_regression_param(factor,fund_ret,roll_window = 60):\n",
    "    \"\"\" \n",
    "        Returns the Rolling Regression parameters for given set of returns and factors\n",
    "        Inputs:\n",
    "            factor - Dataframe containing monthly returns of the regressors\n",
    "            fund_ret - Dataframe containing monthly excess returns of the regressand fund\n",
    "            roll_window = rolling window for regression\n",
    "        Output:\n",
    "            params - Dataframe with time-t as the index and constant and Betas as columns\n",
    "    \"\"\"\n",
    "    X = sm.add_constant(factor)\n",
    "    y= fund_ret\n",
    "    rols = RollingOLS(y, X, window=roll_window)\n",
    "    rres = rols.fit()\n",
    "    params = rres.params.copy()\n",
    "    params.index = np.arange(1, params.shape[0] + 1)\n",
    "    return params\n",
    "    "
   ]
  },
  {
   "cell_type": "code",
   "execution_count": 269,
   "id": "c0d87450",
   "metadata": {},
   "outputs": [],
   "source": [
    "def calc_probability_lowret(num_years,mean_ret_check,mean_ret,vol):\n",
    "        \"\"\" \n",
    "        Returns the Probability that the cumulative market return will fall short of the cumulative\n",
    "        risk-free return for each period\n",
    "        Inputs: \n",
    "            mean - annualized mean returns of market for a period.\n",
    "            vol - annualized volatility of returns for a period\n",
    "            num_years - Number of years to calculate\n",
    "        Output:\n",
    "            probability - DataFrame with probability for each period (step = 1)\n",
    "        \"\"\"\n",
    "        lst = []\n",
    "        for n in range (0,num_years+1,1):\n",
    "            norm_val = np.sqrt(n)*(mean_ret_check - mean_ret)/(vol)\n",
    "            prob = (norm.cdf(norm_val))*100\n",
    "            lst.append(pd.DataFrame([[n,prob]],columns=['Time','Probability(%)']))\n",
    "        probability = pd.concat(lst)\n",
    "        return probability"
   ]
  },
  {
   "cell_type": "code",
   "execution_count": 270,
   "id": "978e16b5",
   "metadata": {},
   "outputs": [
    {
     "data": {
      "text/html": [
       "<div>\n",
       "<style scoped>\n",
       "    .dataframe tbody tr th:only-of-type {\n",
       "        vertical-align: middle;\n",
       "    }\n",
       "\n",
       "    .dataframe tbody tr th {\n",
       "        vertical-align: top;\n",
       "    }\n",
       "\n",
       "    .dataframe thead th {\n",
       "        text-align: right;\n",
       "    }\n",
       "</style>\n",
       "<table border=\"1\" class=\"dataframe\">\n",
       "  <thead>\n",
       "    <tr style=\"text-align: right;\">\n",
       "      <th></th>\n",
       "      <th>Tnote rate-Beta</th>\n",
       "      <th>Tnote rate change-Beta</th>\n",
       "      <th>Alpha</th>\n",
       "      <th>R-Squared</th>\n",
       "    </tr>\n",
       "  </thead>\n",
       "  <tbody>\n",
       "    <tr>\n",
       "      <th>Tnote rate, Tnote rate change</th>\n",
       "      <td>-0.0096</td>\n",
       "      <td>0.0741</td>\n",
       "      <td>0.0201</td>\n",
       "      <td>0.0281</td>\n",
       "    </tr>\n",
       "  </tbody>\n",
       "</table>\n",
       "</div>"
      ],
      "text/plain": [
       "                               Tnote rate-Beta  Tnote rate change-Beta  Alpha  \\\n",
       "Tnote rate, Tnote rate change          -0.0096                  0.0741 0.0201   \n",
       "\n",
       "                               R-Squared  \n",
       "Tnote rate, Tnote rate change     0.0281  "
      ]
     },
     "execution_count": 270,
     "metadata": {},
     "output_type": "execute_result"
    }
   ],
   "source": [
    "fund_ret = forecasting.loc[:,['USO']]\n",
    "signal = ['Tnote rate','Tnote rate change']\n",
    "\n",
    "factor = forecasting.loc[:,signal].shift(1)\n",
    "reg = regression_based_performance(factor,fund_ret,0)\n",
    "reg_params = []\n",
    "columns=[]\n",
    "indexes = []\n",
    "if len(signal) > 1:\n",
    "        for ele in signal:\n",
    "            columns.append(ele+'-Beta')\n",
    "            indexes.append(ele)\n",
    "        index = ', '.join(map(str, indexes))\n",
    "else:\n",
    "    columns.append(str(signal[0]) + '-Beta')\n",
    "    index = signal[0]\n",
    "for i in range(len(signal)):\n",
    "    reg_params.append(reg[0][i])\n",
    "reg_params.append(reg[3]) #alpha\n",
    "reg_params.append(reg[4]) #r-squared\n",
    "\n",
    "lst_col= ['Alpha','R-Squared']\n",
    "for col in lst_col:\n",
    "    columns.append(col)\n",
    "gld_reg = pd.DataFrame([reg_params],columns=columns,index = [index])\n",
    "\n",
    "gld_reg"
   ]
  },
  {
   "cell_type": "markdown",
   "id": "23724c47",
   "metadata": {},
   "source": [
    "### 2.\n",
    "\n",
    "Use your forecasted returns, $\\hat{r}^{\\targ}_{t+1}$ to build trading weights:\n",
    "\n",
    "$$w_t = 0.50 + 50\\;\\hat{r}^{\\targ}_{t+1}$$\n",
    "\n",
    "(So the rule says to hold 50% in the ETF plus/minus 50x the forecast. Recall the forecast is a monthly percentage, so it is a small number.)\n",
    "\n",
    "Calculate the return from implementing this strategy. Denote this as $r^x_t$.\n",
    "\n",
    "Report the first and last 5 values."
   ]
  },
  {
   "cell_type": "code",
   "execution_count": 271,
   "id": "7b410b01",
   "metadata": {},
   "outputs": [],
   "source": [
    "forecasted_rets = (np.array(forecasting.shift(1).loc[:,['Tnote rate','Tnote rate change']]) @ np.array(gld_reg.loc[:,['Tnote rate-Beta','Tnote rate change-Beta']].T))\n",
    "forecast_rtn = (pd.DataFrame(forecasted_rets,columns = ['Forecasted Return'],index= forecasting.index)) \n",
    "forecast_rtn['Forecasted Return'] = (forecast_rtn['Forecasted Return'] + float(gld_reg['Alpha']))*50 + 0.5\n",
    "strat_rtn = pd.DataFrame(forecast_rtn['Forecasted Return'] *forecasting.loc[:,['USO']]['USO'], columns=forecast_rtn.columns, index=forecast_rtn.index).dropna()\n",
    "\n"
   ]
  },
  {
   "cell_type": "code",
   "execution_count": 272,
   "id": "7acb0819",
   "metadata": {},
   "outputs": [
    {
     "data": {
      "text/html": [
       "<div>\n",
       "<style scoped>\n",
       "    .dataframe tbody tr th:only-of-type {\n",
       "        vertical-align: middle;\n",
       "    }\n",
       "\n",
       "    .dataframe tbody tr th {\n",
       "        vertical-align: top;\n",
       "    }\n",
       "\n",
       "    .dataframe thead th {\n",
       "        text-align: right;\n",
       "    }\n",
       "</style>\n",
       "<table border=\"1\" class=\"dataframe\">\n",
       "  <thead>\n",
       "    <tr style=\"text-align: right;\">\n",
       "      <th></th>\n",
       "      <th>Forecasted Return</th>\n",
       "    </tr>\n",
       "    <tr>\n",
       "      <th>date</th>\n",
       "      <th></th>\n",
       "    </tr>\n",
       "  </thead>\n",
       "  <tbody>\n",
       "    <tr>\n",
       "      <th>2009-06-30</th>\n",
       "      <td>0.0467</td>\n",
       "    </tr>\n",
       "    <tr>\n",
       "      <th>2009-07-31</th>\n",
       "      <td>-0.0010</td>\n",
       "    </tr>\n",
       "    <tr>\n",
       "      <th>2009-08-31</th>\n",
       "      <td>0.0052</td>\n",
       "    </tr>\n",
       "    <tr>\n",
       "      <th>2009-09-30</th>\n",
       "      <td>-0.0019</td>\n",
       "    </tr>\n",
       "    <tr>\n",
       "      <th>2009-10-31</th>\n",
       "      <td>-0.0367</td>\n",
       "    </tr>\n",
       "  </tbody>\n",
       "</table>\n",
       "</div>"
      ],
      "text/plain": [
       "            Forecasted Return\n",
       "date                         \n",
       "2009-06-30             0.0467\n",
       "2009-07-31            -0.0010\n",
       "2009-08-31             0.0052\n",
       "2009-09-30            -0.0019\n",
       "2009-10-31            -0.0367"
      ]
     },
     "execution_count": 272,
     "metadata": {},
     "output_type": "execute_result"
    }
   ],
   "source": [
    "strat_rtn.head()"
   ]
  },
  {
   "cell_type": "code",
   "execution_count": 273,
   "id": "7f4f10fd",
   "metadata": {},
   "outputs": [
    {
     "data": {
      "text/html": [
       "<div>\n",
       "<style scoped>\n",
       "    .dataframe tbody tr th:only-of-type {\n",
       "        vertical-align: middle;\n",
       "    }\n",
       "\n",
       "    .dataframe tbody tr th {\n",
       "        vertical-align: top;\n",
       "    }\n",
       "\n",
       "    .dataframe thead th {\n",
       "        text-align: right;\n",
       "    }\n",
       "</style>\n",
       "<table border=\"1\" class=\"dataframe\">\n",
       "  <thead>\n",
       "    <tr style=\"text-align: right;\">\n",
       "      <th></th>\n",
       "      <th>Forecasted Return</th>\n",
       "    </tr>\n",
       "    <tr>\n",
       "      <th>date</th>\n",
       "      <th></th>\n",
       "    </tr>\n",
       "  </thead>\n",
       "  <tbody>\n",
       "    <tr>\n",
       "      <th>2023-07-31</th>\n",
       "      <td>0.0534</td>\n",
       "    </tr>\n",
       "    <tr>\n",
       "      <th>2023-08-31</th>\n",
       "      <td>0.0034</td>\n",
       "    </tr>\n",
       "    <tr>\n",
       "      <th>2023-09-30</th>\n",
       "      <td>0.0034</td>\n",
       "    </tr>\n",
       "    <tr>\n",
       "      <th>2023-10-31</th>\n",
       "      <td>-0.0791</td>\n",
       "    </tr>\n",
       "    <tr>\n",
       "      <th>2023-11-30</th>\n",
       "      <td>-0.0097</td>\n",
       "    </tr>\n",
       "  </tbody>\n",
       "</table>\n",
       "</div>"
      ],
      "text/plain": [
       "            Forecasted Return\n",
       "date                         \n",
       "2023-07-31             0.0534\n",
       "2023-08-31             0.0034\n",
       "2023-09-30             0.0034\n",
       "2023-10-31            -0.0791\n",
       "2023-11-30            -0.0097"
      ]
     },
     "execution_count": 273,
     "metadata": {},
     "output_type": "execute_result"
    }
   ],
   "source": [
    "strat_rtn.tail()"
   ]
  },
  {
   "cell_type": "markdown",
   "id": "e0085f68",
   "metadata": {},
   "source": [
    "### 3.\n",
    "\n",
    "Calculate the following (annualized) performance metrics for both the passive investment, $r^\\targ$, as well as the strategy implemented in the previous problem, $r^x$.\n",
    "\n",
    "* mean\n",
    "* volatility\n",
    "* max drawdown"
   ]
  },
  {
   "cell_type": "code",
   "execution_count": 274,
   "id": "626ff779",
   "metadata": {},
   "outputs": [],
   "source": [
    "def performance_summary(return_data, annualization = 12):\n",
    "    \"\"\" \n",
    "        Returns the Performance Stats for given set of returns\n",
    "        Inputs: \n",
    "            return_data - DataFrame with Date index and Monthly Returns for different assets/strategies.\n",
    "        Output:\n",
    "            summary_stats - DataFrame with annualized mean return, vol, sharpe ratio. Skewness, Excess Kurtosis, Var (0.5) and\n",
    "                            CVaR (0.5) and drawdown based on monthly returns. \n",
    "    \"\"\"\n",
    "    summary_stats = return_data.mean().to_frame('Mean').apply(lambda x: x*annualization)\n",
    "    summary_stats['Volatility'] = return_data.std().apply(lambda x: x*np.sqrt(annualization))\n",
    "    summary_stats['Sharpe Ratio'] = summary_stats['Mean']/summary_stats['Volatility']\n",
    "\n",
    "    summary_stats['Skewness'] = return_data.skew()\n",
    "    summary_stats['Excess Kurtosis'] = return_data.kurtosis()\n",
    "    summary_stats['VaR (0.05)'] = return_data.quantile(.05, axis = 0)\n",
    "    summary_stats['CVaR (0.05)'] = return_data[return_data <= return_data.quantile(.05, axis = 0)].mean()\n",
    "    \n",
    "    wealth_index = 1000*(1+return_data).cumprod()\n",
    "    previous_peaks = wealth_index.cummax()\n",
    "    drawdowns = (wealth_index - previous_peaks)/previous_peaks\n",
    "\n",
    "    summary_stats['Max Drawdown'] = drawdowns.min()\n",
    "    summary_stats['Peak'] = [previous_peaks[col][:drawdowns[col].idxmin()].idxmax() for col in previous_peaks.columns]\n",
    "    summary_stats['Bottom'] = drawdowns.idxmin()\n",
    "    \n",
    "    recovery_date = []\n",
    "    for col in wealth_index.columns:\n",
    "        prev_max = previous_peaks[col][:drawdowns[col].idxmin()].max()\n",
    "        recovery_wealth = pd.DataFrame([wealth_index[col][drawdowns[col].idxmin():]]).T\n",
    "        recovery_date.append(recovery_wealth[recovery_wealth[col] >= prev_max].index.min())\n",
    "    summary_stats['Recovery'] = recovery_date\n",
    "    \n",
    "    return summary_stats"
   ]
  },
  {
   "cell_type": "code",
   "execution_count": 275,
   "id": "e45bbf9e",
   "metadata": {},
   "outputs": [
    {
     "data": {
      "text/html": [
       "<div>\n",
       "<style scoped>\n",
       "    .dataframe tbody tr th:only-of-type {\n",
       "        vertical-align: middle;\n",
       "    }\n",
       "\n",
       "    .dataframe tbody tr th {\n",
       "        vertical-align: top;\n",
       "    }\n",
       "\n",
       "    .dataframe thead th {\n",
       "        text-align: right;\n",
       "    }\n",
       "</style>\n",
       "<table border=\"1\" class=\"dataframe\">\n",
       "  <thead>\n",
       "    <tr style=\"text-align: right;\">\n",
       "      <th></th>\n",
       "      <th>Mean</th>\n",
       "      <th>Volatility</th>\n",
       "      <th>Sharpe Ratio</th>\n",
       "      <th>Max Drawdown</th>\n",
       "    </tr>\n",
       "  </thead>\n",
       "  <tbody>\n",
       "    <tr>\n",
       "      <th>Forecasted Return</th>\n",
       "      <td>0.1684</td>\n",
       "      <td>0.3066</td>\n",
       "      <td>0.5494</td>\n",
       "      <td>-0.6532</td>\n",
       "    </tr>\n",
       "    <tr>\n",
       "      <th>USO</th>\n",
       "      <td>-0.0230</td>\n",
       "      <td>0.3565</td>\n",
       "      <td>-0.0644</td>\n",
       "      <td>-0.9471</td>\n",
       "    </tr>\n",
       "  </tbody>\n",
       "</table>\n",
       "</div>"
      ],
      "text/plain": [
       "                     Mean  Volatility  Sharpe Ratio  Max Drawdown\n",
       "Forecasted Return  0.1684      0.3066        0.5494       -0.6532\n",
       "USO               -0.0230      0.3565       -0.0644       -0.9471"
      ]
     },
     "execution_count": 275,
     "metadata": {},
     "output_type": "execute_result"
    }
   ],
   "source": [
    "strat_rtn = strat_rtn.merge(forecasting[['USO']], left_index = True, right_index = True)\n",
    "forecast_summary = performance_summary(strat_rtn, annualization=12)\n",
    "forecast_summary.loc[:,['Mean','Volatility','Sharpe Ratio','Max Drawdown']]"
   ]
  },
  {
   "cell_type": "markdown",
   "id": "58ed3942",
   "metadata": {},
   "source": [
    "### 4.\n",
    "\n",
    "#### (7pts)\n",
    "\n",
    "\n",
    "Suppose we are assessing the returns to this active strategy, $r^x$, without knowing how it is generated. \n",
    "\n",
    "Use a regression (with an intercept) to report the optimal hedge ratio of passive $\\targ$ to this active strategy. \n",
    "\n",
    "* Report the hedge ratio, being clear about whether you are going long or short $\\targ$ in order to hedge.\n",
    "\n",
    "* What is the mean return of the hedged active strategy?"
   ]
  },
  {
   "cell_type": "code",
   "execution_count": 276,
   "id": "eb9a7ef4",
   "metadata": {},
   "outputs": [
    {
     "name": "stdout",
     "output_type": "stream",
     "text": [
      "Hedge Ratio (Beta): 0.23539390790429474\n",
      "Mean Return of Hedged Active Strategy: 0.1738506548067309\n"
     ]
    }
   ],
   "source": [
    "betas, treynor, alpha, r_squared, tracking_er_vol, _ = regression_based_performance(strat_rtn['USO'],strat_rtn['Forecasted Return'],0)\n",
    "rx_hedged = strat_rtn['Forecasted Return'] - beta * strat_rtn['USO']\n",
    "mean_return_hedged = rx_hedged.mean() * 12\n",
    "print(\"Hedge Ratio (Beta):\", beta)\n",
    "print(\"Mean Return of Hedged Active Strategy:\", mean_return_hedged)"
   ]
  },
  {
   "cell_type": "markdown",
   "id": "8d7ae67f",
   "metadata": {},
   "source": [
    "### 5.\n",
    "\n",
    "#### (8pts)\n",
    "\n",
    "For the rest of the problem, consider the out-of-sample (OOS) performance of the strategy.\n",
    "\n",
    "Forecast values of $\\targ$ for January 2018 through Dec 2023. (So we are using the data up until January 2018 as “burn-in” data.)\n",
    "* Loop through time, estimating the forecast only using data through time $t$.\n",
    "* At each step, calculate the next OOS forecast, $\\hat{r}^{\\targ}_{t+1}$.\n",
    "\n",
    "Report the first and last 5 values of your OOS forecast, $\\hat{r}^{\\targ}_{t+1}$."
   ]
  },
  {
   "cell_type": "code",
   "execution_count": 277,
   "id": "0ef1e639",
   "metadata": {},
   "outputs": [],
   "source": [
    "def OOS_forecasting(df, factors, start):\n",
    "    y = df\n",
    "    X = sm.add_constant(factors)\n",
    "\n",
    "    forecast_err, null_err,oos_predictions,null_predictions = [], [],[],[]\n",
    "\n",
    "    for i,j in enumerate(df.index):\n",
    "        if i >= start:\n",
    "            currX = X.iloc[:i]\n",
    "            currY = y.iloc[:i]\n",
    "            reg = sm.OLS(currY, currX, missing = 'drop').fit()\n",
    "            null_forecast = currY.mean()\n",
    "            reg_predict = reg.predict(X.iloc[[i]])\n",
    "            actual = y.iloc[[i]]\n",
    "            oos_predictions.append(reg_predict.T)\n",
    "            null_predictions.append(pd.DataFrame([[reg_predict.index[0]]], columns = ['Date'], index = [null_forecast]))\n",
    "            forecast_err.append(reg_predict.values - actual)\n",
    "            null_err.append(null_forecast.values - actual)\n",
    "            \n",
    "    RSS = (np.array(forecast_err)**2).sum()\n",
    "    TSS = (np.array(null_err)**2).sum()\n",
    "    predictions_df = pd.concat(oos_predictions).T.drop_duplicates()\n",
    "    null_predictions_df = pd.concat(null_predictions).T\n",
    "    \n",
    "    return ((1 - RSS/TSS),reg,predictions_df,null_predictions_df)"
   ]
  },
  {
   "cell_type": "code",
   "execution_count": 278,
   "id": "bc4d924a",
   "metadata": {},
   "outputs": [],
   "source": [
    "factor = forecasting.loc[:,['Tnote rate','Tnote rate change']].shift(1).dropna()\n",
    "fund_ret = forecasting.loc[factor.index[0]:,['USO']]\n",
    "OOS_reg = OOS_forecasting(fund_ret,factor,forecasting.loc[:'2017'].shape[0])\n",
    "OOS_r2  = OOS_reg[0]\n",
    "OOS_r2 = pd.DataFrame([[OOS_r2]], columns = ['R-Squared'], index = ['OOS Forecasting'])\n",
    "OOS_reg_params = OOS_reg[1]\n",
    "OOS_reg_predictions = OOS_reg[2].to_frame('OOS Forecasts').drop_duplicates()\n",
    "baseline_predictions = OOS_reg[3].T.reset_index().set_index('Date').rename(columns = {'level_0':'Baseline Forecasts'})"
   ]
  },
  {
   "cell_type": "code",
   "execution_count": 279,
   "id": "e444c5f4",
   "metadata": {},
   "outputs": [
    {
     "data": {
      "text/html": [
       "<div>\n",
       "<style scoped>\n",
       "    .dataframe tbody tr th:only-of-type {\n",
       "        vertical-align: middle;\n",
       "    }\n",
       "\n",
       "    .dataframe tbody tr th {\n",
       "        vertical-align: top;\n",
       "    }\n",
       "\n",
       "    .dataframe thead th {\n",
       "        text-align: right;\n",
       "    }\n",
       "</style>\n",
       "<table border=\"1\" class=\"dataframe\">\n",
       "  <thead>\n",
       "    <tr style=\"text-align: right;\">\n",
       "      <th></th>\n",
       "      <th>OOS Forecasts</th>\n",
       "    </tr>\n",
       "    <tr>\n",
       "      <th>date</th>\n",
       "      <th></th>\n",
       "    </tr>\n",
       "  </thead>\n",
       "  <tbody>\n",
       "    <tr>\n",
       "      <th>2018-02-28</th>\n",
       "      <td>0.0022</td>\n",
       "    </tr>\n",
       "    <tr>\n",
       "      <th>2018-03-31</th>\n",
       "      <td>-0.0051</td>\n",
       "    </tr>\n",
       "    <tr>\n",
       "      <th>2018-04-30</th>\n",
       "      <td>-0.0120</td>\n",
       "    </tr>\n",
       "    <tr>\n",
       "      <th>2018-05-31</th>\n",
       "      <td>-0.0023</td>\n",
       "    </tr>\n",
       "    <tr>\n",
       "      <th>2018-06-30</th>\n",
       "      <td>-0.0110</td>\n",
       "    </tr>\n",
       "  </tbody>\n",
       "</table>\n",
       "</div>"
      ],
      "text/plain": [
       "            OOS Forecasts\n",
       "date                     \n",
       "2018-02-28         0.0022\n",
       "2018-03-31        -0.0051\n",
       "2018-04-30        -0.0120\n",
       "2018-05-31        -0.0023\n",
       "2018-06-30        -0.0110"
      ]
     },
     "execution_count": 279,
     "metadata": {},
     "output_type": "execute_result"
    }
   ],
   "source": [
    "OOS_reg_predictions.head()"
   ]
  },
  {
   "cell_type": "code",
   "execution_count": 280,
   "id": "eb389cd7",
   "metadata": {},
   "outputs": [
    {
     "data": {
      "text/html": [
       "<div>\n",
       "<style scoped>\n",
       "    .dataframe tbody tr th:only-of-type {\n",
       "        vertical-align: middle;\n",
       "    }\n",
       "\n",
       "    .dataframe tbody tr th {\n",
       "        vertical-align: top;\n",
       "    }\n",
       "\n",
       "    .dataframe thead th {\n",
       "        text-align: right;\n",
       "    }\n",
       "</style>\n",
       "<table border=\"1\" class=\"dataframe\">\n",
       "  <thead>\n",
       "    <tr style=\"text-align: right;\">\n",
       "      <th></th>\n",
       "      <th>OOS Forecasts</th>\n",
       "    </tr>\n",
       "    <tr>\n",
       "      <th>date</th>\n",
       "      <th></th>\n",
       "    </tr>\n",
       "  </thead>\n",
       "  <tbody>\n",
       "    <tr>\n",
       "      <th>2023-07-31</th>\n",
       "      <td>-0.0062</td>\n",
       "    </tr>\n",
       "    <tr>\n",
       "      <th>2023-08-31</th>\n",
       "      <td>-0.0064</td>\n",
       "    </tr>\n",
       "    <tr>\n",
       "      <th>2023-09-30</th>\n",
       "      <td>-0.0070</td>\n",
       "    </tr>\n",
       "    <tr>\n",
       "      <th>2023-10-31</th>\n",
       "      <td>0.0192</td>\n",
       "    </tr>\n",
       "    <tr>\n",
       "      <th>2023-11-30</th>\n",
       "      <td>-0.0023</td>\n",
       "    </tr>\n",
       "  </tbody>\n",
       "</table>\n",
       "</div>"
      ],
      "text/plain": [
       "            OOS Forecasts\n",
       "date                     \n",
       "2023-07-31        -0.0062\n",
       "2023-08-31        -0.0064\n",
       "2023-09-30        -0.0070\n",
       "2023-10-31         0.0192\n",
       "2023-11-30        -0.0023"
      ]
     },
     "execution_count": 280,
     "metadata": {},
     "output_type": "execute_result"
    }
   ],
   "source": [
    "OOS_reg_predictions.tail()"
   ]
  },
  {
   "cell_type": "markdown",
   "id": "e219d4a1",
   "metadata": {},
   "source": [
    "### 6. \n",
    "\n",
    "#### (8pts)\n",
    "\n",
    "Report the out-of-sample r-squared, relative to a baseline forecast which is simply the mean of $\\targ$ up to the point the forecast is made.\n",
    "\n",
    "Does the forecast seem effective?"
   ]
  },
  {
   "cell_type": "code",
   "execution_count": 281,
   "id": "11a9baf1",
   "metadata": {},
   "outputs": [
    {
     "data": {
      "text/html": [
       "<div>\n",
       "<style scoped>\n",
       "    .dataframe tbody tr th:only-of-type {\n",
       "        vertical-align: middle;\n",
       "    }\n",
       "\n",
       "    .dataframe tbody tr th {\n",
       "        vertical-align: top;\n",
       "    }\n",
       "\n",
       "    .dataframe thead th {\n",
       "        text-align: right;\n",
       "    }\n",
       "</style>\n",
       "<table border=\"1\" class=\"dataframe\">\n",
       "  <thead>\n",
       "    <tr style=\"text-align: right;\">\n",
       "      <th></th>\n",
       "      <th>R-Squared</th>\n",
       "    </tr>\n",
       "  </thead>\n",
       "  <tbody>\n",
       "    <tr>\n",
       "      <th>OOS Forecasting</th>\n",
       "      <td>-0.0021</td>\n",
       "    </tr>\n",
       "  </tbody>\n",
       "</table>\n",
       "</div>"
      ],
      "text/plain": [
       "                 R-Squared\n",
       "OOS Forecasting    -0.0021"
      ]
     },
     "execution_count": 281,
     "metadata": {},
     "output_type": "execute_result"
    }
   ],
   "source": [
    "OOS_r2"
   ]
  },
  {
   "cell_type": "markdown",
   "id": "137535c6",
   "metadata": {},
   "source": [
    "The forecasting strategies do not provide positive OOS R^2. The value is -0.0021. This means that the predictive power of this model is worse than the null forecast using the historical mean to predict the future USO return. The R^2 is too low and does not have explanatory power. Thus, the forecast seem ineffective."
   ]
  },
  {
   "cell_type": "markdown",
   "id": "17b18e0f",
   "metadata": {},
   "source": [
    "### 7. \n",
    "\n",
    "Report the correlation between \n",
    "* OOS forecast\n",
    "* realized value of $\\targ$.\n",
    "\n",
    "In light of this, how effective does the forecast seem?"
   ]
  },
  {
   "cell_type": "code",
   "execution_count": 302,
   "id": "44409d49",
   "metadata": {},
   "outputs": [],
   "source": [
    "OOS_forecasted_rtn = pd.concat([baseline_predictions.T, OOS_reg_predictions.T,forecasting.loc[OOS_reg_predictions.index,['USO']].T]).T"
   ]
  },
  {
   "cell_type": "code",
   "execution_count": 303,
   "id": "8b7f866b",
   "metadata": {},
   "outputs": [
    {
     "data": {
      "image/png": "[encoded data removed]",
      "text/plain": [
       "<Figure size 1600x600 with 2 Axes>"
      ]
     },
     "metadata": {},
     "output_type": "display_data"
    }
   ],
   "source": [
    "plt.figure(figsize=(16, 6))\n",
    "heatmap = sns.heatmap(OOS_forecasted_rtn.corr(), vmin=-0.5, vmax=1, annot=True)\n",
    "heatmap.set_title('Asset Correlation Heatmap', fontdict={'fontsize':12}, pad=12);"
   ]
  },
  {
   "cell_type": "markdown",
   "id": "2983b416",
   "metadata": {},
   "source": [
    "The forecasts,baseline and OOS, is positively correlated with the actual USO levels. Only considering the correlation data, the forecast is effective. However, the R^2 is negative and quite low which indicate that forecasting USO using Tnote rates and changes is not informative. "
   ]
  },
  {
   "cell_type": "markdown",
   "id": "20fa6765",
   "metadata": {},
   "source": [
    "### 8.\n",
    "\n",
    "#### (7pts)\n",
    "\n",
    "Convert your OOS forecast to a traded return strategy, using the same allocation rule as in part 2.\n",
    "\n",
    "Report the following performance stats for the OOS forecast strategy.\n",
    "\n",
    "* mean\n",
    "* volatility\n",
    "* max-drawdown\n",
    "\n",
    "Compare these with the passive return, $r^\\targ$ over the same OOS window."
   ]
  },
  {
   "cell_type": "code",
   "execution_count": 288,
   "id": "80bc8803",
   "metadata": {},
   "outputs": [
    {
     "data": {
      "text/html": [
       "<div>\n",
       "<style scoped>\n",
       "    .dataframe tbody tr th:only-of-type {\n",
       "        vertical-align: middle;\n",
       "    }\n",
       "\n",
       "    .dataframe tbody tr th {\n",
       "        vertical-align: top;\n",
       "    }\n",
       "\n",
       "    .dataframe thead th {\n",
       "        text-align: right;\n",
       "    }\n",
       "</style>\n",
       "<table border=\"1\" class=\"dataframe\">\n",
       "  <thead>\n",
       "    <tr style=\"text-align: right;\">\n",
       "      <th></th>\n",
       "      <th>Mean</th>\n",
       "      <th>Volatility</th>\n",
       "      <th>Sharpe Ratio</th>\n",
       "      <th>Skewness</th>\n",
       "      <th>Excess Kurtosis</th>\n",
       "      <th>VaR (0.05)</th>\n",
       "      <th>CVaR (0.05)</th>\n",
       "      <th>Max Drawdown</th>\n",
       "      <th>Peak</th>\n",
       "      <th>Bottom</th>\n",
       "      <th>Recovery</th>\n",
       "    </tr>\n",
       "  </thead>\n",
       "  <tbody>\n",
       "    <tr>\n",
       "      <th>USO</th>\n",
       "      <td>-0.0042</td>\n",
       "      <td>0.3626</td>\n",
       "      <td>-0.0116</td>\n",
       "      <td>-1.0166</td>\n",
       "      <td>5.7077</td>\n",
       "      <td>-0.1626</td>\n",
       "      <td>-0.2570</td>\n",
       "      <td>-0.9471</td>\n",
       "      <td>2011-04-30</td>\n",
       "      <td>2020-04-30</td>\n",
       "      <td>NaT</td>\n",
       "    </tr>\n",
       "  </tbody>\n",
       "</table>\n",
       "</div>"
      ],
      "text/plain": [
       "       Mean  Volatility  Sharpe Ratio  Skewness  Excess Kurtosis  VaR (0.05)  \\\n",
       "USO -0.0042      0.3626       -0.0116   -1.0166           5.7077     -0.1626   \n",
       "\n",
       "     CVaR (0.05)  Max Drawdown       Peak     Bottom Recovery  \n",
       "USO      -0.2570       -0.9471 2011-04-30 2020-04-30      NaT  "
      ]
     },
     "execution_count": 288,
     "metadata": {},
     "output_type": "execute_result"
    }
   ],
   "source": [
    "performance_summary(forecasting[['USO']])"
   ]
  },
  {
   "cell_type": "code",
   "execution_count": 293,
   "id": "4c16c7c6",
   "metadata": {},
   "outputs": [
    {
     "data": {
      "text/html": [
       "<div>\n",
       "<style scoped>\n",
       "    .dataframe tbody tr th:only-of-type {\n",
       "        vertical-align: middle;\n",
       "    }\n",
       "\n",
       "    .dataframe tbody tr th {\n",
       "        vertical-align: top;\n",
       "    }\n",
       "\n",
       "    .dataframe thead th {\n",
       "        text-align: right;\n",
       "    }\n",
       "</style>\n",
       "<table border=\"1\" class=\"dataframe\">\n",
       "  <thead>\n",
       "    <tr style=\"text-align: right;\">\n",
       "      <th></th>\n",
       "      <th>Mean</th>\n",
       "      <th>Volatility</th>\n",
       "      <th>Sharpe Ratio</th>\n",
       "      <th>Skewness</th>\n",
       "      <th>Excess Kurtosis</th>\n",
       "      <th>VaR (0.05)</th>\n",
       "      <th>CVaR (0.05)</th>\n",
       "      <th>Max Drawdown</th>\n",
       "      <th>Peak</th>\n",
       "      <th>Bottom</th>\n",
       "      <th>Recovery</th>\n",
       "    </tr>\n",
       "  </thead>\n",
       "  <tbody>\n",
       "    <tr>\n",
       "      <th>OOS Forecasts Strat</th>\n",
       "      <td>0.0444</td>\n",
       "      <td>0.5190</td>\n",
       "      <td>0.0855</td>\n",
       "      <td>-1.3379</td>\n",
       "      <td>25.4674</td>\n",
       "      <td>-0.0798</td>\n",
       "      <td>-0.3143</td>\n",
       "      <td>-0.9008</td>\n",
       "      <td>2020-04-30</td>\n",
       "      <td>2020-09-30</td>\n",
       "      <td>NaT</td>\n",
       "    </tr>\n",
       "    <tr>\n",
       "      <th>Baseline Forecasts Strat</th>\n",
       "      <td>-0.0316</td>\n",
       "      <td>0.1167</td>\n",
       "      <td>-0.2708</td>\n",
       "      <td>-0.7594</td>\n",
       "      <td>18.0301</td>\n",
       "      <td>-0.0340</td>\n",
       "      <td>-0.0844</td>\n",
       "      <td>-0.3457</td>\n",
       "      <td>2020-04-30</td>\n",
       "      <td>2023-05-31</td>\n",
       "      <td>NaT</td>\n",
       "    </tr>\n",
       "  </tbody>\n",
       "</table>\n",
       "</div>"
      ],
      "text/plain": [
       "                            Mean  Volatility  Sharpe Ratio  Skewness  \\\n",
       "OOS Forecasts Strat       0.0444      0.5190        0.0855   -1.3379   \n",
       "Baseline Forecasts Strat -0.0316      0.1167       -0.2708   -0.7594   \n",
       "\n",
       "                          Excess Kurtosis  VaR (0.05)  CVaR (0.05)  \\\n",
       "OOS Forecasts Strat               25.4674     -0.0798      -0.3143   \n",
       "Baseline Forecasts Strat          18.0301     -0.0340      -0.0844   \n",
       "\n",
       "                          Max Drawdown       Peak     Bottom Recovery  \n",
       "OOS Forecasts Strat            -0.9008 2020-04-30 2020-09-30      NaT  \n",
       "Baseline Forecasts Strat       -0.3457 2020-04-30 2023-05-31      NaT  "
      ]
     },
     "execution_count": 293,
     "metadata": {},
     "output_type": "execute_result"
    }
   ],
   "source": [
    "trading_oos_ret = OOS_forecasted_rtn.copy()\n",
    "oos_trading = []\n",
    "for cols in ['OOS Forecasts','Baseline Forecasts']:\n",
    "    trading_oos_ret[cols] = (trading_oos_ret[cols])*50 + 0.2\n",
    "    strat_rtn = pd.DataFrame(trading_oos_ret[cols] *OOS_forecasted_rtn.loc[:,['USO']]['USO'], columns=[cols+' Strat'], index=OOS_forecasted_rtn.index).dropna()\n",
    "    oos_trading.append(strat_rtn.T)\n",
    "\n",
    "oos_trading_rets = pd.concat(oos_trading).T\n",
    "performance_summary(oos_trading_rets, annualization=12)"
   ]
  },
  {
   "cell_type": "code",
   "execution_count": 291,
   "id": "72f6a951",
   "metadata": {},
   "outputs": [
    {
     "data": {
      "text/html": [
       "<div>\n",
       "<style scoped>\n",
       "    .dataframe tbody tr th:only-of-type {\n",
       "        vertical-align: middle;\n",
       "    }\n",
       "\n",
       "    .dataframe tbody tr th {\n",
       "        vertical-align: top;\n",
       "    }\n",
       "\n",
       "    .dataframe thead th {\n",
       "        text-align: right;\n",
       "    }\n",
       "</style>\n",
       "<table border=\"1\" class=\"dataframe\">\n",
       "  <thead>\n",
       "    <tr style=\"text-align: right;\">\n",
       "      <th></th>\n",
       "      <th>Beta</th>\n",
       "      <th>Treynor Ratio</th>\n",
       "      <th>Information Ratio</th>\n",
       "      <th>Alpha</th>\n",
       "      <th>R-Squared</th>\n",
       "    </tr>\n",
       "  </thead>\n",
       "  <tbody>\n",
       "    <tr>\n",
       "      <th>LFD - OOS Forecasts</th>\n",
       "      <td>-0.4485</td>\n",
       "      <td>-0.4288</td>\n",
       "      <td>0.3132</td>\n",
       "      <td>0.0060</td>\n",
       "      <td>0.1526</td>\n",
       "    </tr>\n",
       "    <tr>\n",
       "      <th>LFD - Baseline Forecasts</th>\n",
       "      <td>-0.1955</td>\n",
       "      <td>0.7007</td>\n",
       "      <td>-0.5353</td>\n",
       "      <td>-0.0016</td>\n",
       "      <td>0.5731</td>\n",
       "    </tr>\n",
       "  </tbody>\n",
       "</table>\n",
       "</div>"
      ],
      "text/plain": [
       "                            Beta  Treynor Ratio  Information Ratio   Alpha  \\\n",
       "LFD - OOS Forecasts      -0.4485        -0.4288             0.3132  0.0060   \n",
       "LFD - Baseline Forecasts -0.1955         0.7007            -0.5353 -0.0016   \n",
       "\n",
       "                          R-Squared  \n",
       "LFD - OOS Forecasts          0.1526  \n",
       "LFD - Baseline Forecasts     0.5731  "
      ]
     },
     "execution_count": 291,
     "metadata": {},
     "output_type": "execute_result"
    }
   ],
   "source": [
    "oos_lfd = []\n",
    "for cols in ['OOS Forecasts','Baseline Forecasts']:\n",
    "    fund_ret = oos_trading_rets[cols+ ' Strat']\n",
    "    reg = regression_based_performance(trading_oos_ret['USO'],fund_ret,0,annualization=52)\n",
    "    beta = reg[0][0]\n",
    "    treynor_ratio = reg[1]\n",
    "    information_ratio = reg[2]\n",
    "    alpha = reg[3]\n",
    "    r_squared = reg[4]\n",
    "    oos_lfd.append(pd.DataFrame([[beta,treynor_ratio,information_ratio,alpha,r_squared]],columns=['Beta','Treynor Ratio','Information Ratio','Alpha','R-Squared'],index = ['LFD - '+cols]))\n",
    "\n",
    "oos_lfd_df = pd.concat(oos_lfd)\n",
    "oos_lfd_df"
   ]
  },
  {
   "cell_type": "markdown",
   "id": "39f49e1d",
   "metadata": {},
   "source": [
    "***"
   ]
  },
  {
   "cell_type": "markdown",
   "id": "1ad0fe9b",
   "metadata": {},
   "source": [
    "# 4. "
   ]
  },
  {
   "cell_type": "markdown",
   "id": "b8d54909",
   "metadata": {},
   "source": [
    "We examine FX carry for trading the Mexican peso $\\frn$.\n",
    "* Find the FX and risk-free rate data for this problem on sheet `fx_carry`. As before, these are spot FX prices quoted as USD per $\\frn$.\n",
    "* SOFR is the risk-free rate on USD, and $\\frnrate$ is the risk-free rate for $\\frn$.\n",
    "* As in Homework 8, the data is provided such that any row’s date, $t$, is reporting $S_t$ and $r^f_{t,t+1}$.\n",
    "That is, both of these are known at time t."
   ]
  },
  {
   "cell_type": "markdown",
   "id": "d7b43578",
   "metadata": {},
   "source": [
    "### 1.\n",
    "#### (3pts)\n",
    "\n",
    "Transform the data to **log** FX prices and **log** interest rates, just as we did in Homework 8.\n",
    "\n",
    "$$\\begin{align}\n",
    "\\fxspot_t & \\equiv \\ln\\left(\\FXspot_t\\right)\\\\[3pt]\n",
    "\\rflogusd_{\\wintt} & \\equiv \\ln\\left(1+r^{\\text{USD}}_{\\wintt}\\right)\\\\[3pt]\n",
    "\\rflogfrn_{\\wintt} & \\equiv \\ln\\left(1+r^{\\frn}_{\\wintt}\\right)\\\\\n",
    "\\end{align}$$\n",
    "\n",
    "\n",
    "Display the mean of all three series."
   ]
  },
  {
   "cell_type": "code",
   "execution_count": 54,
   "id": "636d35ea",
   "metadata": {},
   "outputs": [
    {
     "data": {
      "text/html": [
       "<div>\n",
       "<style scoped>\n",
       "    .dataframe tbody tr th:only-of-type {\n",
       "        vertical-align: middle;\n",
       "    }\n",
       "\n",
       "    .dataframe tbody tr th {\n",
       "        vertical-align: top;\n",
       "    }\n",
       "\n",
       "    .dataframe thead th {\n",
       "        text-align: right;\n",
       "    }\n",
       "</style>\n",
       "<table border=\"1\" class=\"dataframe\">\n",
       "  <thead>\n",
       "    <tr style=\"text-align: right;\">\n",
       "      <th></th>\n",
       "      <th>Mean</th>\n",
       "    </tr>\n",
       "  </thead>\n",
       "  <tbody>\n",
       "    <tr>\n",
       "      <th>MXN</th>\n",
       "      <td>-2.9813</td>\n",
       "    </tr>\n",
       "    <tr>\n",
       "      <th>SOFR</th>\n",
       "      <td>0.0001</td>\n",
       "    </tr>\n",
       "    <tr>\n",
       "      <th>MXSTR</th>\n",
       "      <td>0.0003</td>\n",
       "    </tr>\n",
       "  </tbody>\n",
       "</table>\n",
       "</div>"
      ],
      "text/plain": [
       "         Mean\n",
       "MXN   -2.9813\n",
       "SOFR   0.0001\n",
       "MXSTR  0.0003"
      ]
     },
     "execution_count": 54,
     "metadata": {},
     "output_type": "execute_result"
    }
   ],
   "source": [
    "log_fx_daily = raw_data[sheets[2]].set_index('date')\n",
    "log_fx_daily['MXN'] = np.log(fx_daily['MXN'])\n",
    "log_fx_daily['SOFR'] =   np.log(1+fx_daily['SOFR'])\n",
    "log_fx_daily['MXSTR'] =   np.log(1+fx_daily['MXSTR'])\n",
    "\n",
    "log_fx_daily.mean().to_frame('Mean')"
   ]
  },
  {
   "cell_type": "markdown",
   "id": "16c8af81",
   "metadata": {},
   "source": [
    "### 2.\n",
    "\n",
    "Calculate the excess log return to a USD investor of holding $\\frn$. Report the following **annualized** stats...\n",
    "* Mean\n",
    "* Volatility\n",
    "* Sharpe ratio.\n",
    "\n",
    "Assume there are 252 reported days per year for pursposes of annnualization."
   ]
  },
  {
   "cell_type": "code",
   "execution_count": 59,
   "id": "854a4d13",
   "metadata": {},
   "outputs": [
    {
     "data": {
      "text/html": [
       "<div>\n",
       "<style scoped>\n",
       "    .dataframe tbody tr th:only-of-type {\n",
       "        vertical-align: middle;\n",
       "    }\n",
       "\n",
       "    .dataframe tbody tr th {\n",
       "        vertical-align: top;\n",
       "    }\n",
       "\n",
       "    .dataframe thead th {\n",
       "        text-align: right;\n",
       "    }\n",
       "</style>\n",
       "<table border=\"1\" class=\"dataframe\">\n",
       "  <thead>\n",
       "    <tr style=\"text-align: right;\">\n",
       "      <th></th>\n",
       "      <th>Mean</th>\n",
       "      <th>Volatility</th>\n",
       "      <th>Sharpe Ratio</th>\n",
       "      <th>Skewness</th>\n",
       "      <th>Excess Kurtosis</th>\n",
       "      <th>VaR (0.05)</th>\n",
       "      <th>CVaR (0.05)</th>\n",
       "      <th>Max Drawdown</th>\n",
       "      <th>Peak</th>\n",
       "      <th>Bottom</th>\n",
       "      <th>Recovery</th>\n",
       "    </tr>\n",
       "    <tr>\n",
       "      <th>Currency Held</th>\n",
       "      <th></th>\n",
       "      <th></th>\n",
       "      <th></th>\n",
       "      <th></th>\n",
       "      <th></th>\n",
       "      <th></th>\n",
       "      <th></th>\n",
       "      <th></th>\n",
       "      <th></th>\n",
       "      <th></th>\n",
       "      <th></th>\n",
       "    </tr>\n",
       "  </thead>\n",
       "  <tbody>\n",
       "    <tr>\n",
       "      <th>MXN</th>\n",
       "      <td>0.0667</td>\n",
       "      <td>0.1286</td>\n",
       "      <td>0.5186</td>\n",
       "      <td>-0.7722</td>\n",
       "      <td>6.3175</td>\n",
       "      <td>-0.0131</td>\n",
       "      <td>-0.0202</td>\n",
       "      <td>-0.2615</td>\n",
       "      <td>2020-02-14</td>\n",
       "      <td>2020-03-23</td>\n",
       "      <td>2022-03-24</td>\n",
       "    </tr>\n",
       "  </tbody>\n",
       "</table>\n",
       "</div>"
      ],
      "text/plain": [
       "                Mean  Volatility  Sharpe Ratio  Skewness  Excess Kurtosis  \\\n",
       "Currency Held                                                               \n",
       "MXN           0.0667      0.1286        0.5186   -0.7722           6.3175   \n",
       "\n",
       "               VaR (0.05)  CVaR (0.05)  Max Drawdown       Peak     Bottom  \\\n",
       "Currency Held                                                                \n",
       "MXN               -0.0131      -0.0202       -0.2615 2020-02-14 2020-03-23   \n",
       "\n",
       "                Recovery  \n",
       "Currency Held             \n",
       "MXN           2022-03-24  "
      ]
     },
     "execution_count": 59,
     "metadata": {},
     "output_type": "execute_result"
    }
   ],
   "source": [
    "fx_hldg_excess_ret = log_fx_daily['MXN'].diff() + log_fx_daily['MXSTR'].shift(1) - log_fx_daily['SOFR'].shift(1)\n",
    "fx_hldg_summary = performance_summary(fx_hldg_excess_ret.to_frame().dropna(),annualization=252)\n",
    "fx_hldg_summary.index = ['MXN']\n",
    "fx_hldg_summary.index.name = 'Currency Held'\n",
    "fx_hldg_summary"
   ]
  },
  {
   "cell_type": "markdown",
   "id": "882a14ec",
   "metadata": {},
   "source": [
    "### 3. \n",
    "\n",
    "Over the sample, was it better to be long or short $\\frn$ relative to USD?\n",
    "* Did the interest spread help on average?\n",
    "* Did the USD appreciate or depreciate relative to $\\frn$ over the sample?"
   ]
  },
  {
   "cell_type": "markdown",
   "id": "7a9863aa",
   "metadata": {},
   "source": [
    "Over the sample, a long position in GBP would have offered positive returns. Thus it was better to be long MXN relative to USD. \n",
    "\n",
    "Over the sample, the average interest rate spread between USD and MXN (MXN - USD) was positive and thus did help an investor holding MXN. \n",
    "\n",
    "Over the sample, the MXN-USD exchange rate increased, indicating that the USD deppreciated relative to MXN. \n"
   ]
  },
  {
   "cell_type": "code",
   "execution_count": 60,
   "id": "b63909b0",
   "metadata": {},
   "outputs": [
    {
     "data": {
      "text/html": [
       "<div>\n",
       "<style scoped>\n",
       "    .dataframe tbody tr th:only-of-type {\n",
       "        vertical-align: middle;\n",
       "    }\n",
       "\n",
       "    .dataframe tbody tr th {\n",
       "        vertical-align: top;\n",
       "    }\n",
       "\n",
       "    .dataframe thead th {\n",
       "        text-align: right;\n",
       "    }\n",
       "</style>\n",
       "<table border=\"1\" class=\"dataframe\">\n",
       "  <thead>\n",
       "    <tr style=\"text-align: right;\">\n",
       "      <th></th>\n",
       "      <th>Mean</th>\n",
       "    </tr>\n",
       "  </thead>\n",
       "  <tbody>\n",
       "    <tr>\n",
       "      <th>Interest Rate Spread</th>\n",
       "      <td>0.0002</td>\n",
       "    </tr>\n",
       "  </tbody>\n",
       "</table>\n",
       "</div>"
      ],
      "text/plain": [
       "                       Mean\n",
       "Interest Rate Spread 0.0002"
      ]
     },
     "execution_count": 60,
     "metadata": {},
     "output_type": "execute_result"
    }
   ],
   "source": [
    "pd.DataFrame([[(log_fx_daily['MXSTR'].shift(1) - log_fx_daily['SOFR'].shift(1)).mean()]],columns = ['Mean'], index=['Interest Rate Spread'])"
   ]
  },
  {
   "cell_type": "markdown",
   "id": "966c2e52",
   "metadata": {},
   "source": [
    "### 4.\n",
    "\n",
    "#### (7pts)\n",
    "\n",
    "Forecast the growth of the FX rate using the interest-rate differential:\n",
    "\n",
    "$$\\fxspot_{t+1} - \\fxspot_t = \\alpha + \\beta\\left(\\rflogusd_{\\wintt} - \\rflogfrn_{\\wintt}\\right) + \\epsilon_{t+1}$$\n",
    "\n",
    "Report the following OLS stats, (no need to annualize or scale them.)\n",
    "* $\\alpha$\n",
    "* $\\beta$\n",
    "* r-squared"
   ]
  },
  {
   "cell_type": "code",
   "execution_count": 61,
   "id": "d14ddd14",
   "metadata": {},
   "outputs": [
    {
     "data": {
      "text/html": [
       "<div>\n",
       "<style scoped>\n",
       "    .dataframe tbody tr th:only-of-type {\n",
       "        vertical-align: middle;\n",
       "    }\n",
       "\n",
       "    .dataframe tbody tr th {\n",
       "        vertical-align: top;\n",
       "    }\n",
       "\n",
       "    .dataframe thead th {\n",
       "        text-align: right;\n",
       "    }\n",
       "</style>\n",
       "<table border=\"1\" class=\"dataframe\">\n",
       "  <thead>\n",
       "    <tr style=\"text-align: right;\">\n",
       "      <th></th>\n",
       "      <th>Alpha</th>\n",
       "      <th>Beta</th>\n",
       "      <th>R-Squared</th>\n",
       "    </tr>\n",
       "  </thead>\n",
       "  <tbody>\n",
       "    <tr>\n",
       "      <th>MXN</th>\n",
       "      <td>0.0012</td>\n",
       "      <td>5.4428</td>\n",
       "      <td>0.0004</td>\n",
       "    </tr>\n",
       "  </tbody>\n",
       "</table>\n",
       "</div>"
      ],
      "text/plain": [
       "     Alpha   Beta  R-Squared\n",
       "MXN 0.0012 5.4428     0.0004"
      ]
     },
     "execution_count": 61,
     "metadata": {},
     "output_type": "execute_result"
    }
   ],
   "source": [
    "factor = log_fx_daily['SOFR'].shift(1) - log_fx_daily['MXSTR'].shift(1)\n",
    "strat = log_fx_daily['MXN'].diff()\n",
    "reg = regression_based_performance(factor,strat,0,annualization = 1)\n",
    "beta_currency = reg[0][0]\n",
    "treynor_ratio = reg[1]\n",
    "information_ratio = reg[2]\n",
    "alpha = reg[3]\n",
    "r_squared = reg[4]\n",
    "fx_hldg_reg_summary = pd.DataFrame([[alpha,beta_currency,r_squared]],columns=['Alpha','Beta','R-Squared'],index = ['MXN'])\n",
    "fx_hldg_reg_summary"
   ]
  },
  {
   "cell_type": "markdown",
   "id": "c0853d98",
   "metadata": {},
   "source": [
    "### 5. \n",
    "\n",
    "If we assume the Uncovered Interest Parity to hold true, what would you expect to be true of the regression estimates?"
   ]
  },
  {
   "cell_type": "markdown",
   "id": "c8742c4f",
   "metadata": {},
   "source": [
    "UIP states that the change in the spot fx rate would be completely explained by the changes in risk free rates. Thus, we would expect : beta to be 1. alpha to be 0. We would have NO insight about the R^2. This is only a theory about averages, so no implication on  𝑅2"
   ]
  },
  {
   "cell_type": "markdown",
   "id": "451d9df9",
   "metadata": {},
   "source": [
    "### 6.\n",
    "\n",
    "Based on the regression results, if we observe an increase in the interest rate on USD relative to $\\frn$, should we expect the USD to get stronger (appreciate) or weaker (depreciate)?"
   ]
  },
  {
   "cell_type": "markdown",
   "id": "5c5c0d2a",
   "metadata": {},
   "source": [
    "A strengthening U.S. dollar means that it now buys more of the other currency than it did before.If risk-free rate of a currency were to increase relative to the US rate, the currencies with a negative beta in the previous regression would see a decrease in the fx rates (USD per foreign currency). This indicates that there will be a relative weakening of the USD as a dollar would now buy more of those currencies. MXN has a negative beta to USD. Thus, USD would experience a relative weakening relative to MXN. \n",
    "\n",
    "From the regression, if MXSTR gets bigger relative to SOFR, regressor is getting more negative. Previous estimated beta is negative, so combined with decreasing regressor, we expect left-hand-side gets bigger. That is to say, FX rate gets bigger, which means dollar is depreciating (weakening.)"
   ]
  },
  {
   "cell_type": "markdown",
   "id": "82badb39",
   "metadata": {},
   "source": [
    "### 7.\n",
    "\n",
    "If the risk free rates in $\\frn$ increase relative to risk-free rates in USD, do we expect the forward exchange rate to be higher than the spot exchange rate?"
   ]
  },
  {
   "cell_type": "markdown",
   "id": "c2561235",
   "metadata": {},
   "source": [
    "According to Interest rate parity, a currency with lower interest rates will trade at a forward premium in relation to a currency with a higher interest rate. Thus if the risk free rates in USD increase relative to risk-free rates in MXN, we expect the forward exchange rate to be higher than the spot exchange rate. "
   ]
  },
  {
   "cell_type": "markdown",
   "id": "a5176e26",
   "metadata": {},
   "source": [
    "### 8.\n",
    "\n",
    "Do you think the estimated forecast impact of rates on currency returns would be larger over an annual horizon instead of a daily horizon? Why?"
   ]
  },
  {
   "cell_type": "markdown",
   "id": "40a88489",
   "metadata": {},
   "source": [
    "the estimated forecast impact of rates on currency returns would be larger over an annual horizon instead of a daily horizon. Accumulated Interest Differential: Over an annual horizon, the interest rate differential between two currencies accumulates, resulting in a more significant impact on currency returns. Investors holding a higher-yielding currency over a year will earn a more substantial interest income compared to a daily investment. This accumulated interest income can influence the overall return on the investment and contribute to a larger impact on currency returns."
   ]
  },
  {
   "cell_type": "markdown",
   "id": "c9eb0321",
   "metadata": {},
   "source": [
    "***"
   ]
  }
 ],
 "metadata": {
  "hide_input": false,
  "kernelspec": {
   "display_name": "Python 3 (ipykernel)",
   "language": "python",
   "name": "python3"
  },
  "language_info": {
   "codemirror_mode": {
    "name": "ipython",
    "version": 3
   },
   "file_extension": ".py",
   "mimetype": "text/x-python",
   "name": "python",
   "nbconvert_exporter": "python",
   "pygments_lexer": "ipython3",
   "version": "3.8.8"
  }
 },
 "nbformat": 4,
 "nbformat_minor": 5
}
